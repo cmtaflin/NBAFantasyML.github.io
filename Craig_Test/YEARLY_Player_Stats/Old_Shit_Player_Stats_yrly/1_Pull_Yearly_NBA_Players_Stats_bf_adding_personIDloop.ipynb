{
 "cells": [
  {
   "cell_type": "code",
   "execution_count": 1,
   "metadata": {},
   "outputs": [],
   "source": [
    "# Dependencies and Setup\n",
    "import json\n",
    "import pandas as pd\n",
    "import requests"
   ]
  },
  {
   "cell_type": "code",
   "execution_count": null,
   "metadata": {},
   "outputs": [],
   "source": [
    "Test[]"
   ]
  },
  {
   "cell_type": "code",
   "execution_count": 34,
   "metadata": {},
   "outputs": [
    {
     "data": {
      "text/plain": [
       "'http://data.nba.net/prod/v1/2018/players/203518_profile.json'"
      ]
     },
     "execution_count": 34,
     "metadata": {},
     "output_type": "execute_result"
    }
   ],
   "source": [
    "#Bring in data from internet as object then convert ot Json\n",
    "URL1=\"http://data.nba.net/prod/v1/2018/players/\"\n",
    "URL2=\"_profile.json\"\n",
    "personID=\"203518\"\n",
    "URL_pull=URL1+personID+URL2\n",
    "URL_pull"
   ]
  },
  {
   "cell_type": "code",
   "execution_count": 31,
   "metadata": {},
   "outputs": [
    {
     "name": "stdout",
     "output_type": "stream",
     "text": [
      "['203518']\n",
      "http://data.nba.net/prod/v1/2018/players/['203518']_profile.json\n"
     ]
    }
   ],
   "source": [
    "# for player in players: \n",
    "#     print(players)\n",
    "#     PersonID= str(players)\n",
    "#     URL_pull=URL1+PersonID+URL2\n",
    "#     print(URL_pull)"
   ]
  },
  {
   "cell_type": "code",
   "execution_count": 35,
   "metadata": {},
   "outputs": [],
   "source": [
    "player_response_obj=requests.get(URL_pull)\n",
    "player_response=player_response_obj.json()"
   ]
  },
  {
   "cell_type": "code",
   "execution_count": 14,
   "metadata": {
    "scrolled": true
   },
   "outputs": [],
   "source": [
    "# Count # of Players\n",
    "# player_response_count=player_response[\"league\"][\"standard\"][\"stats\"][\"regularSeason\"][\"season\"]\n",
    "# player_response_count\n",
    "Player_stats_yr=[]\n",
    "Seasons_needed=[2015,2016,2017]\n",
    "for season_test in player_response[\"league\"][\"standard\"][\"stats\"][\"regularSeason\"][\"season\"]:\n",
    "    season_dict = {}\n",
    "    season_dict[\"personID\"]=PersonID\n",
    "    season_dict[\"seasonYear\"] = season_test[\"seasonYear\"]\n",
    "    season_dict[\"ppg\"]= season_test[\"total\"][\"ppg\"]\n",
    "    season_dict[\"rpg\"]= season_test[\"total\"][\"rpg\"]\n",
    "    season_dict[\"apg\"]= season_test[\"total\"][\"apg\"]\n",
    "    season_dict[\"mpg\"]= season_test[\"total\"][\"mpg\"]\n",
    "    season_dict[\"topg\"]= season_test[\"total\"][\"topg\"]\n",
    "    season_dict[\"spg\"]= season_test[\"total\"][\"spg\"]\n",
    "    season_dict[\"bpg\"]= season_test[\"total\"][\"bpg\"]\n",
    "    season_dict[\"tpp\"]= season_test[\"total\"][\"tpp\"]\n",
    "    season_dict[\"ftp\"]= season_test[\"total\"][\"ftp\"]\n",
    "    season_dict[\"fgp\"]= season_test[\"total\"][\"fgp\"]\n",
    "    season_dict[\"assists\"]= season_test[\"total\"][\"assists\"]\n",
    "    season_dict[\"blocks\"]= season_test[\"total\"][\"blocks\"]\n",
    "    season_dict[\"steals\"]= season_test[\"total\"][\"steals\"]\n",
    "    season_dict[\"turnovers\"]= season_test[\"total\"][\"turnovers\"]\n",
    "    season_dict[\"offReb\"]= season_test[\"total\"][\"offReb\"]\n",
    "    season_dict[\"defReb\"]= season_test[\"total\"][\"defReb\"]\n",
    "    season_dict[\"totReb\"]= season_test[\"total\"][\"totReb\"]\n",
    "    season_dict[\"fgm\"]= season_test[\"total\"][\"fgm\"]\n",
    "    season_dict[\"fga\"]= season_test[\"total\"][\"fga\"]\n",
    "    season_dict[\"tpm\"]= season_test[\"total\"][\"tpm\"]\n",
    "    season_dict[\"tpa\"]= season_test[\"total\"][\"tpa\"]\n",
    "    season_dict[\"ftm\"]= season_test[\"total\"][\"ftm\"]\n",
    "    season_dict[\"fta\"]= season_test[\"total\"][\"fta\"]\n",
    "    season_dict[\"pFouls\"]= season_test[\"total\"][\"pFouls\"]\n",
    "    season_dict[\"points\"]= season_test[\"total\"][\"points\"]\n",
    "    season_dict[\"gamesPlayed\"]= season_test[\"total\"][\"gamesPlayed\"]\n",
    "    season_dict[\"gamesStarted\"]= season_test[\"total\"][\"gamesStarted\"]\n",
    "    season_dict[\"plusMinus\"]= season_test[\"total\"][\"plusMinus\"]\n",
    "    season_dict[\"min\"]= season_test[\"total\"][\"min\"]\n",
    "    season_dict[\"dd2\"]= season_test[\"total\"][\"dd2\"]\n",
    "    season_dict[\"td3\"]= season_test[\"total\"][\"td3\"]\n",
    "    \n",
    "#     Append Player_stats_year\n",
    "    Player_stats_yr.append({\"seasonYear\": season_dict[\"seasonYear\"],\n",
    "                            \"ppg\": season_dict[\"ppg\"],\n",
    "                            \"rpg\": season_dict[\"rpg\"],\n",
    "                            \"apg\": season_dict[\"apg\"],\n",
    "                            \"mpg\": season_dict[\"mpg\"],\n",
    "                            \"topg\": season_dict[\"topg\"],\n",
    "                            \"spg\": season_dict[\"spg\"],\n",
    "                            \"bpg\": season_dict[\"bpg\"],\n",
    "                            \"tpp\": season_dict[\"tpp\"],\n",
    "                            \"ftp\": season_dict[\"ftp\"],\n",
    "                            \"fgp\": season_dict[\"fgp\"],\n",
    "                            \"assists\": season_dict[\"assists\"],\n",
    "                            \"blocks\": season_dict[\"blocks\"],\n",
    "                            \"steals\": season_dict[\"steals\"],\n",
    "                            \"turnovers\": season_dict[\"turnovers\"],\n",
    "                            \"offReb\": season_dict[\"offReb\"],\n",
    "                            \"defReb\": season_dict[\"defReb\"],\n",
    "                            \"totReb\": season_dict[\"totReb\"],\n",
    "                            \"fgm\": season_dict[\"fgm\"],\n",
    "                            \"fga\": season_dict[\"fga\"],\n",
    "                            \"tpm\": season_dict[\"tpm\"],\n",
    "                            \"tpa\": season_dict[\"tpa\"],\n",
    "                            \"ftm\": season_dict[\"ftm\"],\n",
    "                            \"fta\": season_dict[\"fta\"],\n",
    "                            \"pFouls\": season_dict[\"pFouls\"],\n",
    "                            \"points\": season_dict[\"points\"],\n",
    "                            \"gamesPlayed\": season_dict[\"gamesPlayed\"],\n",
    "                            \"gamesStarted\": season_dict[\"gamesStarted\"],\n",
    "                            \"plusMinus\": season_dict[\"plusMinus\"],\n",
    "                            \"min\": season_dict[\"min\"],\n",
    "                            \"dd2\": season_dict[\"dd2\"],\n",
    "                            \"td3\": season_dict[\"td3\"]})"
   ]
  },
  {
   "cell_type": "code",
   "execution_count": 15,
   "metadata": {},
   "outputs": [
    {
     "name": "stdout",
     "output_type": "stream",
     "text": [
      "[{'seasonYear': 2018, 'ppg': '5.6', 'rpg': '1.6', 'apg': '0.7', 'mpg': '19.8', 'topg': '0.5', 'spg': '0.6', 'bpg': '0.2', 'tpp': '32.3', 'ftp': '92.3', 'fgp': '35.9', 'assists': '20', 'blocks': '6', 'steals': '17', 'turnovers': '14', 'offReb': '5', 'defReb': '42', 'totReb': '47', 'fgm': '55', 'fga': '153', 'tpm': '40', 'tpa': '124', 'ftm': '12', 'fta': '13', 'pFouls': '51', 'points': '162', 'gamesPlayed': '29', 'gamesStarted': '2', 'plusMinus': '33', 'min': '573', 'dd2': '0', 'td3': '0'}, {'seasonYear': 2017, 'ppg': '4.7', 'rpg': '1.5', 'apg': '0.4', 'mpg': '15.1', 'topg': '0.3', 'spg': '0.5', 'bpg': '0.1', 'tpp': '38', 'ftp': '84.8', 'fgp': '39.5', 'assists': '28', 'blocks': '8', 'steals': '38', 'turnovers': '25', 'offReb': '26', 'defReb': '88', 'totReb': '114', 'fgm': '115', 'fga': '291', 'tpm': '84', 'tpa': '221', 'ftm': '39', 'fta': '46', 'pFouls': '124', 'points': '353', 'gamesPlayed': '75', 'gamesStarted': '8', 'plusMinus': '36', 'min': '1134', 'dd2': '0', 'td3': '0'}, {'seasonYear': 2016, 'ppg': '6', 'rpg': '1.3', 'apg': '0.6', 'mpg': '15.5', 'topg': '0.5', 'spg': '0.5', 'bpg': '0.1', 'tpp': '38.1', 'ftp': '89.8', 'fgp': '39.3', 'assists': '40', 'blocks': '8', 'steals': '37', 'turnovers': '33', 'offReb': '18', 'defReb': '68', 'totReb': '86', 'fgm': '134', 'fga': '341', 'tpm': '94', 'tpa': '247', 'ftm': '44', 'fta': '49', 'pFouls': '114', 'points': '406', 'gamesPlayed': '68', 'gamesStarted': '6', 'plusMinus': '-1', 'min': '1055', 'dd2': '0', 'td3': '0'}]\n"
     ]
    }
   ],
   "source": [
    "print(Player_stats_yr)"
   ]
  }
 ],
 "metadata": {
  "kernelspec": {
   "display_name": "Python 3",
   "language": "python",
   "name": "python3"
  },
  "language_info": {
   "codemirror_mode": {
    "name": "ipython",
    "version": 3
   },
   "file_extension": ".py",
   "mimetype": "text/x-python",
   "name": "python",
   "nbconvert_exporter": "python",
   "pygments_lexer": "ipython3",
   "version": "3.6.5"
  }
 },
 "nbformat": 4,
 "nbformat_minor": 2
}
