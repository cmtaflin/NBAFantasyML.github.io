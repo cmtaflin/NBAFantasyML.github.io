{
 "cells": [
  {
   "cell_type": "code",
   "execution_count": 1,
   "metadata": {},
   "outputs": [],
   "source": [
    "# Dependencies and Setup\n",
    "import json\n",
    "import pandas as pd\n",
    "import requests"
   ]
  },
  {
   "cell_type": "code",
   "execution_count": 12,
   "metadata": {},
   "outputs": [],
   "source": [
    "# Bring in data as object jasonified\n",
    "player_name_personID_obj=requests.get(\"http://data.nba.net/prod/v1/2018/players.json\")\n",
    "player_name_personID_request=player_name_personID_obj.json()"
   ]
  },
  {
   "cell_type": "code",
   "execution_count": 20,
   "metadata": {
    "scrolled": true
   },
   "outputs": [
    {
     "name": "stdout",
     "output_type": "stream",
     "text": [
      "['203518', '203112', '1629121', '203500', '1628389', '1629061', '200746', '1628959', '1628960', '1628386', '1628443', '202329', '1626147', '203937', '201583', '1628387', '203507', '1628961', '2546', '1628384', '1627853', '2772', '201571', '1629028', '1628407', '1628963', '1627735', '1628366', '1628964', '200826', '203084', '203115', '1628966', '201587', '201573', '203382', '203145', '203078', '1627736', '201563', '201158', '1628395', '1627761', '1627733', '202722', '201976', '203920', '1628444', '202687', '202357', '1628469', '202339', '1628417', '1629129', '203992', '202711', '1628413', '1629067', '1626164', '1628449', '202340', '1628396', '201147', '1628969', '1628970', '1628515', '1629151', '1627763', '1628415', '1628971', '1627759', '1628425', '1628972', '1628973', '1628418', '203493', '203504', '202692', '1629126', '202710', '203998', '101181', '203484', '203991', '201960', '1628975', '1713', '1628976', '1627936', '201956', '1626161', '1628505', '1628463', '2199', '201163', '1629147', '1627737', '1629109', '203546', '203903', '1628381', '1628380', '201954', '1629045', '201144', '1626192', '1626188', '202326', '203496', '203459', '1628470', '2037', '203109', '201967', '203552', '201939', '203584', '203076', '202334', '203473', '1626155', '1629116', '203521', '2736', '201942', '1629094', '1627767', '1628977', '203476', '203915', '1628978', '1629029', '1628416', '1628422', '1628408', '201609', '203083', '201162', '1627739', '201142', '1628979', '1629053', '1627740', '201961', '203954', '203516', '1629234', '1628980', '1628393', '201936', '203957', '202702', '202324', '1626245', '101109', '1628390', '1627812', '1627827', '1627854', '203095', '1628368', '204025', '1628982', '101112', '1628365', '1629117', '201568', '204038', '201188', '2200', '200752', '202331', '201959', '1628385', '1628983', '203497', '1629164', '203932', '201569', '101162', '1628984', '1626203', '203924', '1626170', '1629055', '201980', '203110', '101123', '203210', '201145', '201933', '1627772', '203501', '201935', '203090', '1626149', '2734', '203914', '203925', '202699', '1627885', '1628404', '1628392', '2617', '202330', '203089', '1627823', '1626195', '1626209', '1628439', '1627208', '1627741', '1629312', '201588', '203524', '1628988', '201950', '203200', '1626178', '1626158', '203918', '201143', '1627863', '2730', '1628989', '1626154', '1628990', '201586', '2738', '101141', '204060', '1627742', '202681', '1628371', '1628411', '1628402', '1628367', '1628382', '202704', '1628991', '2544', '1628518', '201973', '1628993', '101161', '201949', '1626169', '204020', '202325', '203999', '1627745', '1626145', '1627884', '201599', '202709', '1626163', '202683', '1628379', '203077', '1628994', '1628467', '202688', '1628995', '1627788', '1628436', '2594', '201585', '1629066', '1628398', '1627746', '203087', '203897', '1627774', '1628388', '201584', '1627814', '203458', '202695', '203086', '202720', '1627747', '203081', '202391', '2733', '1626172', '201572', '201577', '201567', '200768', '1628070', '203564', '1627789', '1628399', '1626168', '202714', '1629133', '1629122', '101133', '1627748', '1626246', '1628374', '1626185', '1628412', '1628999', '202083', '201601', '1627775', '203468', '204456', '203926', '201580', '203585', '1628035', '203463', '203895', '1626257', '1629001', '1629002', '203114', '101139', '203121', '201988', '200794', '1629003', '202703', '1628378', '1628513', '1628370', '202328', '1628500', '202734', '1628537', '202694', '202693', '1628420', '1628405', '202389', '1626144', '1627749', '1627750', '1629058', '203488', '1629004', '1627846', '1626204', '203894', '2403', '203526', '1627777', '201149', '203457', '1717', '1628373', '203994', '1628021', '1626220', '203124', '1628400', '1626143', '1629059', '1629006', '203506', '203482', '1626224', '1626162', '2585', '203953', '2225', '202718', '202335', '1628383', '101108', '1626166', '203901', '1627780', '1629033', '203486', '203101', '1627751', '202347', '1629008', '203490', '1626171', '204001', '203939', '1626181', '1627816', '1627752', '1628397', '1626184', '203944', '2216', '200755', '1628432', '1626196', '1627781', '203085', '203460', '1628421', '1629130', '1629010', '1629011', '203922', '200765', '201565', '203082', '1626179', '201937', '1626156', '1627734', '1629102', '203967', '203107', '203471', '203118', '200757', '1627782', '1629012', '1629013', '202697', '1627783', '1627732', '203613', '1629014', '203935', '202397', '201160', '2747', '1629015', '1628372', '203503', '1629034', '1629016', '203917', '202362', '1628410', '1628403', '1628369', '201952', '202066', '1628462', '1629123', '1628464', '202738', '1629017', '202498', '202691', '202684', '1628414', '201229', '1626157', '1629018', '1629019', '200782', '202323', '1626167', '202327', '202685', '1627756', '1629020', '1627832', '203943', '202696', '2548', '1629021', '203079', '202689', '1629022', '202322', '1627820', '202954', '203933', '1627395', '1629139', '1629118', '201566', '1628401', '1627785', '202355', '203952', '1626210', '203710', '1629140', '1629026', '101150', '101107', '1627786', '1629057', '1628391', '1626159', '1626174', '1626153', '1627824', '201152', '1629027', '203469', '1627790', '1627826']\n"
     ]
    }
   ],
   "source": [
    "# Loop through data and pull out data\n",
    "\n",
    "NBA_player_list=[]\n",
    "for players in player_name_personID_request[\"league\"][\"standard\"]:\n",
    "    player_list_dict={}\n",
    "    player_list_dict[\"personId\"]=players[\"personId\"]\n",
    "    player_list_dict[\"lastName\"]=players[\"lastName\"]\n",
    "    player_list_dict[\"firstName\"]=players[\"firstName\"]\n",
    "    \n",
    "# Append NBA_player_list= personID \n",
    "    NBA_player_list.append(player_list_dict[\"personId\"])\n",
    "print(NBA_player_list)"
   ]
  },
  {
   "cell_type": "code",
   "execution_count": 19,
   "metadata": {},
   "outputs": [
    {
     "data": {
      "text/plain": [
       "498"
      ]
     },
     "execution_count": 19,
     "metadata": {},
     "output_type": "execute_result"
    }
   ],
   "source": [
    "NBA_player_list# Count # of Players\n",
    "player_response_count=player_name_personID_request[\"league\"][\"standard\"]\n",
    "player_count=len(player_response_count)\n",
    "player_count"
   ]
  },
  {
   "cell_type": "code",
   "execution_count": 4,
   "metadata": {},
   "outputs": [
    {
     "data": {
      "text/html": [
       "<div>\n",
       "<style scoped>\n",
       "    .dataframe tbody tr th:only-of-type {\n",
       "        vertical-align: middle;\n",
       "    }\n",
       "\n",
       "    .dataframe tbody tr th {\n",
       "        vertical-align: top;\n",
       "    }\n",
       "\n",
       "    .dataframe thead th {\n",
       "        text-align: right;\n",
       "    }\n",
       "</style>\n",
       "<table border=\"1\" class=\"dataframe\">\n",
       "  <thead>\n",
       "    <tr style=\"text-align: right;\">\n",
       "      <th></th>\n",
       "      <th>0</th>\n",
       "    </tr>\n",
       "  </thead>\n",
       "  <tbody>\n",
       "    <tr>\n",
       "      <th>0</th>\n",
       "      <td>203518</td>\n",
       "    </tr>\n",
       "    <tr>\n",
       "      <th>1</th>\n",
       "      <td>203112</td>\n",
       "    </tr>\n",
       "    <tr>\n",
       "      <th>2</th>\n",
       "      <td>1629121</td>\n",
       "    </tr>\n",
       "    <tr>\n",
       "      <th>3</th>\n",
       "      <td>203500</td>\n",
       "    </tr>\n",
       "    <tr>\n",
       "      <th>4</th>\n",
       "      <td>1628389</td>\n",
       "    </tr>\n",
       "  </tbody>\n",
       "</table>\n",
       "</div>"
      ],
      "text/plain": [
       "         0\n",
       "0   203518\n",
       "1   203112\n",
       "2  1629121\n",
       "3   203500\n",
       "4  1628389"
      ]
     },
     "execution_count": 4,
     "metadata": {},
     "output_type": "execute_result"
    }
   ],
   "source": [
    "NBA_player_list_df=pd.DataFrame(data=NBA_player_list)\n",
    "NBA_player_list_df.head()"
   ]
  },
  {
   "cell_type": "code",
   "execution_count": 17,
   "metadata": {},
   "outputs": [
    {
     "ename": "SyntaxError",
     "evalue": "invalid syntax (<ipython-input-17-da7d75c62a9d>, line 3)",
     "output_type": "error",
     "traceback": [
      "\u001b[1;36m  File \u001b[1;32m\"<ipython-input-17-da7d75c62a9d>\"\u001b[1;36m, line \u001b[1;32m3\u001b[0m\n\u001b[1;33m    for range(0,player_count)\u001b[0m\n\u001b[1;37m                             ^\u001b[0m\n\u001b[1;31mSyntaxError\u001b[0m\u001b[1;31m:\u001b[0m invalid syntax\n"
     ]
    }
   ],
   "source": [
    "player_URL=[]\n",
    "x\n",
    "while \n",
    "for range(0,player_count)\n",
    "        print(num_players)"
   ]
  },
  {
   "cell_type": "code",
   "execution_count": 23,
   "metadata": {},
   "outputs": [
    {
     "data": {
      "text/html": [
       "<div>\n",
       "<style scoped>\n",
       "    .dataframe tbody tr th:only-of-type {\n",
       "        vertical-align: middle;\n",
       "    }\n",
       "\n",
       "    .dataframe tbody tr th {\n",
       "        vertical-align: top;\n",
       "    }\n",
       "\n",
       "    .dataframe thead th {\n",
       "        text-align: right;\n",
       "    }\n",
       "</style>\n",
       "<table border=\"1\" class=\"dataframe\">\n",
       "  <thead>\n",
       "    <tr style=\"text-align: right;\">\n",
       "      <th></th>\n",
       "      <th>personId</th>\n",
       "      <th>seasonYear</th>\n",
       "      <th>ppg</th>\n",
       "      <th>apg</th>\n",
       "    </tr>\n",
       "  </thead>\n",
       "  <tbody>\n",
       "    <tr>\n",
       "      <th>0</th>\n",
       "      <td>203518</td>\n",
       "      <td>2018</td>\n",
       "      <td>5.6</td>\n",
       "      <td>0.7</td>\n",
       "    </tr>\n",
       "    <tr>\n",
       "      <th>1</th>\n",
       "      <td>203518</td>\n",
       "      <td>2017</td>\n",
       "      <td>4.7</td>\n",
       "      <td>0.4</td>\n",
       "    </tr>\n",
       "    <tr>\n",
       "      <th>2</th>\n",
       "      <td>203518</td>\n",
       "      <td>2016</td>\n",
       "      <td>6</td>\n",
       "      <td>0.6</td>\n",
       "    </tr>\n",
       "  </tbody>\n",
       "</table>\n",
       "</div>"
      ],
      "text/plain": [
       "  personId  seasonYear  ppg  apg\n",
       "0   203518        2018  5.6  0.7\n",
       "1   203518        2017  4.7  0.4\n",
       "2   203518        2016    6  0.6"
      ]
     },
     "execution_count": 23,
     "metadata": {},
     "output_type": "execute_result"
    }
   ],
   "source": [
    "\n",
    "URL1=\"http://data.nba.net/prod/v1/2018/players/\"\n",
    "URL2=NBA_player_list[number_chosen]\n",
    "URL3=\"_profile.json\"\n",
    "URL_pull=URL1+URL2+URL3\n",
    "player_URL.append(URL_pull)\n",
    "player_response_obj=requests.get(player_URL_Chosen)\n",
    "player_response=player_response_obj.json()\n",
    "\n",
    "# Count # of Players\n",
    "# player_response_count=player_response[\"league\"][\"standard\"][\"stats\"][\"regularSeason\"][\"season\"]\n",
    "# player_response_count\n",
    "Player_stats_yr=[]\n",
    "Seasons_needed=[2015,2016,2017]\n",
    "for season_test in player_response[\"league\"][\"standard\"][\"stats\"][\"regularSeason\"][\"season\"]:\n",
    "    season_dict = {}\n",
    "    season_dict[\"seasonYear\"] = season_test[\"seasonYear\"]\n",
    "    season_dict[\"ppg\"]= season_test[\"total\"][\"ppg\"]\n",
    "    season_dict[\"rpg\"]= season_test[\"total\"][\"rpg\"]\n",
    "    season_dict[\"apg\"]= season_test[\"total\"][\"apg\"]\n",
    "    season_dict[\"mpg\"]= season_test[\"total\"][\"mpg\"]\n",
    "    season_dict[\"topg\"]= season_test[\"total\"][\"topg\"]\n",
    "    season_dict[\"spg\"]= season_test[\"total\"][\"spg\"]\n",
    "    season_dict[\"bpg\"]= season_test[\"total\"][\"bpg\"]\n",
    "    season_dict[\"tpp\"]= season_test[\"total\"][\"tpp\"]\n",
    "    season_dict[\"ftp\"]= season_test[\"total\"][\"ftp\"]\n",
    "    season_dict[\"fgp\"]= season_test[\"total\"][\"fgp\"]\n",
    "    season_dict[\"assists\"]= season_test[\"total\"][\"assists\"]\n",
    "    season_dict[\"blocks\"]= season_test[\"total\"][\"blocks\"]\n",
    "    season_dict[\"steals\"]= season_test[\"total\"][\"steals\"]\n",
    "    season_dict[\"turnovers\"]= season_test[\"total\"][\"turnovers\"]\n",
    "    season_dict[\"offReb\"]= season_test[\"total\"][\"offReb\"]\n",
    "    season_dict[\"defReb\"]= season_test[\"total\"][\"defReb\"]\n",
    "    season_dict[\"totReb\"]= season_test[\"total\"][\"totReb\"]\n",
    "    season_dict[\"fgm\"]= season_test[\"total\"][\"fgm\"]\n",
    "    season_dict[\"fga\"]= season_test[\"total\"][\"fga\"]\n",
    "    season_dict[\"tpm\"]= season_test[\"total\"][\"tpm\"]\n",
    "    season_dict[\"tpa\"]= season_test[\"total\"][\"tpa\"]\n",
    "    season_dict[\"ftm\"]= season_test[\"total\"][\"ftm\"]\n",
    "    season_dict[\"fta\"]= season_test[\"total\"][\"fta\"]\n",
    "    season_dict[\"pFouls\"]= season_test[\"total\"][\"pFouls\"]\n",
    "    season_dict[\"points\"]= season_test[\"total\"][\"points\"]\n",
    "    season_dict[\"gamesPlayed\"]= season_test[\"total\"][\"gamesPlayed\"]\n",
    "    season_dict[\"gamesStarted\"]= season_test[\"total\"][\"gamesStarted\"]\n",
    "    season_dict[\"plusMinus\"]= season_test[\"total\"][\"plusMinus\"]\n",
    "    season_dict[\"min\"]= season_test[\"total\"][\"min\"]\n",
    "    season_dict[\"dd2\"]= season_test[\"total\"][\"dd2\"]\n",
    "    season_dict[\"td3\"]= season_test[\"total\"][\"td3\"]\n",
    "    \n",
    "#     Append Player_stats_year\n",
    "    Player_stats_yr.append({\"personId\":URL2,\n",
    "                            \"seasonYear\": season_dict[\"seasonYear\"],\n",
    "                            \"ppg\": season_dict[\"ppg\"],\n",
    "                            \"rpg\": season_dict[\"rpg\"],\n",
    "                            \"apg\": season_dict[\"apg\"],\n",
    "                            \"mpg\": season_dict[\"mpg\"],\n",
    "                            \"topg\": season_dict[\"topg\"],\n",
    "                            \"spg\": season_dict[\"spg\"],\n",
    "                            \"bpg\": season_dict[\"bpg\"],\n",
    "                            \"tpp\": season_dict[\"tpp\"],\n",
    "                            \"ftp\": season_dict[\"ftp\"],\n",
    "                            \"fgp\": season_dict[\"fgp\"],\n",
    "                            \"assists\": season_dict[\"assists\"],\n",
    "                            \"blocks\": season_dict[\"blocks\"],\n",
    "                            \"steals\": season_dict[\"steals\"],\n",
    "                            \"turnovers\": season_dict[\"turnovers\"],\n",
    "                            \"offReb\": season_dict[\"offReb\"],\n",
    "                            \"defReb\": season_dict[\"defReb\"],\n",
    "                            \"totReb\": season_dict[\"totReb\"],\n",
    "                            \"fgm\": season_dict[\"fgm\"],\n",
    "                            \"fga\": season_dict[\"fga\"],\n",
    "                            \"tpm\": season_dict[\"tpm\"],\n",
    "                            \"tpa\": season_dict[\"tpa\"],\n",
    "                            \"ftm\": season_dict[\"ftm\"],\n",
    "                            \"fta\": season_dict[\"fta\"],\n",
    "                            \"pFouls\": season_dict[\"pFouls\"],\n",
    "                            \"points\": season_dict[\"points\"],\n",
    "                            \"gamesPlayed\": season_dict[\"gamesPlayed\"],\n",
    "                            \"gamesStarted\": season_dict[\"gamesStarted\"],\n",
    "                            \"plusMinus\": season_dict[\"plusMinus\"],\n",
    "                            \"min\": season_dict[\"min\"],\n",
    "                            \"dd2\": season_dict[\"dd2\"],\n",
    "                            \"td3\": season_dict[\"td3\"]})\n",
    "pretty_view=pd.DataFrame(Player_stats_yr)\n",
    "pretty_view_test=pretty_view[[\"personId\",\"seasonYear\",\"ppg\",\"apg\"]]\n",
    "pretty_view_test"
   ]
  },
  {
   "cell_type": "code",
   "execution_count": null,
   "metadata": {},
   "outputs": [],
   "source": [
    "# backup below\n",
    "end"
   ]
  },
  {
   "cell_type": "code",
   "execution_count": 6,
   "metadata": {},
   "outputs": [
    {
     "data": {
      "text/plain": [
       "'http://data.nba.net/prod/v1/2018/players/203518_profile.json'"
      ]
     },
     "execution_count": 6,
     "metadata": {},
     "output_type": "execute_result"
    }
   ],
   "source": [
    "player_URL_Chosen=player_URL[number_chosen]\n",
    "player_URL_Chosen"
   ]
  },
  {
   "cell_type": "code",
   "execution_count": 14,
   "metadata": {
    "scrolled": false
   },
   "outputs": [],
   "source": [
    "player_response_obj=requests.get(player_URL_Chosen)\n",
    "player_response=player_response_obj.json()"
   ]
  },
  {
   "cell_type": "code",
   "execution_count": 8,
   "metadata": {
    "scrolled": true
   },
   "outputs": [],
   "source": [
    "# Count # of Players\n",
    "# player_response_count=player_response[\"league\"][\"standard\"][\"stats\"][\"regularSeason\"][\"season\"]\n",
    "# player_response_count\n",
    "Player_stats_yr=[]\n",
    "Seasons_needed=[2015,2016,2017]\n",
    "for season_test in player_response[\"league\"][\"standard\"][\"stats\"][\"regularSeason\"][\"season\"]:\n",
    "    season_dict = {}\n",
    "    season_dict[\"seasonYear\"] = season_test[\"seasonYear\"]\n",
    "    season_dict[\"ppg\"]= season_test[\"total\"][\"ppg\"]\n",
    "    season_dict[\"rpg\"]= season_test[\"total\"][\"rpg\"]\n",
    "    season_dict[\"apg\"]= season_test[\"total\"][\"apg\"]\n",
    "    season_dict[\"mpg\"]= season_test[\"total\"][\"mpg\"]\n",
    "    season_dict[\"topg\"]= season_test[\"total\"][\"topg\"]\n",
    "    season_dict[\"spg\"]= season_test[\"total\"][\"spg\"]\n",
    "    season_dict[\"bpg\"]= season_test[\"total\"][\"bpg\"]\n",
    "    season_dict[\"tpp\"]= season_test[\"total\"][\"tpp\"]\n",
    "    season_dict[\"ftp\"]= season_test[\"total\"][\"ftp\"]\n",
    "    season_dict[\"fgp\"]= season_test[\"total\"][\"fgp\"]\n",
    "    season_dict[\"assists\"]= season_test[\"total\"][\"assists\"]\n",
    "    season_dict[\"blocks\"]= season_test[\"total\"][\"blocks\"]\n",
    "    season_dict[\"steals\"]= season_test[\"total\"][\"steals\"]\n",
    "    season_dict[\"turnovers\"]= season_test[\"total\"][\"turnovers\"]\n",
    "    season_dict[\"offReb\"]= season_test[\"total\"][\"offReb\"]\n",
    "    season_dict[\"defReb\"]= season_test[\"total\"][\"defReb\"]\n",
    "    season_dict[\"totReb\"]= season_test[\"total\"][\"totReb\"]\n",
    "    season_dict[\"fgm\"]= season_test[\"total\"][\"fgm\"]\n",
    "    season_dict[\"fga\"]= season_test[\"total\"][\"fga\"]\n",
    "    season_dict[\"tpm\"]= season_test[\"total\"][\"tpm\"]\n",
    "    season_dict[\"tpa\"]= season_test[\"total\"][\"tpa\"]\n",
    "    season_dict[\"ftm\"]= season_test[\"total\"][\"ftm\"]\n",
    "    season_dict[\"fta\"]= season_test[\"total\"][\"fta\"]\n",
    "    season_dict[\"pFouls\"]= season_test[\"total\"][\"pFouls\"]\n",
    "    season_dict[\"points\"]= season_test[\"total\"][\"points\"]\n",
    "    season_dict[\"gamesPlayed\"]= season_test[\"total\"][\"gamesPlayed\"]\n",
    "    season_dict[\"gamesStarted\"]= season_test[\"total\"][\"gamesStarted\"]\n",
    "    season_dict[\"plusMinus\"]= season_test[\"total\"][\"plusMinus\"]\n",
    "    season_dict[\"min\"]= season_test[\"total\"][\"min\"]\n",
    "    season_dict[\"dd2\"]= season_test[\"total\"][\"dd2\"]\n",
    "    season_dict[\"td3\"]= season_test[\"total\"][\"td3\"]\n",
    "    \n",
    "#     Append Player_stats_year\n",
    "    Player_stats_yr.append({\"personId\":URL2,\n",
    "                            \"seasonYear\": season_dict[\"seasonYear\"],\n",
    "                            \"ppg\": season_dict[\"ppg\"],\n",
    "                            \"rpg\": season_dict[\"rpg\"],\n",
    "                            \"apg\": season_dict[\"apg\"],\n",
    "                            \"mpg\": season_dict[\"mpg\"],\n",
    "                            \"topg\": season_dict[\"topg\"],\n",
    "                            \"spg\": season_dict[\"spg\"],\n",
    "                            \"bpg\": season_dict[\"bpg\"],\n",
    "                            \"tpp\": season_dict[\"tpp\"],\n",
    "                            \"ftp\": season_dict[\"ftp\"],\n",
    "                            \"fgp\": season_dict[\"fgp\"],\n",
    "                            \"assists\": season_dict[\"assists\"],\n",
    "                            \"blocks\": season_dict[\"blocks\"],\n",
    "                            \"steals\": season_dict[\"steals\"],\n",
    "                            \"turnovers\": season_dict[\"turnovers\"],\n",
    "                            \"offReb\": season_dict[\"offReb\"],\n",
    "                            \"defReb\": season_dict[\"defReb\"],\n",
    "                            \"totReb\": season_dict[\"totReb\"],\n",
    "                            \"fgm\": season_dict[\"fgm\"],\n",
    "                            \"fga\": season_dict[\"fga\"],\n",
    "                            \"tpm\": season_dict[\"tpm\"],\n",
    "                            \"tpa\": season_dict[\"tpa\"],\n",
    "                            \"ftm\": season_dict[\"ftm\"],\n",
    "                            \"fta\": season_dict[\"fta\"],\n",
    "                            \"pFouls\": season_dict[\"pFouls\"],\n",
    "                            \"points\": season_dict[\"points\"],\n",
    "                            \"gamesPlayed\": season_dict[\"gamesPlayed\"],\n",
    "                            \"gamesStarted\": season_dict[\"gamesStarted\"],\n",
    "                            \"plusMinus\": season_dict[\"plusMinus\"],\n",
    "                            \"min\": season_dict[\"min\"],\n",
    "                            \"dd2\": season_dict[\"dd2\"],\n",
    "                            \"td3\": season_dict[\"td3\"]})"
   ]
  },
  {
   "cell_type": "code",
   "execution_count": 9,
   "metadata": {},
   "outputs": [
    {
     "data": {
      "text/html": [
       "<div>\n",
       "<style scoped>\n",
       "    .dataframe tbody tr th:only-of-type {\n",
       "        vertical-align: middle;\n",
       "    }\n",
       "\n",
       "    .dataframe tbody tr th {\n",
       "        vertical-align: top;\n",
       "    }\n",
       "\n",
       "    .dataframe thead th {\n",
       "        text-align: right;\n",
       "    }\n",
       "</style>\n",
       "<table border=\"1\" class=\"dataframe\">\n",
       "  <thead>\n",
       "    <tr style=\"text-align: right;\">\n",
       "      <th></th>\n",
       "      <th>seasonYear</th>\n",
       "      <th>personId</th>\n",
       "      <th>ppg</th>\n",
       "    </tr>\n",
       "  </thead>\n",
       "  <tbody>\n",
       "    <tr>\n",
       "      <th>0</th>\n",
       "      <td>2018</td>\n",
       "      <td>203518</td>\n",
       "      <td>5.6</td>\n",
       "    </tr>\n",
       "    <tr>\n",
       "      <th>1</th>\n",
       "      <td>2017</td>\n",
       "      <td>203518</td>\n",
       "      <td>4.7</td>\n",
       "    </tr>\n",
       "    <tr>\n",
       "      <th>2</th>\n",
       "      <td>2016</td>\n",
       "      <td>203518</td>\n",
       "      <td>6</td>\n",
       "    </tr>\n",
       "  </tbody>\n",
       "</table>\n",
       "</div>"
      ],
      "text/plain": [
       "   seasonYear personId  ppg\n",
       "0        2018   203518  5.6\n",
       "1        2017   203518  4.7\n",
       "2        2016   203518    6"
      ]
     },
     "execution_count": 9,
     "metadata": {},
     "output_type": "execute_result"
    }
   ],
   "source": [
    "pretty_view=pd.DataFrame(Player_stats_yr)\n",
    "pretty_view_test=pretty_view[[\"seasonYear\",\"personId\",\"ppg\"]]\n",
    "pretty_view_test"
   ]
  },
  {
   "cell_type": "code",
   "execution_count": null,
   "metadata": {},
   "outputs": [],
   "source": []
  }
 ],
 "metadata": {
  "kernelspec": {
   "display_name": "Python 3",
   "language": "python",
   "name": "python3"
  },
  "language_info": {
   "codemirror_mode": {
    "name": "ipython",
    "version": 3
   },
   "file_extension": ".py",
   "mimetype": "text/x-python",
   "name": "python",
   "nbconvert_exporter": "python",
   "pygments_lexer": "ipython3",
   "version": "3.6.5"
  }
 },
 "nbformat": 4,
 "nbformat_minor": 2
}
