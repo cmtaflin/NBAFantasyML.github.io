{
 "cells": [
  {
   "cell_type": "code",
   "execution_count": 1,
   "metadata": {},
   "outputs": [],
   "source": [
    "# Dependencies and Setup\n",
    "import json\n",
    "import pandas as pd\n",
    "import requests\n",
    "import numpy as py\n",
    "from sqlalchemy.ext.declarative import declarative_base\n",
    "Base = declarative_base()\n",
    "from sqlalchemy import Column, Integer, String, Float, Date\n",
    "import pymysql\n",
    "pymysql.install_as_MySQLdb()\n",
    "from sqlalchemy import create_engine, inspect, func, distinct\n",
    "from sqlalchemy.ext.automap import automap_base\n",
    "from sqlalchemy.orm import Session\n",
    "import sqlite3"
   ]
  },
  {
   "cell_type": "code",
   "execution_count": 2,
   "metadata": {},
   "outputs": [],
   "source": [
    "from sqlite3 import Error"
   ]
  },
  {
   "cell_type": "code",
   "execution_count": 3,
   "metadata": {},
   "outputs": [],
   "source": [
    "engine = create_engine(\"sqlite:///../SqLIte_files/NBAfantasyML.sqlite\")\n",
    "conn = engine.connect()"
   ]
  },
  {
   "cell_type": "code",
   "execution_count": 4,
   "metadata": {},
   "outputs": [],
   "source": [
    "# create function to try and connect to a sqlite database.  if it doesn't work, create one...\n",
    "def create_connection(db_file):\n",
    "    try:\n",
    "        conn = sqlite3.connect(db_file)\n",
    "        print(sqlite3.version)\n",
    "    except Error as e:\n",
    "        print(e)\n",
    "    finally:\n",
    "        conn.close()"
   ]
  },
  {
   "cell_type": "code",
   "execution_count": 5,
   "metadata": {},
   "outputs": [
    {
     "name": "stdout",
     "output_type": "stream",
     "text": [
      "2.6.0\n"
     ]
    }
   ],
   "source": [
    "if __name__ == '__main__':\n",
    "    create_connection(\"../SqLIte_files/NBAfantasyML.sqlite\")"
   ]
  },
  {
   "cell_type": "code",
   "execution_count": 6,
   "metadata": {},
   "outputs": [],
   "source": [
    "# Bring in data as object jasonified\n",
    "player_name_personID_obj=requests.get(\"http://data.nba.net/prod/v1/2018/players.json\")\n",
    "player_name_personID_request=player_name_personID_obj.json()"
   ]
  },
  {
   "cell_type": "code",
   "execution_count": 7,
   "metadata": {
    "scrolled": true
   },
   "outputs": [],
   "source": [
    "# Loop through data and pull out data\n",
    "\n",
    "NBA_player_list=[]\n",
    "for players in player_name_personID_request[\"league\"][\"standard\"]:\n",
    "    player_list_dict={}\n",
    "    player_list_dict[\"personId\"]=players[\"personId\"]\n",
    "    player_list_dict[\"lastName\"]=players[\"lastName\"]\n",
    "    player_list_dict[\"firstName\"]=players[\"firstName\"]\n",
    "    \n",
    "# Append NBA_player_list= personID \n",
    "    NBA_player_list.append(player_list_dict[\"personId\"])"
   ]
  },
  {
   "cell_type": "code",
   "execution_count": 8,
   "metadata": {},
   "outputs": [
    {
     "data": {
      "text/plain": [
       "499"
      ]
     },
     "execution_count": 8,
     "metadata": {},
     "output_type": "execute_result"
    }
   ],
   "source": [
    "NBA_player_list# Count # of Players\n",
    "player_response_count=player_name_personID_request[\"league\"][\"standard\"]\n",
    "player_count=len(player_response_count)\n",
    "player_count"
   ]
  },
  {
   "cell_type": "code",
   "execution_count": 9,
   "metadata": {},
   "outputs": [
    {
     "data": {
      "text/html": [
       "<div>\n",
       "<style scoped>\n",
       "    .dataframe tbody tr th:only-of-type {\n",
       "        vertical-align: middle;\n",
       "    }\n",
       "\n",
       "    .dataframe tbody tr th {\n",
       "        vertical-align: top;\n",
       "    }\n",
       "\n",
       "    .dataframe thead th {\n",
       "        text-align: right;\n",
       "    }\n",
       "</style>\n",
       "<table border=\"1\" class=\"dataframe\">\n",
       "  <thead>\n",
       "    <tr style=\"text-align: right;\">\n",
       "      <th></th>\n",
       "      <th>0</th>\n",
       "    </tr>\n",
       "  </thead>\n",
       "  <tbody>\n",
       "    <tr>\n",
       "      <th>0</th>\n",
       "      <td>203518</td>\n",
       "    </tr>\n",
       "    <tr>\n",
       "      <th>1</th>\n",
       "      <td>203112</td>\n",
       "    </tr>\n",
       "    <tr>\n",
       "      <th>2</th>\n",
       "      <td>1629121</td>\n",
       "    </tr>\n",
       "    <tr>\n",
       "      <th>3</th>\n",
       "      <td>203500</td>\n",
       "    </tr>\n",
       "    <tr>\n",
       "      <th>4</th>\n",
       "      <td>1628389</td>\n",
       "    </tr>\n",
       "  </tbody>\n",
       "</table>\n",
       "</div>"
      ],
      "text/plain": [
       "         0\n",
       "0   203518\n",
       "1   203112\n",
       "2  1629121\n",
       "3   203500\n",
       "4  1628389"
      ]
     },
     "execution_count": 9,
     "metadata": {},
     "output_type": "execute_result"
    }
   ],
   "source": [
    "NBA_player_list_df=pd.DataFrame(data=NBA_player_list)\n",
    "NBA_player_list_df.head()"
   ]
  },
  {
   "cell_type": "code",
   "execution_count": 10,
   "metadata": {},
   "outputs": [],
   "source": [
    "Player_stats_yr=[]"
   ]
  },
  {
   "cell_type": "code",
   "execution_count": 11,
   "metadata": {},
   "outputs": [
    {
     "ename": "AttributeError",
     "evalue": "'int' object has no attribute 'astype'",
     "output_type": "error",
     "traceback": [
      "\u001b[1;31m---------------------------------------------------------------------------\u001b[0m",
      "\u001b[1;31mAttributeError\u001b[0m                            Traceback (most recent call last)",
      "\u001b[1;32m<ipython-input-11-0f060ae7ceac>\u001b[0m in \u001b[0;36m<module>\u001b[1;34m()\u001b[0m\n\u001b[0;32m     14\u001b[0m     \u001b[1;32mfor\u001b[0m \u001b[0mseason_test\u001b[0m \u001b[1;32min\u001b[0m \u001b[0mplayer_response\u001b[0m\u001b[1;33m[\u001b[0m\u001b[1;34m\"league\"\u001b[0m\u001b[1;33m]\u001b[0m\u001b[1;33m[\u001b[0m\u001b[1;34m\"standard\"\u001b[0m\u001b[1;33m]\u001b[0m\u001b[1;33m[\u001b[0m\u001b[1;34m\"stats\"\u001b[0m\u001b[1;33m]\u001b[0m\u001b[1;33m[\u001b[0m\u001b[1;34m\"regularSeason\"\u001b[0m\u001b[1;33m]\u001b[0m\u001b[1;33m[\u001b[0m\u001b[1;34m\"season\"\u001b[0m\u001b[1;33m]\u001b[0m\u001b[1;33m:\u001b[0m\u001b[1;33m\u001b[0m\u001b[0m\n\u001b[0;32m     15\u001b[0m         \u001b[0mseason_dict\u001b[0m \u001b[1;33m=\u001b[0m \u001b[1;33m{\u001b[0m\u001b[1;33m}\u001b[0m\u001b[1;33m\u001b[0m\u001b[0m\n\u001b[1;32m---> 16\u001b[1;33m         \u001b[0mseason_dict\u001b[0m\u001b[1;33m[\u001b[0m\u001b[1;34m\"seasonYear\"\u001b[0m\u001b[1;33m]\u001b[0m \u001b[1;33m=\u001b[0m \u001b[0mseason_test\u001b[0m\u001b[1;33m[\u001b[0m\u001b[1;34m\"seasonYear\"\u001b[0m\u001b[1;33m]\u001b[0m\u001b[1;33m.\u001b[0m\u001b[0mastype\u001b[0m\u001b[1;33m(\u001b[0m\u001b[0mfloat\u001b[0m\u001b[1;33m)\u001b[0m\u001b[1;33m\u001b[0m\u001b[0m\n\u001b[0m\u001b[0;32m     17\u001b[0m         \u001b[0mseason_dict\u001b[0m\u001b[1;33m[\u001b[0m\u001b[1;34m\"ppg\"\u001b[0m\u001b[1;33m]\u001b[0m\u001b[1;33m=\u001b[0m \u001b[0mseason_test\u001b[0m\u001b[1;33m[\u001b[0m\u001b[1;34m\"total\"\u001b[0m\u001b[1;33m]\u001b[0m\u001b[1;33m[\u001b[0m\u001b[1;34m\"ppg\"\u001b[0m\u001b[1;33m]\u001b[0m\u001b[1;33m.\u001b[0m\u001b[0mastype\u001b[0m\u001b[1;33m(\u001b[0m\u001b[0mfloat\u001b[0m\u001b[1;33m)\u001b[0m\u001b[1;33m\u001b[0m\u001b[0m\n\u001b[0;32m     18\u001b[0m         \u001b[0mseason_dict\u001b[0m\u001b[1;33m[\u001b[0m\u001b[1;34m\"rpg\"\u001b[0m\u001b[1;33m]\u001b[0m\u001b[1;33m=\u001b[0m \u001b[0mseason_test\u001b[0m\u001b[1;33m[\u001b[0m\u001b[1;34m\"total\"\u001b[0m\u001b[1;33m]\u001b[0m\u001b[1;33m[\u001b[0m\u001b[1;34m\"rpg\"\u001b[0m\u001b[1;33m]\u001b[0m\u001b[1;33m.\u001b[0m\u001b[0mastype\u001b[0m\u001b[1;33m(\u001b[0m\u001b[0mfloat\u001b[0m\u001b[1;33m)\u001b[0m\u001b[1;33m\u001b[0m\u001b[0m\n",
      "\u001b[1;31mAttributeError\u001b[0m: 'int' object has no attribute 'astype'"
     ]
    }
   ],
   "source": [
    "for i in range(0,player_count):\n",
    "    number_chosen_lst=i\n",
    "    URL1=\"http://data.nba.net/prod/v1/2018/players/\"\n",
    "    URL2= NBA_player_list[number_chosen_lst]\n",
    "    URL3=\"_profile.json\"\n",
    "    URL_pull=URL1+URL2+URL3\n",
    "    player_response_obj=requests.get(URL_pull)\n",
    "    player_response=player_response_obj.json()\n",
    "\n",
    "    # Count # of Players\n",
    "    # player_response_count=player_response[\"league\"][\"standard\"][\"stats\"][\"regularSeason\"][\"season\"]\n",
    "    # player_response_count\n",
    "    Seasons_needed=[2015,2016,2017]\n",
    "    for season_test in player_response[\"league\"][\"standard\"][\"stats\"][\"regularSeason\"][\"season\"]:\n",
    "        season_dict = {}\n",
    "        season_dict[\"seasonYear\"] = season_test[\"seasonYear\"].astype(float)\n",
    "        season_dict[\"ppg\"]= season_test[\"total\"][\"ppg\"].astype(float)\n",
    "        season_dict[\"rpg\"]= season_test[\"total\"][\"rpg\"].astype(float)\n",
    "        season_dict[\"apg\"]= season_test[\"total\"][\"apg\"].astype(float)\n",
    "        season_dict[\"mpg\"]= season_test[\"total\"][\"mpg\"].astype(float)\n",
    "        season_dict[\"topg\"]= season_test[\"total\"][\"topg\"].astype(float)\n",
    "        season_dict[\"spg\"]= season_test[\"total\"][\"spg\"].astype(float)\n",
    "        season_dict[\"bpg\"]= season_test[\"total\"][\"bpg\"].astype(float)\n",
    "        season_dict[\"tpp\"]= season_test[\"total\"][\"tpp\"].astype(float)\n",
    "        season_dict[\"ftp\"]= season_test[\"total\"][\"ftp\"].astype(float)\n",
    "        season_dict[\"fgp\"]= season_test[\"total\"][\"fgp\"].astype(float)\n",
    "        season_dict[\"assists\"]= season_test[\"total\"][\"assists\"].astype(float)\n",
    "        season_dict[\"blocks\"]= season_test[\"total\"][\"blocks\"].astype(float)\n",
    "        season_dict[\"steals\"]= season_test[\"total\"][\"steals\"].astype(float)\n",
    "        season_dict[\"turnovers\"]= season_test[\"total\"][\"turnovers\"].astype(float)\n",
    "        season_dict[\"offReb\"]= season_test[\"total\"][\"offReb\"].astype(float)\n",
    "        season_dict[\"defReb\"]= season_test[\"total\"][\"defReb\"].astype(float)\n",
    "        season_dict[\"totReb\"]= season_test[\"total\"][\"totReb\"].astype(float)\n",
    "        season_dict[\"fgm\"]= season_test[\"total\"][\"fgm\"].astype(float)\n",
    "        season_dict[\"fga\"]= season_test[\"total\"][\"fga\"].astype(float)\n",
    "        season_dict[\"tpm\"]= season_test[\"total\"][\"tpm\"].astype(float)\n",
    "        season_dict[\"tpa\"]= season_test[\"total\"][\"tpa\"].astype(float)\n",
    "        season_dict[\"ftm\"]= season_test[\"total\"][\"ftm\"].astype(float)\n",
    "        season_dict[\"fta\"]= season_test[\"total\"][\"fta\"].astype(float)\n",
    "        season_dict[\"pFouls\"]= season_test[\"total\"][\"pFouls\"].astype(float)\n",
    "        season_dict[\"points\"]= season_test[\"total\"][\"points\"].astype(float)\n",
    "        season_dict[\"gamesPlayed\"]= season_test[\"total\"][\"gamesPlayed\"].astype(float)\n",
    "        season_dict[\"gamesStarted\"]= season_test[\"total\"][\"gamesStarted\"].astype(float)\n",
    "        season_dict[\"plusMinus\"]= season_test[\"total\"][\"plusMinus\"].astype(float)\n",
    "        season_dict[\"min\"]= season_test[\"total\"][\"min\"].astype(float)\n",
    "        season_dict[\"dd2\"]= season_test[\"total\"][\"dd2\"].astype(float)\n",
    "        season_dict[\"td3\"]= season_test[\"total\"][\"td3\"].astype(float)\n",
    "\n",
    "#     Append Player_stats_year\n",
    "        Player_stats_yr.append({\"personId\": URL2,\n",
    "                                \"seasonYear\": season_dict[\"seasonYear\"],\n",
    "                                \"PTG\": season_dict[\"ppg\"],\n",
    "                                \"TRB\": season_dict[\"rpg\"],\n",
    "                                \"AST\": season_dict[\"apg\"],\n",
    "                                \"mpg\": season_dict[\"mpg\"],\n",
    "                                \"TOV\": season_dict[\"topg\"],\n",
    "                                \"STL\": season_dict[\"spg\"],\n",
    "                                \"BLK\": season_dict[\"bpg\"],\n",
    "                                \"tpp\": season_dict[\"tpp\"],\n",
    "                                \"FTP\": season_dict[\"ftp\"],\n",
    "                                \"FGP\": season_dict[\"fgp\"],\n",
    "                                \"assists\": season_dict[\"assists\"],\n",
    "                                \"blocks\": season_dict[\"blocks\"],\n",
    "                                \"steals\": season_dict[\"steals\"],\n",
    "                                \"turnovers\": season_dict[\"turnovers\"],\n",
    "                                \"offReb\": season_dict[\"offReb\"],\n",
    "                                \"defReb\": season_dict[\"defReb\"],\n",
    "                                \"totReb\": season_dict[\"totReb\"],\n",
    "                                \"FG\": season_dict[\"fgm\"],\n",
    "                                \"FGA\": season_dict[\"fga\"],\n",
    "                                \"TPP\": season_dict[\"tpm\"],\n",
    "                                \"tpa\": season_dict[\"tpa\"],\n",
    "                                \"FT\": season_dict[\"ftm\"],\n",
    "                                \"FTA\": season_dict[\"fta\"],\n",
    "                                \"pFouls\": season_dict[\"pFouls\"],\n",
    "                                \"points\": season_dict[\"points\"],\n",
    "                                \"gamesPlayed\": season_dict[\"gamesPlayed\"],\n",
    "                                \"gamesStarted\": season_dict[\"gamesStarted\"],\n",
    "                                \"plusMinus\": season_dict[\"plusMinus\"],\n",
    "                                \"min\": season_dict[\"min\"],\n",
    "                                \"dd2\": season_dict[\"dd2\"],\n",
    "                                \"td3\": season_dict[\"td3\"]})\n",
    "       "
   ]
  },
  {
   "cell_type": "code",
   "execution_count": null,
   "metadata": {},
   "outputs": [],
   "source": [
    "Player_stats_yr_df=pd.DataFrame.from_dict(Player_stats_yr)\n",
    "Player_stats_yr_df.head()"
   ]
  },
  {
   "cell_type": "code",
   "execution_count": null,
   "metadata": {
    "scrolled": true
   },
   "outputs": [],
   "source": [
    "playerYearlyStatsAllYearsdf=pd.DataFrame(Player_stats_yr)\n",
    "player_yr_stats=playerYearlyStatsAllYearsdf[[\"personId\",\"seasonYear\",\"FG\",\"FGA\",\"FGP\",\"TPP\",\"FT\",\"FTP\",\"TRB\",\n",
    "                                              \"AST\",\"STL\",\"BLK\",\"TOV\",\"PTG\"]]\n",
    "player_yr_stats.dtypes"
   ]
  },
  {
   "cell_type": "code",
   "execution_count": null,
   "metadata": {},
   "outputs": [],
   "source": [
    "player_yr_stats.dropna()['FG']"
   ]
  },
  {
   "cell_type": "code",
   "execution_count": null,
   "metadata": {},
   "outputs": [],
   "source": [
    "# Load Yearly Players Stats to SqLite\n",
    "player_yr_stats.to_sql('Yearly_Player_Stats',conn, if_exists='replace', index=False)"
   ]
  }
 ],
 "metadata": {
  "kernelspec": {
   "display_name": "Python 3",
   "language": "python",
   "name": "python3"
  },
  "language_info": {
   "codemirror_mode": {
    "name": "ipython",
    "version": 3
   },
   "file_extension": ".py",
   "mimetype": "text/x-python",
   "name": "python",
   "nbconvert_exporter": "python",
   "pygments_lexer": "ipython3",
   "version": "3.6.5"
  }
 },
 "nbformat": 4,
 "nbformat_minor": 2
}
