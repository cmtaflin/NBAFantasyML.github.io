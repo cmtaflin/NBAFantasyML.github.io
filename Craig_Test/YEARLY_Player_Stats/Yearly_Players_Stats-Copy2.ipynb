{
 "cells": [
  {
   "cell_type": "code",
   "execution_count": 1,
   "metadata": {},
   "outputs": [],
   "source": [
    "# Dependencies and Setup\n",
    "import json\n",
    "import pandas as pd\n",
    "import requests\n",
    "import numpy as py\n",
    "from sqlalchemy.ext.declarative import declarative_base\n",
    "Base = declarative_base()\n",
    "from sqlalchemy import Column, Integer, String, Float, Date\n",
    "import pymysql\n",
    "pymysql.install_as_MySQLdb()\n",
    "from sqlalchemy import create_engine, inspect, func, distinct\n",
    "from sqlalchemy.ext.automap import automap_base\n",
    "from sqlalchemy.orm import Session\n",
    "import sqlite3"
   ]
  },
  {
   "cell_type": "code",
   "execution_count": 2,
   "metadata": {},
   "outputs": [],
   "source": [
    "from sqlite3 import Error"
   ]
  },
  {
   "cell_type": "code",
   "execution_count": 3,
   "metadata": {},
   "outputs": [],
   "source": [
    "engine = create_engine(\"sqlite:///../SqLIte_files/NBAfantasyML.sqlite\")\n",
    "conn = engine.connect()"
   ]
  },
  {
   "cell_type": "code",
   "execution_count": 4,
   "metadata": {},
   "outputs": [],
   "source": [
    "# create function to try and connect to a sqlite database.  if it doesn't work, create one...\n",
    "def create_connection(db_file):\n",
    "    try:\n",
    "        conn = sqlite3.connect(db_file)\n",
    "        print(sqlite3.version)\n",
    "    except Error as e:\n",
    "        print(e)\n",
    "    finally:\n",
    "        conn.close()"
   ]
  },
  {
   "cell_type": "code",
   "execution_count": 5,
   "metadata": {},
   "outputs": [
    {
     "name": "stdout",
     "output_type": "stream",
     "text": [
      "2.6.0\n"
     ]
    }
   ],
   "source": [
    "if __name__ == '__main__':\n",
    "    create_connection(\"../SqLIte_files/NBAfantasyML.sqlite\")"
   ]
  },
  {
   "cell_type": "code",
   "execution_count": 6,
   "metadata": {},
   "outputs": [],
   "source": [
    "# Bring in data as object jasonified\n",
    "player_name_personID_obj=requests.get(\"http://data.nba.net/prod/v1/2018/players.json\")\n",
    "player_name_personID_request=player_name_personID_obj.json()"
   ]
  },
  {
   "cell_type": "code",
   "execution_count": 7,
   "metadata": {
    "scrolled": true
   },
   "outputs": [],
   "source": [
    "# Loop through data and pull out data\n",
    "\n",
    "NBA_player_list=[]\n",
    "for players in player_name_personID_request[\"league\"][\"standard\"]:\n",
    "    player_list_dict={}\n",
    "    player_list_dict[\"personId\"]=players[\"personId\"]\n",
    "    player_list_dict[\"lastName\"]=players[\"lastName\"]\n",
    "    player_list_dict[\"firstName\"]=players[\"firstName\"]\n",
    "    \n",
    "# Append NBA_player_list= personID \n",
    "    NBA_player_list.append(player_list_dict[\"personId\"])"
   ]
  },
  {
   "cell_type": "code",
   "execution_count": 8,
   "metadata": {},
   "outputs": [
    {
     "data": {
      "text/plain": [
       "499"
      ]
     },
     "execution_count": 8,
     "metadata": {},
     "output_type": "execute_result"
    }
   ],
   "source": [
    "NBA_player_list# Count # of Players\n",
    "player_response_count=player_name_personID_request[\"league\"][\"standard\"]\n",
    "player_count=len(player_response_count)\n",
    "player_count"
   ]
  },
  {
   "cell_type": "code",
   "execution_count": 9,
   "metadata": {},
   "outputs": [
    {
     "data": {
      "text/html": [
       "<div>\n",
       "<style scoped>\n",
       "    .dataframe tbody tr th:only-of-type {\n",
       "        vertical-align: middle;\n",
       "    }\n",
       "\n",
       "    .dataframe tbody tr th {\n",
       "        vertical-align: top;\n",
       "    }\n",
       "\n",
       "    .dataframe thead th {\n",
       "        text-align: right;\n",
       "    }\n",
       "</style>\n",
       "<table border=\"1\" class=\"dataframe\">\n",
       "  <thead>\n",
       "    <tr style=\"text-align: right;\">\n",
       "      <th></th>\n",
       "      <th>0</th>\n",
       "    </tr>\n",
       "  </thead>\n",
       "  <tbody>\n",
       "    <tr>\n",
       "      <th>0</th>\n",
       "      <td>203518</td>\n",
       "    </tr>\n",
       "    <tr>\n",
       "      <th>1</th>\n",
       "      <td>203112</td>\n",
       "    </tr>\n",
       "    <tr>\n",
       "      <th>2</th>\n",
       "      <td>1629121</td>\n",
       "    </tr>\n",
       "    <tr>\n",
       "      <th>3</th>\n",
       "      <td>203500</td>\n",
       "    </tr>\n",
       "    <tr>\n",
       "      <th>4</th>\n",
       "      <td>1628389</td>\n",
       "    </tr>\n",
       "  </tbody>\n",
       "</table>\n",
       "</div>"
      ],
      "text/plain": [
       "         0\n",
       "0   203518\n",
       "1   203112\n",
       "2  1629121\n",
       "3   203500\n",
       "4  1628389"
      ]
     },
     "execution_count": 9,
     "metadata": {},
     "output_type": "execute_result"
    }
   ],
   "source": [
    "NBA_player_list_df=pd.DataFrame(data=NBA_player_list)\n",
    "NBA_player_list_df.head()"
   ]
  },
  {
   "cell_type": "code",
   "execution_count": 10,
   "metadata": {},
   "outputs": [],
   "source": [
    "Player_stats_yr=[]"
   ]
  },
  {
   "cell_type": "code",
   "execution_count": 11,
   "metadata": {},
   "outputs": [
    {
     "ename": "AttributeError",
     "evalue": "'str' object has no attribute 'astype'",
     "output_type": "error",
     "traceback": [
      "\u001b[1;31m---------------------------------------------------------------------------\u001b[0m",
      "\u001b[1;31mAttributeError\u001b[0m                            Traceback (most recent call last)",
      "\u001b[1;32m<ipython-input-11-8493d7faaea2>\u001b[0m in \u001b[0;36m<module>\u001b[1;34m()\u001b[0m\n\u001b[0;32m     48\u001b[0m \u001b[1;33m\u001b[0m\u001b[0m\n\u001b[0;32m     49\u001b[0m \u001b[1;31m# Change type to astype to float\u001b[0m\u001b[1;33m\u001b[0m\u001b[1;33m\u001b[0m\u001b[0m\n\u001b[1;32m---> 50\u001b[1;33m         \u001b[0mppg\u001b[0m\u001b[1;33m=\u001b[0m\u001b[0mseason_dict\u001b[0m\u001b[1;33m[\u001b[0m\u001b[1;34m\"ppg\"\u001b[0m\u001b[1;33m]\u001b[0m\u001b[1;33m.\u001b[0m\u001b[0mastype\u001b[0m\u001b[1;33m(\u001b[0m\u001b[0mfloat\u001b[0m\u001b[1;33m)\u001b[0m\u001b[1;33m\u001b[0m\u001b[0m\n\u001b[0m\u001b[0;32m     51\u001b[0m         \u001b[0mrpg\u001b[0m\u001b[1;33m=\u001b[0m\u001b[0mseason_dict\u001b[0m\u001b[1;33m[\u001b[0m\u001b[1;34m\"rpg\"\u001b[0m\u001b[1;33m]\u001b[0m\u001b[1;33m.\u001b[0m\u001b[0mastype\u001b[0m\u001b[1;33m(\u001b[0m\u001b[0mfloat\u001b[0m\u001b[1;33m)\u001b[0m\u001b[1;33m\u001b[0m\u001b[0m\n\u001b[0;32m     52\u001b[0m         \u001b[0mapg\u001b[0m\u001b[1;33m=\u001b[0m\u001b[0mseason_dict\u001b[0m\u001b[1;33m[\u001b[0m\u001b[1;34m\"apg\"\u001b[0m\u001b[1;33m]\u001b[0m\u001b[1;33m.\u001b[0m\u001b[0mastype\u001b[0m\u001b[1;33m(\u001b[0m\u001b[0mfloat\u001b[0m\u001b[1;33m)\u001b[0m\u001b[1;33m\u001b[0m\u001b[0m\n",
      "\u001b[1;31mAttributeError\u001b[0m: 'str' object has no attribute 'astype'"
     ]
    }
   ],
   "source": [
    "for i in range(0,player_count):\n",
    "    number_chosen_lst=i\n",
    "    URL1=\"http://data.nba.net/prod/v1/2018/players/\"\n",
    "    URL2= NBA_player_list[number_chosen_lst]\n",
    "    URL3=\"_profile.json\"\n",
    "    URL_pull=URL1+URL2+URL3\n",
    "    player_response_obj=requests.get(URL_pull)\n",
    "    player_response=player_response_obj.json()\n",
    "\n",
    "    # Count # of Players\n",
    "    # player_response_count=player_response[\"league\"][\"standard\"][\"stats\"][\"regularSeason\"][\"season\"]\n",
    "    # player_response_count\n",
    "    Seasons_needed=[2015,2016,2017]\n",
    "    for season_test in player_response[\"league\"][\"standard\"][\"stats\"][\"regularSeason\"][\"season\"]:\n",
    "        season_dict = {}\n",
    "        season_dict[\"seasonYear\"] = season_test[\"seasonYear\"]\n",
    "        season_dict[\"ppg\"]= season_test[\"total\"][\"ppg\"]\n",
    "        season_dict[\"rpg\"]= season_test[\"total\"][\"rpg\"]\n",
    "        season_dict[\"apg\"]= season_test[\"total\"][\"apg\"]\n",
    "        season_dict[\"mpg\"]= season_test[\"total\"][\"mpg\"]\n",
    "        season_dict[\"topg\"]= season_test[\"total\"][\"topg\"]\n",
    "        season_dict[\"spg\"]= season_test[\"total\"][\"spg\"]\n",
    "        season_dict[\"bpg\"]= season_test[\"total\"][\"bpg\"]\n",
    "        season_dict[\"tpp\"]= season_test[\"total\"][\"tpp\"]\n",
    "        season_dict[\"ftp\"]= season_test[\"total\"][\"ftp\"]\n",
    "        season_dict[\"fgp\"]= season_test[\"total\"][\"fgp\"]\n",
    "        season_dict[\"assists\"]= season_test[\"total\"][\"assists\"]\n",
    "        season_dict[\"blocks\"]= season_test[\"total\"][\"blocks\"]\n",
    "        season_dict[\"steals\"]= season_test[\"total\"][\"steals\"]\n",
    "        season_dict[\"turnovers\"]= season_test[\"total\"][\"turnovers\"]\n",
    "        season_dict[\"offReb\"]= season_test[\"total\"][\"offReb\"]\n",
    "        season_dict[\"defReb\"]= season_test[\"total\"][\"defReb\"]\n",
    "        season_dict[\"totReb\"]= season_test[\"total\"][\"totReb\"]\n",
    "        season_dict[\"fgm\"]= season_test[\"total\"][\"fgm\"]\n",
    "        season_dict[\"fga\"]= season_test[\"total\"][\"fga\"]\n",
    "        season_dict[\"tpm\"]= season_test[\"total\"][\"tpm\"]\n",
    "        season_dict[\"tpa\"]= season_test[\"total\"][\"tpa\"]\n",
    "        season_dict[\"ftm\"]= season_test[\"total\"][\"ftm\"]\n",
    "        season_dict[\"fta\"]= season_test[\"total\"][\"fta\"]\n",
    "        season_dict[\"pFouls\"]= season_test[\"total\"][\"pFouls\"]\n",
    "        season_dict[\"points\"]= season_test[\"total\"][\"points\"]\n",
    "        season_dict[\"gamesPlayed\"]= season_test[\"total\"][\"gamesPlayed\"]\n",
    "        season_dict[\"gamesStarted\"]= season_test[\"total\"][\"gamesStarted\"]\n",
    "        season_dict[\"plusMinus\"]= season_test[\"total\"][\"plusMinus\"]\n",
    "        season_dict[\"min\"]= season_test[\"total\"][\"min\"]\n",
    "        season_dict[\"dd2\"]= season_test[\"total\"][\"dd2\"]\n",
    "        season_dict[\"td3\"]= season_test[\"total\"][\"td3\"]\n",
    "\n",
    "# Change type to astype to float\n",
    "        ppg=season_dict[\"ppg\"].astype(float)\n",
    "        rpg=season_dict[\"rpg\"].astype(float)\n",
    "        apg=season_dict[\"apg\"].astype(float)\n",
    "        mpg=season_dict[\"mpg\"].astype(float)\n",
    "        topg=season_dict[\"topg\"].astype(float)\n",
    "        spg=season_dict[\"spg\"].astype(float)\n",
    "        bpg=season_dict[\"bpg\"].astype(float)\n",
    "        tpp=season_dict[\"tpp\"].astype(float)\n",
    "        ftp=season_dict[\"ftp\"].astype(float)\n",
    "        fgp=season_dict[\"fgp\"].astype(float)\n",
    "        assists=season_dict[\"assists\"].astype(float)\n",
    "        blocks=season_dict[\"blocks\"].astype(float)\n",
    "        steals=season_dict[\"steals\"].astype(float)\n",
    "        turnovers=season_dict[\"turnovers\"].astype(float)\n",
    "        offReb=season_dict[\"offReb\"].astype(float)\n",
    "        defReb=season_dict[\"defReb\"].astype(float)\n",
    "        totReb=season_dict[\"totReb\"].astype(float)\n",
    "        fgm=season_dict[\"fgm\"].astype(float)\n",
    "        fga=season_dict[\"fga\"].astype(float)\n",
    "        tpm=season_dict[\"tpm\"].astype(float)\n",
    "        tpa=season_dict[\"tpa\"].astype(float)\n",
    "        ftm=season_dict[\"ftm\"].astype(float)\n",
    "        fta=season_dict[\"fta\"].astype(float)\n",
    "        pFouls=season_dict[\"pFouls\"].astype(float)\n",
    "        points=season_dict[\"points\"].astype(float)\n",
    "        gamesPlayed=season_dict[\"gamesPlayed\"].astype(float)\n",
    "        gamesStarted=season_dict[\"gamesStarted\"].astype(float)\n",
    "        plusMinus=season_dict[\"plusMinus\"].astype(float)\n",
    "        min=season_dict[\"min\"].astype(float)\n",
    "        dd2=season_dict[\"dd2\"].astype(float)\n",
    "        td3=season_dict[\"td3\"].astype(float)\n",
    "\n",
    "#     Append Player_stats_year\n",
    "        Player_stats_yr.append({\"personId\": URL2,\n",
    "                                \"seasonYear\": seasonYear,\n",
    "                                \"PTG\": ppg,\n",
    "                                \"TRB\": rpg,\n",
    "                                \"AST\": apg,\n",
    "                                \"mpg\": mpg,\n",
    "                                \"TOV\": topg,\n",
    "                                \"STL\": spg,\n",
    "                                \"BLK\": bpg,\n",
    "                                \"tpp\": tpp,\n",
    "                                \"FTP\": ftp,\n",
    "                                \"FGP\": fgp,\n",
    "                                \"assists\": assists,\n",
    "                                \"blocks\": blocks,\n",
    "                                \"steals\": steals,\n",
    "                                \"turnovers\": turnovers,\n",
    "                                \"offReb\": offReb,\n",
    "                                \"defReb\": defReb,\n",
    "                                \"totReb\": totReb,\n",
    "                                \"FG\": fgm,\n",
    "                                \"FGA\": fga,\n",
    "                                \"TPP\": tpm,\n",
    "                                \"tpa\": tpa,\n",
    "                                \"FT\": ftm,\n",
    "                                \"FTA\": fta,\n",
    "                                \"pFouls\": pFouls,\n",
    "                                \"points\": points,\n",
    "                                \"gamesPlayed\": gamesPlayed,\n",
    "                                \"gamesStarted\": gamesStarted,\n",
    "                                \"plusMinus\": plusMinus,\n",
    "                                \"min\": min,\n",
    "                                \"dd2\": dd2,\n",
    "                                \"td3\": td3})\n",
    "       "
   ]
  },
  {
   "cell_type": "code",
   "execution_count": null,
   "metadata": {},
   "outputs": [],
   "source": [
    "Player_stats_yr_df=pd.DataFrame.from_dict(Player_stats_yr)\n",
    "Player_stats_yr_df.head()"
   ]
  },
  {
   "cell_type": "code",
   "execution_count": null,
   "metadata": {
    "scrolled": true
   },
   "outputs": [],
   "source": [
    "playerYearlyStatsAllYearsdf=pd.DataFrame(Player_stats_yr)\n",
    "player_yr_stats=playerYearlyStatsAllYearsdf[[\"personId\",\"seasonYear\",\"FG\",\"FGA\",\"FGP\",\"TPP\",\"FT\",\"FTP\",\"TRB\",\n",
    "                                              \"AST\",\"STL\",\"BLK\",\"TOV\",\"PTG\"]]\n",
    "player_yr_stats.dtypes"
   ]
  },
  {
   "cell_type": "code",
   "execution_count": null,
   "metadata": {},
   "outputs": [],
   "source": [
    "player_yr_stats.dropna()['FG']"
   ]
  },
  {
   "cell_type": "code",
   "execution_count": null,
   "metadata": {},
   "outputs": [],
   "source": [
    "# Load Yearly Players Stats to SqLite\n",
    "player_yr_stats.to_sql('Yearly_Player_Stats',conn, if_exists='replace', index=False)"
   ]
  }
 ],
 "metadata": {
  "kernelspec": {
   "display_name": "Python 3",
   "language": "python",
   "name": "python3"
  },
  "language_info": {
   "codemirror_mode": {
    "name": "ipython",
    "version": 3
   },
   "file_extension": ".py",
   "mimetype": "text/x-python",
   "name": "python",
   "nbconvert_exporter": "python",
   "pygments_lexer": "ipython3",
   "version": "3.6.5"
  }
 },
 "nbformat": 4,
 "nbformat_minor": 2
}
