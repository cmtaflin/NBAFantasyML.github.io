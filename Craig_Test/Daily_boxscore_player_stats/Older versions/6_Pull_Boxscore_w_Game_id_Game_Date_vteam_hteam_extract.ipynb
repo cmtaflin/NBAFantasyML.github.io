{
 "cells": [
  {
   "cell_type": "code",
   "execution_count": 1,
   "metadata": {
    "tags": [
     "Done"
    ]
   },
   "outputs": [],
   "source": [
    "# Dependencies and Setup\n",
    "\n",
    "import json\n",
    "import pandas as pd\n",
    "import requests\n",
    "import numpy as py\n",
    "from sqlalchemy.ext.declarative import declarative_base\n",
    "Base = declarative_base()\n",
    "from sqlalchemy import Column, Integer, String, Float, Date\n",
    "import pymysql\n",
    "pymysql.install_as_MySQLdb()\n",
    "from sqlalchemy import create_engine, inspect, func, distinct\n",
    "from sqlalchemy.ext.automap import automap_base\n",
    "from sqlalchemy.orm import Session\n",
    "import sqlite3\n",
    "from sqlite3 import Error"
   ]
  },
  {
   "cell_type": "code",
   "execution_count": 2,
   "metadata": {
    "tags": [
     "change_path_when_done"
    ]
   },
   "outputs": [],
   "source": [
    "# Create engine and engine connection to SQLite Database\n",
    "\n",
    "engine = create_engine(\"sqlite:///../SqLIte_files/NBAfantasyML.sqlite\")\n",
    "conn = engine.connect()"
   ]
  },
  {
   "cell_type": "code",
   "execution_count": 3,
   "metadata": {
    "tags": [
     "done"
    ]
   },
   "outputs": [],
   "source": [
    "# Create function to try and connect to a sqlite database.  if it doesn't work, create one...\n",
    "\n",
    "def create_connection(db_file):\n",
    "    try:\n",
    "        conn = sqlite3.connect(db_file)\n",
    "        print(sqlite3.version)\n",
    "    except Error as e:\n",
    "        print(e)\n",
    "    finally:\n",
    "        conn.close()"
   ]
  },
  {
   "cell_type": "code",
   "execution_count": 4,
   "metadata": {
    "tags": [
     "done"
    ]
   },
   "outputs": [
    {
     "name": "stdout",
     "output_type": "stream",
     "text": [
      "2.6.0\n"
     ]
    }
   ],
   "source": [
    "# If connection succeeds\n",
    "\n",
    "if __name__ == '__main__':\n",
    "    create_connection(\"../NBAfantasyML.sqlite\")"
   ]
  },
  {
   "cell_type": "code",
   "execution_count": 5,
   "metadata": {
    "tags": [
     "done"
    ]
   },
   "outputs": [],
   "source": [
    "#Bring in data from internet as object then convert ot Json\n",
    "\n",
    "schedule_response_obj=requests.get(\"http://data.nba.net/prod/v1/2018/schedule.json\")\n",
    "schedule_response=schedule_response_obj.json()"
   ]
  },
  {
   "cell_type": "code",
   "execution_count": 6,
   "metadata": {
    "tags": [
     "done"
    ]
   },
   "outputs": [],
   "source": [
    "# Count the number of Games for the season \n",
    "\n",
    "games_response_count=schedule_response[\"league\"][\"standard\"]\n",
    "game_number=len(games_response_count)\n",
    "# game_number"
   ]
  },
  {
   "cell_type": "code",
   "execution_count": 7,
   "metadata": {
    "tags": [
     "Start_loop_start_season"
    ]
   },
   "outputs": [
    {
     "data": {
      "text/html": [
       "<div>\n",
       "<style scoped>\n",
       "    .dataframe tbody tr th:only-of-type {\n",
       "        vertical-align: middle;\n",
       "    }\n",
       "\n",
       "    .dataframe tbody tr th {\n",
       "        vertical-align: top;\n",
       "    }\n",
       "\n",
       "    .dataframe thead th {\n",
       "        text-align: right;\n",
       "    }\n",
       "</style>\n",
       "<table border=\"1\" class=\"dataframe\">\n",
       "  <thead>\n",
       "    <tr style=\"text-align: right;\">\n",
       "      <th></th>\n",
       "      <th>gameId</th>\n",
       "      <th>startDataEastern</th>\n",
       "    </tr>\n",
       "  </thead>\n",
       "  <tbody>\n",
       "    <tr>\n",
       "      <th>0</th>\n",
       "      <td>11800001</td>\n",
       "      <td>20180928</td>\n",
       "    </tr>\n",
       "    <tr>\n",
       "      <th>1</th>\n",
       "      <td>11800002</td>\n",
       "      <td>20180928</td>\n",
       "    </tr>\n",
       "    <tr>\n",
       "      <th>2</th>\n",
       "      <td>11800003</td>\n",
       "      <td>20180929</td>\n",
       "    </tr>\n",
       "    <tr>\n",
       "      <th>3</th>\n",
       "      <td>11800004</td>\n",
       "      <td>20180929</td>\n",
       "    </tr>\n",
       "    <tr>\n",
       "      <th>4</th>\n",
       "      <td>11800005</td>\n",
       "      <td>20180929</td>\n",
       "    </tr>\n",
       "  </tbody>\n",
       "</table>\n",
       "</div>"
      ],
      "text/plain": [
       "     gameId  startDataEastern\n",
       "0  11800001          20180928\n",
       "1  11800002          20180928\n",
       "2  11800003          20180929\n",
       "3  11800004          20180929\n",
       "4  11800005          20180929"
      ]
     },
     "execution_count": 7,
     "metadata": {},
     "output_type": "execute_result"
    }
   ],
   "source": [
    "###    Elements for URL, append List, create DataFrame  ###\n",
    "\n",
    "# Bring in Game Id and GameData (\"startDataEastern\") elements from NBA Schedule later used to create box_score URL\n",
    "# Store elements in list\n",
    "# Convert list to DataFrame and modify datatypes\n",
    "\n",
    "# Get elements\n",
    "NBA_Schedule=[]\n",
    "for item in schedule_response[\"league\"][\"standard\"]:\n",
    "    item_dict={}\n",
    "    item_dict[\"gameId\"]=item[\"gameId\"]\n",
    "    item_dict[\"startDateEastern\"]=item[\"startDateEastern\"]\n",
    "\n",
    "# Append List\n",
    "    NBA_Schedule.append({\"gameId\":item_dict[\"gameId\"],\n",
    "                         \"startDataEastern\":item_dict[\"startDateEastern\"]})\n",
    "\n",
    "# Convert NBA_Schedule=[] list to DataFrame and modify Datatypes\n",
    "NBA_Schedule_DF_initial=pd.DataFrame(NBA_Schedule)\n",
    "NBA_Schedule_DF_initial[\"gameId\"]=NBA_Schedule_DF_initial[\"gameId\"].astype(int)\n",
    "NBA_Schedule_DF_initial[\"startDataEastern\"]=NBA_Schedule_DF_initial[\"startDataEastern\"].astype(int)\n",
    "\n",
    "NBA_Schedule_DF_initial.head()  "
   ]
  },
  {
   "cell_type": "code",
   "execution_count": 8,
   "metadata": {
    "tags": [
     "done"
    ]
   },
   "outputs": [],
   "source": [
    "# count the number of gamesId records\n",
    "\n",
    "game_count=len(NBA_Schedule_DF_initial[\"gameId\"])"
   ]
  },
  {
   "cell_type": "code",
   "execution_count": 13,
   "metadata": {
    "tags": [
     "change_loop_to_i"
    ]
   },
   "outputs": [
    {
     "name": "stdout",
     "output_type": "stream",
     "text": [
      "http://data.nba.net/prod/v1/20180928/0011800001_boxscore.json\n"
     ]
    }
   ],
   "source": [
    "# # Generate Box_Score_URL and append to List Box_Score_URL_List\n",
    "\n",
    "Box_score_URL_List =[{}]\n",
    "\n",
    "# Looping through gameids \n",
    "# regular season starts October 16, 2018\n",
    "#for i in range (0,game_count):\n",
    "    \n",
    "chosen=0\n",
    "\n",
    "    # Generate Box Score URL using GameId and GameData (\"startDataEastern\")\n",
    "Box_score_URL=F\"http://data.nba.net/prod/v1/{NBA_Schedule_DF_initial['startDataEastern'][chosen]}/00{NBA_Schedule_DF_initial['gameId'][chosen]}_boxscore.json\"\n",
    "\n",
    "NBA_Schedule_DF_initial[\"boxScoreURL\"]=Box_score_URL\n",
    "NBA_Schedule_DF_initial[\"boxScoreURL\"]=NBA_Schedule_DF_initial[\"boxScoreURL\"].astype(str)\n",
    "# NBA_Schedule_DF_initial.head()\n",
    "print(Box_score_URL)"
   ]
  },
  {
   "cell_type": "code",
   "execution_count": 14,
   "metadata": {
    "scrolled": false,
    "tags": [
     "Done"
    ]
   },
   "outputs": [],
   "source": [
    "# Box Score Request and request Object \n",
    "\n",
    "NBA_Schedule_DF_initial.boxScoreURL[chosen]\n",
    "box_score_obj=requests.get(Box_score_URL)\n",
    "box_score_response=box_score_obj.json()\n",
    "# box_score_response"
   ]
  },
  {
   "cell_type": "code",
   "execution_count": 38,
   "metadata": {
    "tags": [
     "URL_loop_needed"
    ]
   },
   "outputs": [
    {
     "data": {
      "text/html": [
       "<div>\n",
       "<style scoped>\n",
       "    .dataframe tbody tr th:only-of-type {\n",
       "        vertical-align: middle;\n",
       "    }\n",
       "\n",
       "    .dataframe tbody tr th {\n",
       "        vertical-align: top;\n",
       "    }\n",
       "\n",
       "    .dataframe thead th {\n",
       "        text-align: right;\n",
       "    }\n",
       "</style>\n",
       "<table border=\"1\" class=\"dataframe\">\n",
       "  <thead>\n",
       "    <tr style=\"text-align: right;\">\n",
       "      <th></th>\n",
       "      <th>assists</th>\n",
       "      <th>blocks</th>\n",
       "      <th>defReb</th>\n",
       "      <th>fastBreakPoints</th>\n",
       "      <th>fga</th>\n",
       "      <th>fgm</th>\n",
       "      <th>fgp</th>\n",
       "      <th>fta</th>\n",
       "      <th>ftm</th>\n",
       "      <th>ftp</th>\n",
       "      <th>...</th>\n",
       "      <th>pointsInPaint</th>\n",
       "      <th>pointsOffTurnovers</th>\n",
       "      <th>secondChancePoints</th>\n",
       "      <th>steals</th>\n",
       "      <th>teamId</th>\n",
       "      <th>totReb</th>\n",
       "      <th>tpa</th>\n",
       "      <th>tpm</th>\n",
       "      <th>tpp</th>\n",
       "      <th>turnovers</th>\n",
       "    </tr>\n",
       "  </thead>\n",
       "  <tbody>\n",
       "    <tr>\n",
       "      <th>0</th>\n",
       "      <td>15</td>\n",
       "      <td>1</td>\n",
       "      <td>29</td>\n",
       "      <td>6</td>\n",
       "      <td>82</td>\n",
       "      <td>31</td>\n",
       "      <td>37.8</td>\n",
       "      <td>14</td>\n",
       "      <td>13</td>\n",
       "      <td>92.9</td>\n",
       "      <td>...</td>\n",
       "      <td>32</td>\n",
       "      <td>12</td>\n",
       "      <td>8</td>\n",
       "      <td>10</td>\n",
       "      <td>15016</td>\n",
       "      <td>37</td>\n",
       "      <td>33</td>\n",
       "      <td>9</td>\n",
       "      <td>27.3</td>\n",
       "      <td>20</td>\n",
       "    </tr>\n",
       "    <tr>\n",
       "      <th>1</th>\n",
       "      <td>25</td>\n",
       "      <td>9</td>\n",
       "      <td>37</td>\n",
       "      <td>12</td>\n",
       "      <td>85</td>\n",
       "      <td>41</td>\n",
       "      <td>48.2</td>\n",
       "      <td>25</td>\n",
       "      <td>16</td>\n",
       "      <td>64.0</td>\n",
       "      <td>...</td>\n",
       "      <td>60</td>\n",
       "      <td>18</td>\n",
       "      <td>17</td>\n",
       "      <td>13</td>\n",
       "      <td>1610612755</td>\n",
       "      <td>48</td>\n",
       "      <td>29</td>\n",
       "      <td>6</td>\n",
       "      <td>20.7</td>\n",
       "      <td>17</td>\n",
       "    </tr>\n",
       "  </tbody>\n",
       "</table>\n",
       "<p>2 rows × 26 columns</p>\n",
       "</div>"
      ],
      "text/plain": [
       "  assists blocks defReb fastBreakPoints fga fgm   fgp fta ftm   ftp    ...     \\\n",
       "0      15      1     29               6  82  31  37.8  14  13  92.9    ...      \n",
       "1      25      9     37              12  85  41  48.2  25  16  64.0    ...      \n",
       "\n",
       "  pointsInPaint pointsOffTurnovers secondChancePoints steals      teamId  \\\n",
       "0            32                 12                  8     10       15016   \n",
       "1            60                 18                 17     13  1610612755   \n",
       "\n",
       "  totReb tpa tpm   tpp turnovers  \n",
       "0     37  33   9  27.3        20  \n",
       "1     48  29   6  20.7        17  \n",
       "\n",
       "[2 rows x 26 columns]"
      ]
     },
     "execution_count": 38,
     "metadata": {},
     "output_type": "execute_result"
    }
   ],
   "source": [
    "# Extract vteam and hteam basic box score data EXCLUDING: INDIVIDUAL PLAYER STATS \n",
    "\n",
    "Team_boxscores_list=[]\n",
    "# Vteam\n",
    "vteam_dict={}\n",
    "vteam_dict[\"gameId\"]=box_score_response[\"basicGameData\"][\"gameId\"]\n",
    "vteam_dict[\"teamId\"]=box_score_response[\"basicGameData\"][\"vTeam\"][\"teamId\"]\n",
    "vteam_dict[\"fastBreakPoints\"]=box_score_response[\"stats\"][\"vTeam\"][\"fastBreakPoints\"]\n",
    "vteam_dict[\"pointsInPaint\"]=box_score_response[\"stats\"][\"vTeam\"][\"pointsInPaint\"]\n",
    "vteam_dict[\"secondChancePoints\"]=box_score_response[\"stats\"][\"vTeam\"][\"secondChancePoints\"]\n",
    "vteam_dict[\"pointsOffTurnovers\"]=box_score_response[\"stats\"][\"vTeam\"][\"pointsOffTurnovers\"]\n",
    "vteam_dict[\"points\"]=box_score_response[\"stats\"][\"vTeam\"][\"totals\"][\"points\"]\n",
    "vteam_dict[\"fgm\"]=box_score_response[\"stats\"][\"vTeam\"][\"totals\"][\"fgm\"]\n",
    "vteam_dict[\"fga\"]=box_score_response[\"stats\"][\"vTeam\"][\"totals\"][\"fga\"]\n",
    "vteam_dict[\"fgp\"]=box_score_response[\"stats\"][\"vTeam\"][\"totals\"][\"fgp\"]\n",
    "vteam_dict[\"ftm\"]=box_score_response[\"stats\"][\"vTeam\"][\"totals\"][\"ftm\"]\n",
    "vteam_dict[\"fta\"]=box_score_response[\"stats\"][\"vTeam\"][\"totals\"][\"fta\"]\n",
    "vteam_dict[\"ftp\"]=box_score_response[\"stats\"][\"vTeam\"][\"totals\"][\"ftp\"]\n",
    "vteam_dict[\"tpm\"]=box_score_response[\"stats\"][\"vTeam\"][\"totals\"][\"tpm\"]\n",
    "vteam_dict[\"tpa\"]=box_score_response[\"stats\"][\"vTeam\"][\"totals\"][\"tpa\"]\n",
    "vteam_dict[\"tpp\"]=box_score_response[\"stats\"][\"vTeam\"][\"totals\"][\"tpp\"]\n",
    "vteam_dict[\"offReb\"]=box_score_response[\"stats\"][\"vTeam\"][\"totals\"][\"offReb\"]\n",
    "vteam_dict[\"defReb\"]=box_score_response[\"stats\"][\"vTeam\"][\"totals\"][\"defReb\"]\n",
    "vteam_dict[\"totReb\"]=box_score_response[\"stats\"][\"vTeam\"][\"totals\"][\"totReb\"]\n",
    "vteam_dict[\"assists\"]=box_score_response[\"stats\"][\"vTeam\"][\"totals\"][\"assists\"]\n",
    "vteam_dict[\"pFouls\"]=box_score_response[\"stats\"][\"vTeam\"][\"totals\"][\"pFouls\"]\n",
    "vteam_dict[\"steals\"]=box_score_response[\"stats\"][\"vTeam\"][\"totals\"][\"steals\"]\n",
    "vteam_dict[\"turnovers\"]=box_score_response[\"stats\"][\"vTeam\"][\"totals\"][\"turnovers\"]\n",
    "vteam_dict[\"blocks\"]=box_score_response[\"stats\"][\"vTeam\"][\"totals\"][\"blocks\"]\n",
    "vteam_dict[\"plusMinus\"]=box_score_response[\"stats\"][\"vTeam\"][\"totals\"][\"plusMinus\"]\n",
    "vteam_dict[\"min\"]=box_score_response[\"stats\"][\"vTeam\"][\"totals\"][\"min\"]\n",
    "\n",
    "Team_boxscores_list.append({\"gameId\":vteam_dict[\"gameId\"],\n",
    "                            \"teamId\":vteam_dict[\"teamId\"],\n",
    "                            \"fastBreakPoints\":vteam_dict[\"fastBreakPoints\"],\n",
    "                            \"pointsInPaint\":vteam_dict[\"pointsInPaint\"],\n",
    "                            \"secondChancePoints\":vteam_dict[\"secondChancePoints\"],\n",
    "                            \"pointsOffTurnovers\":vteam_dict[\"pointsOffTurnovers\"],\n",
    "                            \"points\":vteam_dict[\"points\"],\n",
    "                            \"fgm\":vteam_dict[\"fgm\"],\n",
    "                            \"fga\":vteam_dict[\"fga\"],\n",
    "                            \"fgp\":vteam_dict[\"fgp\"],\n",
    "                            \"ftm\":vteam_dict[\"ftm\"],\n",
    "                            \"fta\":vteam_dict[\"fta\"],\n",
    "                            \"ftp\":vteam_dict[\"ftp\"],\n",
    "                            \"tpm\":vteam_dict[\"tpm\"],\n",
    "                            \"tpa\":vteam_dict[\"tpa\"],\n",
    "                            \"tpp\":vteam_dict[\"tpp\"],\n",
    "                            \"offReb\":vteam_dict[\"offReb\"],\n",
    "                            \"defReb\":vteam_dict[\"defReb\"],\n",
    "                            \"totReb\":vteam_dict[\"totReb\"],\n",
    "                            \"assists\":vteam_dict[\"assists\"],\n",
    "                            \"pFouls\":vteam_dict[\"pFouls\"],\n",
    "                            \"steals\":vteam_dict[\"steals\"],\n",
    "                            \"turnovers\":vteam_dict[\"turnovers\"],\n",
    "                            \"blocks\":vteam_dict[\"blocks\"],\n",
    "                            \"plusMinus\":vteam_dict[\"plusMinus\"],\n",
    "                            \"min\":vteam_dict[\"min\"]})\n",
    "\n",
    "# Hteam\n",
    "hteam_dict={}\n",
    "hteam_dict[\"gameId\"]=box_score_response[\"basicGameData\"][\"gameId\"]\n",
    "hteam_dict[\"teamId\"]=box_score_response[\"basicGameData\"][\"hTeam\"][\"teamId\"]\n",
    "hteam_dict[\"fastBreakPoints\"]=box_score_response[\"stats\"][\"hTeam\"][\"fastBreakPoints\"]\n",
    "hteam_dict[\"pointsInPaint\"]=box_score_response[\"stats\"][\"hTeam\"][\"pointsInPaint\"]\n",
    "hteam_dict[\"secondChancePoints\"]=box_score_response[\"stats\"][\"hTeam\"][\"secondChancePoints\"]\n",
    "hteam_dict[\"pointsOffTurnovers\"]=box_score_response[\"stats\"][\"hTeam\"][\"pointsOffTurnovers\"]\n",
    "hteam_dict[\"points\"]=box_score_response[\"stats\"][\"hTeam\"][\"totals\"][\"points\"]\n",
    "hteam_dict[\"fgm\"]=box_score_response[\"stats\"][\"hTeam\"][\"totals\"][\"fgm\"]\n",
    "hteam_dict[\"fga\"]=box_score_response[\"stats\"][\"hTeam\"][\"totals\"][\"fga\"]\n",
    "hteam_dict[\"fgp\"]=box_score_response[\"stats\"][\"hTeam\"][\"totals\"][\"fgp\"]\n",
    "hteam_dict[\"ftm\"]=box_score_response[\"stats\"][\"hTeam\"][\"totals\"][\"ftm\"]\n",
    "hteam_dict[\"fta\"]=box_score_response[\"stats\"][\"hTeam\"][\"totals\"][\"fta\"]\n",
    "hteam_dict[\"ftp\"]=box_score_response[\"stats\"][\"hTeam\"][\"totals\"][\"ftp\"]\n",
    "hteam_dict[\"tpm\"]=box_score_response[\"stats\"][\"hTeam\"][\"totals\"][\"tpm\"]\n",
    "hteam_dict[\"tpa\"]=box_score_response[\"stats\"][\"hTeam\"][\"totals\"][\"tpa\"]\n",
    "hteam_dict[\"tpp\"]=box_score_response[\"stats\"][\"hTeam\"][\"totals\"][\"tpp\"]\n",
    "hteam_dict[\"offReb\"]=box_score_response[\"stats\"][\"hTeam\"][\"totals\"][\"offReb\"]\n",
    "hteam_dict[\"defReb\"]=box_score_response[\"stats\"][\"hTeam\"][\"totals\"][\"defReb\"]\n",
    "hteam_dict[\"totReb\"]=box_score_response[\"stats\"][\"hTeam\"][\"totals\"][\"totReb\"]\n",
    "hteam_dict[\"assists\"]=box_score_response[\"stats\"][\"hTeam\"][\"totals\"][\"assists\"]\n",
    "hteam_dict[\"pFouls\"]=box_score_response[\"stats\"][\"hTeam\"][\"totals\"][\"pFouls\"]\n",
    "hteam_dict[\"steals\"]=box_score_response[\"stats\"][\"hTeam\"][\"totals\"][\"steals\"]\n",
    "hteam_dict[\"turnovers\"]=box_score_response[\"stats\"][\"hTeam\"][\"totals\"][\"turnovers\"]\n",
    "hteam_dict[\"blocks\"]=box_score_response[\"stats\"][\"hTeam\"][\"totals\"][\"blocks\"]\n",
    "hteam_dict[\"plusMinus\"]=box_score_response[\"stats\"][\"hTeam\"][\"totals\"][\"plusMinus\"]\n",
    "hteam_dict[\"min\"]=box_score_response[\"stats\"][\"hTeam\"][\"totals\"][\"min\"]\n",
    "\n",
    "Team_boxscores_list.append({\"gameId\":hteam_dict[\"gameId\"],\n",
    "                            \"teamId\":hteam_dict[\"teamId\"],\n",
    "                            \"fastBreakPoints\":hteam_dict[\"fastBreakPoints\"],\n",
    "                            \"pointsInPaint\":hteam_dict[\"pointsInPaint\"],\n",
    "                            \"secondChancePoints\":hteam_dict[\"secondChancePoints\"],\n",
    "                            \"pointsOffTurnovers\":hteam_dict[\"pointsOffTurnovers\"],\n",
    "                            \"points\":hteam_dict[\"points\"],\n",
    "                            \"fgm\":hteam_dict[\"fgm\"],\n",
    "                            \"fga\":hteam_dict[\"fga\"],\n",
    "                            \"fgp\":hteam_dict[\"fgp\"],\n",
    "                            \"ftm\":hteam_dict[\"ftm\"],\n",
    "                            \"fta\":hteam_dict[\"fta\"],\n",
    "                            \"ftp\":hteam_dict[\"ftp\"],\n",
    "                            \"tpm\":hteam_dict[\"tpm\"],\n",
    "                            \"tpa\":hteam_dict[\"tpa\"],\n",
    "                            \"tpp\":hteam_dict[\"tpp\"],\n",
    "                            \"offReb\":hteam_dict[\"offReb\"],\n",
    "                            \"defReb\":hteam_dict[\"defReb\"],\n",
    "                            \"totReb\":hteam_dict[\"totReb\"],\n",
    "                            \"assists\":hteam_dict[\"assists\"],\n",
    "                            \"pFouls\":hteam_dict[\"pFouls\"],\n",
    "                            \"steals\":hteam_dict[\"steals\"],\n",
    "                            \"turnovers\":hteam_dict[\"turnovers\"],\n",
    "                            \"blocks\":hteam_dict[\"blocks\"],\n",
    "                            \"plusMinus\":hteam_dict[\"plusMinus\"],\n",
    "                            \"min\":hteam_dict[\"min\"]})\n",
    "\n",
    "\n",
    "boxscore_teams_df=pd.DataFrame(Team_boxscores_list)\n",
    "boxscore_teams_df"
   ]
  },
  {
   "cell_type": "code",
   "execution_count": null,
   "metadata": {},
   "outputs": [],
   "source": [
    "# Hteam\n",
    "home_team=box_score_response[\"basicGameData\"][\"hTeam\"][\"teamId\"]"
   ]
  },
  {
   "cell_type": "code",
   "execution_count": null,
   "metadata": {},
   "outputs": [],
   "source": [
    "# Extract ONLY player stats from box score\n",
    "boxscore_player_list=[]\n",
    "for boxscore_playerstats in box_score_response[\"stats\"][\"activePlayers\"]:\n",
    "    boxscore_player_dict={}\n",
    "    boxscore_player_dict[\"personId\"]=boxscore_playerstats[\"personId\"]\n",
    "    boxscore_player_dict[\"teamId\"]=boxscore_playerstats[\"teamId\"]\n",
    "    boxscore_player_dict[\"points\"]=boxscore_playerstats[\"points\"]\n",
    "    boxscore_player_dict[\"pos\"]=boxscore_playerstats[\"pos\"]\n",
    "    boxscore_player_dict[\"min\"]=boxscore_playerstats[\"min\"]\n",
    "    boxscore_player_dict[\"points\"]=boxscore_playerstats[\"points\"]\n",
    "    boxscore_player_dict[\"fgm\"]=boxscore_playerstats[\"fgm\"]\n",
    "    boxscore_player_dict[\"min\"]=boxscore_playerstats[\"min\"]\n",
    "    boxscore_player_dict[\"points\"]=boxscore_playerstats[\"points\"]\n",
    "    boxscore_player_dict[\"fgm\"]=boxscore_playerstats[\"fgm\"]\n",
    "    boxscore_player_dict[\"fga\"]=boxscore_playerstats[\"fga\"]\n",
    "    boxscore_player_dict[\"fgp\"]=boxscore_playerstats[\"fgp\"]\n",
    "    boxscore_player_dict[\"ftm\"]=boxscore_playerstats[\"ftm\"]\n",
    "    boxscore_player_dict[\"fta\"]=boxscore_playerstats[\"fta\"]\n",
    "    boxscore_player_dict[\"ftp\"]=boxscore_playerstats[\"ftp\"]\n",
    "    boxscore_player_dict[\"tpm\"]=boxscore_playerstats[\"tpm\"]\n",
    "    boxscore_player_dict[\"tpa\"]=boxscore_playerstats[\"tpa\"]\n",
    "    boxscore_player_dict[\"tpp\"]=boxscore_playerstats[\"tpp\"]\n",
    "    boxscore_player_dict[\"offReb\"]=boxscore_playerstats[\"offReb\"]\n",
    "    boxscore_player_dict[\"defReb\"]=boxscore_playerstats[\"defReb\"]\n",
    "    boxscore_player_dict[\"totReb\"]=boxscore_playerstats[\"totReb\"]\n",
    "    boxscore_player_dict[\"assists\"]=boxscore_playerstats[\"assists\"]\n",
    "    boxscore_player_dict[\"pFouls\"]=boxscore_playerstats[\"pFouls\"]\n",
    "    boxscore_player_dict[\"steals\"]=boxscore_playerstats[\"steals\"]\n",
    "    boxscore_player_dict[\"turnovers\"]=boxscore_playerstats[\"totReb\"]\n",
    "    boxscore_player_dict[\"blocks\"]=boxscore_playerstats[\"blocks\"]\n",
    "    boxscore_player_dict[\"plusMinus\"]=boxscore_playerstats[\"plusMinus\"]\n",
    "    boxscore_player_dict[\"dnp\"]=boxscore_playerstats[\"dnp\"]\n",
    "    \n",
    "    boxscore_player_list.append({\"personId\":boxscore_playerstats[\"personId\"],\n",
    "                                \"teamId\":boxscore_playerstats[\"teamId\"],\n",
    "                                \"points\":boxscore_playerstats[\"points\"],\n",
    "                                \"pos\":boxscore_playerstats[\"pos\"],\n",
    "                                \"min\":boxscore_playerstats[\"min\"],\n",
    "                                \"points\":boxscore_playerstats[\"points\"],\n",
    "                                \"fgm\":boxscore_playerstats[\"fgm\"],\n",
    "                                \"min\":boxscore_playerstats[\"min\"],\n",
    "                                \"points\":boxscore_playerstats[\"points\"],\n",
    "                                \"fgm\":boxscore_playerstats[\"fgm\"],\n",
    "                                \"fga\":boxscore_playerstats[\"fga\"],\n",
    "                                \"fgp\":boxscore_playerstats[\"fgp\"],\n",
    "                                \"ftm\":boxscore_playerstats[\"ftm\"],\n",
    "                                \"fta\":boxscore_playerstats[\"fta\"],\n",
    "                                \"ftp\":boxscore_playerstats[\"ftp\"],\n",
    "                                \"tpm\":boxscore_playerstats[\"tpm\"],\n",
    "                                \"tpa\":boxscore_playerstats[\"tpa\"],\n",
    "                                \"tpp\":boxscore_playerstats[\"tpp\"],\n",
    "                                \"offReb\":boxscore_playerstats[\"offReb\"],\n",
    "                                \"defReb\":boxscore_playerstats[\"defReb\"],\n",
    "                                \"totReb\":boxscore_playerstats[\"totReb\"],\n",
    "                                \"assists\":boxscore_playerstats[\"assists\"],\n",
    "                                \"pFouls\":boxscore_playerstats[\"pFouls\"],\n",
    "                                \"steals\":boxscore_playerstats[\"steals\"],\n",
    "                                \"turnovers\":boxscore_playerstats[\"totReb\"],\n",
    "                                \"blocks\":boxscore_playerstats[\"blocks\"],\n",
    "                                \"plusMinus\":boxscore_playerstats[\"plusMinus\"],\n",
    "                                \"dnp\":boxscore_playerstats[\"dnp\"]})\n",
    "    \n",
    "\n",
    "    "
   ]
  },
  {
   "cell_type": "code",
   "execution_count": null,
   "metadata": {},
   "outputs": [],
   "source": [
    "boxscore_player_df=pd.DataFrame(boxscore_player_list)\n",
    "boxscore_player_df.dtypes"
   ]
  },
  {
   "cell_type": "code",
   "execution_count": null,
   "metadata": {},
   "outputs": [],
   "source": []
  },
  {
   "cell_type": "code",
   "execution_count": null,
   "metadata": {
    "scrolled": true
   },
   "outputs": [],
   "source": [
    "#Load NBA_TEAMS table\n",
    "# NBA_Schedule_DF_GameId.to_sql('NBA_SCHEDULE_GAME_DATE',conn, if_exists='replace', index=False)"
   ]
  }
 ],
 "metadata": {
  "celltoolbar": "Tags",
  "kernelspec": {
   "display_name": "Python 3",
   "language": "python",
   "name": "python3"
  },
  "language_info": {
   "codemirror_mode": {
    "name": "ipython",
    "version": 3
   },
   "file_extension": ".py",
   "mimetype": "text/x-python",
   "name": "python",
   "nbconvert_exporter": "python",
   "pygments_lexer": "ipython3",
   "version": "3.6.5"
  }
 },
 "nbformat": 4,
 "nbformat_minor": 2
}
