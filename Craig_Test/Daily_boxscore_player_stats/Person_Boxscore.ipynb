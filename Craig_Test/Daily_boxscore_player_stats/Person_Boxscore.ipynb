{
 "cells": [
  {
   "cell_type": "code",
   "execution_count": 1,
   "metadata": {
    "tags": [
     "Done"
    ]
   },
   "outputs": [],
   "source": [
    "# Dependencies and Setup\n",
    "\n",
    "import json\n",
    "import pandas as pd\n",
    "import requests\n",
    "import numpy as py\n",
    "from sqlalchemy.ext.declarative import declarative_base\n",
    "Base = declarative_base()\n",
    "from sqlalchemy import Column, Integer, String, Float, Date\n",
    "import pymysql\n",
    "pymysql.install_as_MySQLdb()\n",
    "from sqlalchemy import create_engine, inspect, func, distinct\n",
    "from sqlalchemy.ext.automap import automap_base\n",
    "from sqlalchemy.orm import Session\n",
    "import sqlite3\n",
    "from sqlite3 import Error"
   ]
  },
  {
   "cell_type": "code",
   "execution_count": 2,
   "metadata": {
    "tags": [
     "change_path_when_done"
    ]
   },
   "outputs": [
    {
     "name": "stdout",
     "output_type": "stream",
     "text": [
      "2.6.0\n"
     ]
    }
   ],
   "source": [
    "# ####      Create engine, connection and function to connect to SQLite db\n",
    "\n",
    "# Create engine and engine connection to SQLite Database\n",
    "\n",
    "engine = create_engine(\"sqlite:///game_stats3.sqlite\")\n",
    "conn = engine.connect()\n",
    "\n",
    "# Create function to try and connect to a sqlite database.  if it doesn't work, create one...\n",
    "\n",
    "def create_connection(db_file):\n",
    "    try:\n",
    "        conn = sqlite3.connect(db_file)\n",
    "        print(sqlite3.version)\n",
    "    except Error as e:\n",
    "        print(e)\n",
    "    finally:\n",
    "        conn.close()\n",
    "        \n",
    "# If connection succeeds\n",
    "\n",
    "if __name__ == '__main__':\n",
    "    create_connection(\"game_stats3.sqlite\")"
   ]
  },
  {
   "cell_type": "code",
   "execution_count": 3,
   "metadata": {
    "tags": [
     "done"
    ]
   },
   "outputs": [],
   "source": [
    "#Bring in data from internet as object then convert ot Json and count number of games\n",
    "\n",
    "# REQUEST\n",
    "\n",
    "schedule_response_obj=requests.get(\"http://data.nba.net/prod/v1/2018/schedule.json\")\n",
    "schedule_response=schedule_response_obj.json()\n",
    "\n",
    "# Count the number of Games for the season inschedule\n",
    "games_response_count=schedule_response[\"league\"][\"standard\"]\n",
    "seasongame_number=len(games_response_count)\n",
    "# seasongame_number"
   ]
  },
  {
   "cell_type": "code",
   "execution_count": 4,
   "metadata": {
    "tags": [
     "Start_loop_start_season"
    ]
   },
   "outputs": [
    {
     "data": {
      "text/html": [
       "<div>\n",
       "<style scoped>\n",
       "    .dataframe tbody tr th:only-of-type {\n",
       "        vertical-align: middle;\n",
       "    }\n",
       "\n",
       "    .dataframe tbody tr th {\n",
       "        vertical-align: top;\n",
       "    }\n",
       "\n",
       "    .dataframe thead th {\n",
       "        text-align: right;\n",
       "    }\n",
       "</style>\n",
       "<table border=\"1\" class=\"dataframe\">\n",
       "  <thead>\n",
       "    <tr style=\"text-align: right;\">\n",
       "      <th></th>\n",
       "      <th>gameid</th>\n",
       "      <th>startdateeastern</th>\n",
       "      <th>statusnum</th>\n",
       "    </tr>\n",
       "  </thead>\n",
       "  <tbody>\n",
       "    <tr>\n",
       "      <th>0</th>\n",
       "      <td>11800001</td>\n",
       "      <td>20180928</td>\n",
       "      <td>3</td>\n",
       "    </tr>\n",
       "    <tr>\n",
       "      <th>1</th>\n",
       "      <td>11800002</td>\n",
       "      <td>20180928</td>\n",
       "      <td>3</td>\n",
       "    </tr>\n",
       "    <tr>\n",
       "      <th>2</th>\n",
       "      <td>11800003</td>\n",
       "      <td>20180929</td>\n",
       "      <td>3</td>\n",
       "    </tr>\n",
       "    <tr>\n",
       "      <th>3</th>\n",
       "      <td>11800004</td>\n",
       "      <td>20180929</td>\n",
       "      <td>3</td>\n",
       "    </tr>\n",
       "    <tr>\n",
       "      <th>4</th>\n",
       "      <td>11800005</td>\n",
       "      <td>20180929</td>\n",
       "      <td>3</td>\n",
       "    </tr>\n",
       "  </tbody>\n",
       "</table>\n",
       "</div>"
      ],
      "text/plain": [
       "     gameid  startdateeastern  statusnum\n",
       "0  11800001          20180928          3\n",
       "1  11800002          20180928          3\n",
       "2  11800003          20180929          3\n",
       "3  11800004          20180929          3\n",
       "4  11800005          20180929          3"
      ]
     },
     "execution_count": 4,
     "metadata": {},
     "output_type": "execute_result"
    }
   ],
   "source": [
    "###   Collect Elements for URL, append List, create DataFrame, DF_exclude games not played  ###\n",
    "\n",
    "# Bring in Game Id and GameData (\"startDataEastern\") elements from NBA Schedule later used to create box_score URL\n",
    "\n",
    "# Get elements\n",
    "NBA_Schedule=[]\n",
    "for item in schedule_response[\"league\"][\"standard\"]:\n",
    "    item_dict={}\n",
    "    item_dict[\"gameId\"]=item[\"gameId\"]\n",
    "    item_dict[\"startDateEastern\"]=item[\"startDateEastern\"]\n",
    "    item_dict[\"statusNum\"]=item[\"statusNum\"]\n",
    "\n",
    "# Append List\n",
    "    NBA_Schedule.append({\"gameid\":item_dict[\"gameId\"],\n",
    "                         \"startdateeastern\":item_dict[\"startDateEastern\"],\n",
    "                          \"statusnum\":item_dict[\"statusNum\"]})\n",
    "\n",
    "\n",
    "# Convert NBA_Schedule=[] list to DataFrame and modify Datatypes\n",
    "NBA_Schedule_DF_initial=pd.DataFrame(NBA_Schedule)\n",
    "NBA_Schedule_DF_initial[\"gameid\"]=NBA_Schedule_DF_initial[\"gameid\"].astype(int)\n",
    "NBA_Schedule_DF_initial[\"startdateeastern\"]=NBA_Schedule_DF_initial[\"startdateeastern\"].astype(int)\n",
    "NBA_Schedule_DF_initial[\"statusnum\"]=NBA_Schedule_DF_initial[\"statusnum\"].astype(int)\n",
    "\n",
    "# Exclude Games not Yet Played\n",
    "# OPEN: Exclude Pre-season Games\n",
    "NBA_Schedule_PlayedGM_DF=NBA_Schedule_DF_initial.loc[NBA_Schedule_DF_initial[\"statusnum\"]==3,:]\n",
    "NBA_Schedule_PlayedGM_DF.head()"
   ]
  },
  {
   "cell_type": "code",
   "execution_count": 5,
   "metadata": {
    "tags": [
     "loop_start_reg_season"
    ]
   },
   "outputs": [],
   "source": [
    "## Count Games Played, Generate URL for each Game Played, and add to DF: NBA_Schedule_PlayedGM_DF\n",
    "\n",
    "# count the number of gamesId records collected (note: some are pre-season and some haven't been played)\n",
    "\n",
    "playedgame_count=len(NBA_Schedule_PlayedGM_DF[\"gameid\"])"
   ]
  },
  {
   "cell_type": "code",
   "execution_count": 6,
   "metadata": {
    "tags": [
     "loop_start_reg_season"
    ]
   },
   "outputs": [
    {
     "name": "stderr",
     "output_type": "stream",
     "text": [
      "C:\\Users\\Craig\\Anaconda3\\lib\\site-packages\\ipykernel_launcher.py:13: SettingWithCopyWarning: \n",
      "A value is trying to be set on a copy of a slice from a DataFrame.\n",
      "Try using .loc[row_indexer,col_indexer] = value instead\n",
      "\n",
      "See the caveats in the documentation: http://pandas.pydata.org/pandas-docs/stable/indexing.html#indexing-view-versus-copy\n",
      "  del sys.path[0]\n"
     ]
    },
    {
     "data": {
      "text/plain": [
       "'http://data.nba.net/prod/v1/20190131/0021800769_boxscore.json'"
      ]
     },
     "execution_count": 6,
     "metadata": {},
     "output_type": "execute_result"
    }
   ],
   "source": [
    "# Generate Box_Score_URL and append to List Box_Score_URL_List\n",
    "\n",
    "Box_score_URL_List=[]\n",
    "\n",
    "# # Loop to generate Box Score URL using Gameid and GameData (\"startDataEastern\")\n",
    "\n",
    "for game_box in range (0,playedgame_count):\n",
    "    Box_score_URL=F\"http://data.nba.net/prod/v1/{NBA_Schedule_PlayedGM_DF['startdateeastern'][game_box]}/00{NBA_Schedule_PlayedGM_DF['gameid'][game_box]}_boxscore.json\"\n",
    "\n",
    "#     Append list\n",
    "    Box_score_URL_List.append(Box_score_URL)\n",
    "    \n",
    "NBA_Schedule_PlayedGM_DF[\"boxscoreURL\"]=Box_score_URL_List\n",
    "# NBA_Schedule_PlayedGM_DF[\"boxscoreURL\"]=NBA_Schedule_PlayedGM_DF[\"boxscoreURL\"].astype(str)\n",
    "Box_score_URL\n",
    "# NBA_Schedule_PlayedGM_DF"
   ]
  },
  {
   "cell_type": "code",
   "execution_count": null,
   "metadata": {},
   "outputs": [],
   "source": [
    "# Extract ONLY player stats from box score\n",
    "Player_boxscores_list=[]\n",
    "\n",
    "for i in range (0,playedgame_count):\n",
    "    box_score_obj=requests.get(NBA_Schedule_PlayedGM_DF[\"boxscoreURL\"][i])   # Derive URL\n",
    "    box_score_response=box_score_obj.json()                                  # Convert object to response\n",
    "    for boxscore_playerstats in box_score_response[\"stats\"][\"activePlayers\"]:    #Loop through players in boxscore\n",
    "        boxscore_player_dict={}                                                  # Dict to hold one box score loop\n",
    "        boxscore_player_dict[\"personId\"]=boxscore_playerstats[\"personId\"]\n",
    "        boxscore_player_dict[\"teamId\"]=boxscore_playerstats[\"teamId\"]\n",
    "        boxscore_player_dict[\"points\"]=boxscore_playerstats[\"points\"]\n",
    "        boxscore_player_dict[\"pos\"]=boxscore_playerstats[\"pos\"]\n",
    "        boxscore_player_dict[\"min\"]=boxscore_playerstats[\"min\"]\n",
    "        boxscore_player_dict[\"points\"]=boxscore_playerstats[\"points\"]\n",
    "        boxscore_player_dict[\"fgm\"]=boxscore_playerstats[\"fgm\"]\n",
    "        boxscore_player_dict[\"min\"]=boxscore_playerstats[\"min\"]\n",
    "        boxscore_player_dict[\"points\"]=boxscore_playerstats[\"points\"]\n",
    "        boxscore_player_dict[\"fgm\"]=boxscore_playerstats[\"fgm\"]\n",
    "        boxscore_player_dict[\"fga\"]=boxscore_playerstats[\"fga\"]\n",
    "        boxscore_player_dict[\"fgp\"]=boxscore_playerstats[\"fgp\"]\n",
    "        boxscore_player_dict[\"ftm\"]=boxscore_playerstats[\"ftm\"]\n",
    "        boxscore_player_dict[\"fta\"]=boxscore_playerstats[\"fta\"]\n",
    "        boxscore_player_dict[\"ftp\"]=boxscore_playerstats[\"ftp\"]\n",
    "        boxscore_player_dict[\"tpm\"]=boxscore_playerstats[\"tpm\"]\n",
    "        boxscore_player_dict[\"tpa\"]=boxscore_playerstats[\"tpa\"]\n",
    "        boxscore_player_dict[\"tpp\"]=boxscore_playerstats[\"tpp\"]\n",
    "        boxscore_player_dict[\"offReb\"]=boxscore_playerstats[\"offReb\"]\n",
    "        boxscore_player_dict[\"defReb\"]=boxscore_playerstats[\"defReb\"]\n",
    "        boxscore_player_dict[\"totReb\"]=boxscore_playerstats[\"totReb\"]\n",
    "        boxscore_player_dict[\"assists\"]=boxscore_playerstats[\"assists\"]\n",
    "        boxscore_player_dict[\"pFouls\"]=boxscore_playerstats[\"pFouls\"]\n",
    "        boxscore_player_dict[\"steals\"]=boxscore_playerstats[\"steals\"]\n",
    "        boxscore_player_dict[\"turnovers\"]=boxscore_playerstats[\"totReb\"]\n",
    "        boxscore_player_dict[\"blocks\"]=boxscore_playerstats[\"blocks\"]\n",
    "        boxscore_player_dict[\"plusMinus\"]=boxscore_playerstats[\"plusMinus\"]\n",
    "        boxscore_player_dict[\"dnp\"]=boxscore_playerstats[\"dnp\"]\n",
    "\n",
    "        Player_boxscores_list.append({\"personId\":boxscore_player_dict[\"personId\"],\n",
    "                                    \"teamId\":boxscore_player_dict[\"teamId\"],\n",
    "                                    \"points\":boxscore_player_dict[\"points\"],\n",
    "                                    \"pos\":boxscore_player_dict[\"pos\"],\n",
    "                                    \"min\":boxscore_player_dict[\"min\"],\n",
    "                                    \"points\":boxscore_player_dict[\"points\"],\n",
    "                                    \"fgm\":boxscore_playerstats[\"fgm\"],\n",
    "                                    \"min\":boxscore_playerstats[\"min\"],\n",
    "                                    \"points\":boxscore_playerstats[\"points\"],\n",
    "                                    \"fgm\":boxscore_playerstats[\"fgm\"],\n",
    "                                    \"fga\":boxscore_playerstats[\"fga\"],\n",
    "                                    \"fgp\":boxscore_playerstats[\"fgp\"],\n",
    "                                    \"ftm\":boxscore_playerstats[\"ftm\"],\n",
    "                                    \"fta\":boxscore_playerstats[\"fta\"],\n",
    "                                    \"ftp\":boxscore_playerstats[\"ftp\"],\n",
    "                                    \"tpm\":boxscore_playerstats[\"tpm\"],\n",
    "                                    \"tpa\":boxscore_playerstats[\"tpa\"],\n",
    "                                    \"tpp\":boxscore_playerstats[\"tpp\"],\n",
    "                                    \"offReb\":boxscore_playerstats[\"offReb\"],\n",
    "                                    \"defReb\":boxscore_playerstats[\"defReb\"],\n",
    "                                    \"totReb\":boxscore_playerstats[\"totReb\"],\n",
    "                                    \"assists\":boxscore_playerstats[\"assists\"],\n",
    "                                    \"pFouls\":boxscore_playerstats[\"pFouls\"],\n",
    "                                    \"steals\":boxscore_playerstats[\"steals\"],\n",
    "                                    \"turnovers\":boxscore_playerstats[\"totReb\"],\n",
    "                                    \"blocks\":boxscore_playerstats[\"blocks\"],\n",
    "                                    \"plusMinus\":boxscore_playerstats[\"plusMinus\"],\n",
    "                                    \"dnp\":boxscore_playerstats[\"dnp\"]})\n",
    "        \n",
    "Player_boxscores_df=pd.DataFrame(Player_boxscores_list)\n",
    "Player_boxscores_df"
   ]
  },
  {
   "cell_type": "code",
   "execution_count": null,
   "metadata": {},
   "outputs": [],
   "source": [
    "#Load NBA_TEAMS table\n",
    "Player_boxscores_df.to_sql('playerstats_boxscore',conn, if_exists='replace', index=False)"
   ]
  },
  {
   "cell_type": "code",
   "execution_count": null,
   "metadata": {},
   "outputs": [],
   "source": [
    "mnghjh"
   ]
  },
  {
   "cell_type": "code",
   "execution_count": null,
   "metadata": {},
   "outputs": [],
   "source": [
    "  boxscore_player_dict[\"personid\"]=box_score_response[\"stats\"][\"activePlayers\"][\"personId\"]\n",
    "    boxscore_player_dict[\"teamid\"]=box_score_response[\"stats\"][\"activePlayers\"][\"teamId\"]\n",
    "    boxscore_player_dict[\"points\"]=box_score_response[\"stats\"][\"activePlayers\"][\"points\"]\n",
    "    boxscore_player_dict[\"pos\"]=box_score_response[\"stats\"][\"activePlayers\"][\"pos\"]\n",
    "    boxscore_player_dict[\"min\"]=box_score_response[\"stats\"][\"activePlayers\"][\"min\"]\n",
    "    boxscore_player_dict[\"points\"]=box_score_response[\"basicGameData\"][\"points\"]\n",
    "    boxscore_player_dict[\"fgm\"]=box_score_response[\"basicGameData\"][\"fgm\"]\n",
    "    boxscore_player_dict[\"min\"]=box_score_response[\"basicGameData\"][\"min\"]\n",
    "    boxscore_player_dict[\"points\"]=box_score_response[\"basicGameData\"][\"points\"]\n",
    "    boxscore_player_dict[\"fgm\"]=box_score_response[\"basicGameData\"][\"fgm\"]\n",
    "    boxscore_player_dict[\"fga\"]=box_score_response[\"basicGameData\"][\"fga\"]\n",
    "    boxscore_player_dict[\"fgp\"]=box_score_response[\"basicGameData\"][\"fgp\"]\n",
    "    boxscore_player_dict[\"ftm\"]=box_score_response[\"basicGameData\"][\"ftm\"]\n",
    "    boxscore_player_dict[\"fta\"]=box_score_response[\"basicGameData\"][\"fta\"]\n",
    "    boxscore_player_dict[\"ftp\"]=box_score_response[\"basicGameData\"][\"ftp\"]\n",
    "    boxscore_player_dict[\"tpm\"]=box_score_response[\"basicGameData\"][\"tpm\"]\n",
    "    boxscore_player_dict[\"tpa\"]=box_score_response[\"basicGameData\"][\"tpa\"]\n",
    "    boxscore_player_dict[\"tpp\"]=box_score_response[\"basicGameData\"][\"tpp\"]\n",
    "    boxscore_player_dict[\"offReb\"]=box_score_response[\"basicGameData\"][\"offReb\"]\n",
    "    boxscore_player_dict[\"defReb\"]=box_score_response[\"basicGameData\"][\"defReb\"]\n",
    "    boxscore_player_dict[\"totReb\"]=box_score_response[\"basicGameData\"][\"totReb\"]\n",
    "    boxscore_player_dict[\"assists\"]=box_score_response[\"basicGameData\"][\"assists\"]\n",
    "    boxscore_player_dict[\"pFouls\"]=box_score_response[\"basicGameData\"][\"pFouls\"]\n",
    "    boxscore_player_dict[\"steals\"]=box_score_response[\"basicGameData\"][\"steals\"]\n",
    "    boxscore_player_dict[\"turnovers\"]=box_score_response[\"basicGameData\"][\"totReb\"]\n",
    "    boxscore_player_dict[\"blocks\"]=box_score_response[\"basicGameData\"][\"blocks\"]\n",
    "    boxscore_player_dict[\"plusMinus\"]=box_score_response[\"plusMinus\"]\n",
    "    boxscore_player_dict[\"dnp\"]=box_score_response[\"dnp\"]\n",
    "\n",
    "    Player_boxscores_list.append({\"personid\":boxscore_player_dict[\"personid\"],\n",
    "                                \"teamid\":boxscore_player_dict[\"teamid\"],\n",
    "                                \"points\":boxscore_player_dict[\"points\"],\n",
    "                                \"pos\":boxscore_player_dict[\"pos\"],\n",
    "                                \"min\":boxscore_player_dict[\"min\"],\n",
    "                                \"points\":boxscore_player_dict[\"points\"],\n",
    "                                \"fgm\":boxscore_player_dict[\"fgm\"],\n",
    "                                \"min\":boxscore_player_dict[\"min\"],\n",
    "                                \"points\":boxscore_player_dict[\"points\"],\n",
    "                                \"fgm\":boxscore_player_dict[\"fgm\"],\n",
    "                                \"fga\":boxscore_player_dict[\"fga\"],\n",
    "                                \"fgp\":boxscore_player_dict[\"fgp\"],\n",
    "                                \"ftm\":boxscore_player_dict[\"ftm\"],\n",
    "                                \"fta\":boxscore_player_dict[\"fta\"],\n",
    "                                \"ftp\":boxscore_player_dict[\"ftp\"],\n",
    "                                \"tpm\":boxscore_player_dict[\"tpm\"],\n",
    "                                \"tpa\":boxscore_player_dict[\"tpa\"],\n",
    "                                \"tpp\":boxscore_player_dict[\"tpp\"],\n",
    "                                \"offreb\":boxscore_player_dict[\"offReb\"],\n",
    "                                \"defreb\":boxscore_player_dict[\"defReb\"],\n",
    "                                \"totreb\":boxscore_player_dict[\"totReb\"],\n",
    "                                \"assists\":boxscore_player_dict[\"assists\"],\n",
    "                                \"pfouls\":boxscore_player_dict[\"pFouls\"],\n",
    "                                \"steals\":boxscore_player_dict[\"steals\"],\n",
    "                                \"turnovers\":boxscore_player_dict[\"totReb\"],\n",
    "                                \"blocks\":boxscore_player_dict[\"blocks\"],\n",
    "                                \"plusminus\":boxscore_player_dict[\"plusMinus\"],\n",
    "                                \"dnp\":boxscore_player_dict[\"dnp\"]})"
   ]
  },
  {
   "cell_type": "code",
   "execution_count": null,
   "metadata": {},
   "outputs": [],
   "source": [
    "Player_boxscores_df=pd.DataFrame(Player_boxscores_list)\n",
    "Player_boxscores_df[\"gameid\"]=Player_boxscores_df[\"gameid\"].astype(int)\n",
    "Player_boxscores_df[\"teamid\"]=Player_boxscores_df[\"teamid\"].astype(int)\n",
    "Player_boxscores_df[\"fastbreakpoints\"]=Player_boxscores_df[\"fastbreakpoints\"].astype(float)\n",
    "Player_boxscores_df[\"pointsinpaint\"]=Player_boxscores_df[\"pointsinpaint\"].astype(float)\n",
    "Player_boxscores_df[\"secondchancepoints\"]=Player_boxscores_df[\"secondchancepoints\"].astype(float)\n",
    "Player_boxscores_df[\"pointsoffturnovers\"]=Player_boxscores_df[\"pointsoffturnovers\"].astype(float)\n",
    "Player_boxscores_df[\"points\"]=Player_boxscores_df[\"points\"].astype(float)\n",
    "Player_boxscores_df[\"fgm\"]=Player_boxscores_df[\"fgm\"].astype(float)\n",
    "Player_boxscores_df[\"fga\"]=Player_boxscores_df[\"fga\"].astype(float)\n",
    "Player_boxscores_df[\"fgp\"]=Player_boxscores_df[\"fgp\"].astype(float)\n",
    "Player_boxscores_df[\"ftm\"]=Player_boxscores_df[\"ftm\"].astype(float)\n",
    "Player_boxscores_df[\"fta\"]=Player_boxscores_df[\"fta\"].astype(float)\n",
    "Player_boxscores_df[\"ftp\"]=Player_boxscores_df[\"ftp\"].astype(float)\n",
    "Player_boxscores_df[\"tpm\"]=Player_boxscores_df[\"tpm\"].astype(float)\n",
    "Player_boxscores_df[\"tpa\"]=Player_boxscores_df[\"tpa\"].astype(float)\n",
    "Player_boxscores_df[\"tpp\"]=Player_boxscores_df[\"tpp\"].astype(float)\n",
    "Player_boxscores_df[\"offreb\"]=Player_boxscores_df[\"offreb\"].astype(float)\n",
    "Player_boxscores_df[\"defreb\"]=Player_boxscores_df[\"defreb\"].astype(float)\n",
    "Player_boxscores_df[\"totreb\"]=Player_boxscores_df[\"totreb\"].astype(float)\n",
    "Player_boxscores_df[\"assists\"]=Player_boxscores_df[\"assists\"].astype(float)\n",
    "Player_boxscores_df[\"pfouls\"]=Player_boxscores_df[\"pfouls\"].astype(float)\n",
    "Player_boxscores_df[\"steals\"]=Player_boxscores_df[\"steals\"].astype(float)\n",
    "Player_boxscores_df[\"turnovers\"]=Player_boxscores_df[\"turnovers\"].astype(float)\n",
    "Player_boxscores_df[\"blocks\"]=Player_boxscores_df[\"blocks\"].astype(float)\n",
    "Player_boxscores_df[\"plusminus\"]=Player_boxscores_df[\"plusminus\"].astype(float)\n",
    "Player_boxscores_df.dtypes        "
   ]
  },
  {
   "cell_type": "code",
   "execution_count": null,
   "metadata": {},
   "outputs": [],
   "source": [
    "#Load NBA_TEAMS table\n",
    "Team_boxscores_df.to_sql('playerstats_boxscore',conn, if_exists='replace', index=False)"
   ]
  }
 ],
 "metadata": {
  "celltoolbar": "Tags",
  "kernelspec": {
   "display_name": "Python 3",
   "language": "python",
   "name": "python3"
  },
  "language_info": {
   "codemirror_mode": {
    "name": "ipython",
    "version": 3
   },
   "file_extension": ".py",
   "mimetype": "text/x-python",
   "name": "python",
   "nbconvert_exporter": "python",
   "pygments_lexer": "ipython3",
   "version": "3.6.5"
  }
 },
 "nbformat": 4,
 "nbformat_minor": 2
}
