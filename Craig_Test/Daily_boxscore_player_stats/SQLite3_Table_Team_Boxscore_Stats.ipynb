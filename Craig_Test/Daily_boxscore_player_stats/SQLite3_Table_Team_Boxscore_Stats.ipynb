{
 "cells": [
  {
   "cell_type": "code",
   "execution_count": 1,
   "metadata": {},
   "outputs": [],
   "source": [
    "# Dependencies\n",
    "\n",
    "import sqlite3"
   ]
  },
  {
   "cell_type": "code",
   "execution_count": 2,
   "metadata": {},
   "outputs": [],
   "source": [
    "# Create table in SQLite with one column to start\n",
    "\n",
    "# Need to fix path and test \n",
    "sqlite_file = 'game_stats3.sqlite'   #Name of SQLite Database file\n",
    "tablename_1 = 'teamstats_boxscore'  #Team stats by GameId\n",
    "new_field = 'gameid' # Name of column\n",
    "field_type = 'Integer' # column data type\n",
    "\n",
    "# Connect to Database file\n",
    "conn = sqlite3.connect(sqlite_file)\n",
    "c = conn.cursor()"
   ]
  },
  {
   "cell_type": "code",
   "execution_count": 3,
   "metadata": {},
   "outputs": [
    {
     "data": {
      "text/plain": [
       "<sqlite3.Cursor at 0x213801615e0>"
      ]
     },
     "execution_count": 3,
     "metadata": {},
     "output_type": "execute_result"
    }
   ],
   "source": [
    "# Creating a new SQLite table with 1 column\n",
    "\n",
    "c.execute('CREATE TABLE {tn} ({nf} {ft} PRIMARY KEY)'.format(tn=tablename_1, nf=new_field, ft=field_type))"
   ]
  },
  {
   "cell_type": "code",
   "execution_count": 4,
   "metadata": {},
   "outputs": [],
   "source": [
    "# Add new columns\n",
    "\n",
    "columns=[\"teamid\",\"fastpreakpoints\",\"pointsinpaint\",\"secondchancepoints\",\n",
    "        \"pointsoffturnovers\",\"points\",\"fgm\",\"fga\",\"fgp\",\"ftm\",\"fta\",\"ftp\",\n",
    "        \"tpm\",\"tpa\",\"tpp\",\"offreb\",\"defreb\",\"totreb\",\"assists\",\"pfouls\",\"steals\",\n",
    "         \"turnovers\",\"blocks\",\"plusminus\"]\n",
    "# 24\n",
    "\n",
    "types=[\"INTEGER\",\"REAL\",\"REAL\",\"REAL\",\"REAL\",\"REAL\",\"REAL\",\"REAL\",\"REAL\",\"REAL\",\"REAL\",\n",
    "      \"REAL\",\"REAL\",\"REAL\",\"REAL\",\"REAL\",\"REAL\",\"REAL\",\"REAL\",\"REAL\",\"REAL\",\"REAL\",\"REAL\",\n",
    "      \"REAL\"]\n",
    "\n",
    "for x in range(0, len(columns)):\n",
    "    c.execute(\"ALTER TABLE {tn} ADD COLUMN '{cn}' {ct}\".format(tn=tablename_1, cn=columns[x], ct=types[x]))"
   ]
  },
  {
   "cell_type": "code",
   "execution_count": 5,
   "metadata": {},
   "outputs": [],
   "source": [
    "# Committing changes and closing the connection to the database file\n",
    "conn.commit()\n",
    "conn.close()"
   ]
  },
  {
   "cell_type": "code",
   "execution_count": 6,
   "metadata": {},
   "outputs": [],
   "source": [
    "# Import Dependencies\n",
    "import sqlalchemy\n",
    "from sqlalchemy.ext.automap import automap_base\n",
    "from sqlalchemy.orm import Session\n",
    "from sqlalchemy import create_engine\n",
    "from sqlalchemy import func"
   ]
  },
  {
   "cell_type": "code",
   "execution_count": 9,
   "metadata": {},
   "outputs": [
    {
     "data": {
      "text/plain": [
       "['teamstats_boxscore']"
      ]
     },
     "execution_count": 9,
     "metadata": {},
     "output_type": "execute_result"
    }
   ],
   "source": [
    "# Create an engine for the NBAfantasyML.sqlite database\n",
    "engine = create_engine(\"sqlite:///game_stats.sqlite\", echo=False)\n",
    "conn = engine.connect()\n",
    "engine.table_names()"
   ]
  }
 ],
 "metadata": {
  "kernelspec": {
   "display_name": "Python 3",
   "language": "python",
   "name": "python3"
  },
  "language_info": {
   "codemirror_mode": {
    "name": "ipython",
    "version": 3
   },
   "file_extension": ".py",
   "mimetype": "text/x-python",
   "name": "python",
   "nbconvert_exporter": "python",
   "pygments_lexer": "ipython3",
   "version": "3.6.5"
  }
 },
 "nbformat": 4,
 "nbformat_minor": 2
}
