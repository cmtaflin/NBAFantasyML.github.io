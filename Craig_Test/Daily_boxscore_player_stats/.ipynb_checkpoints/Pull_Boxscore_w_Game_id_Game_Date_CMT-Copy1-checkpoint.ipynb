{
 "cells": [
  {
   "cell_type": "code",
   "execution_count": 1,
   "metadata": {
    "tags": [
     "Done"
    ]
   },
   "outputs": [],
   "source": [
    "# Dependencies and Setup\n",
    "\n",
    "import json\n",
    "import pandas as pd\n",
    "import requests\n",
    "import numpy as py\n",
    "from sqlalchemy.ext.declarative import declarative_base\n",
    "Base = declarative_base()\n",
    "from sqlalchemy import Column, Integer, String, Float, Date\n",
    "import pymysql\n",
    "pymysql.install_as_MySQLdb()\n",
    "from sqlalchemy import create_engine, inspect, func, distinct\n",
    "from sqlalchemy.ext.automap import automap_base\n",
    "from sqlalchemy.orm import Session\n",
    "import sqlite3\n",
    "from sqlite3 import Error"
   ]
  },
  {
   "cell_type": "code",
   "execution_count": 2,
   "metadata": {
    "tags": [
     "change_path_when_done"
    ]
   },
   "outputs": [
    {
     "name": "stdout",
     "output_type": "stream",
     "text": [
      "2.6.0\n"
     ]
    }
   ],
   "source": [
    "# ####      Create engine, connection and function to connect to SQLite db\n",
    "\n",
    "# Create engine and engine connection to SQLite Database\n",
    "\n",
    "engine = create_engine(\"sqlite:///game_stats2.sqlite\")\n",
    "conn = engine.connect()\n",
    "\n",
    "# Create function to try and connect to a sqlite database.  if it doesn't work, create one...\n",
    "\n",
    "def create_connection(db_file):\n",
    "    try:\n",
    "        conn = sqlite3.connect(db_file)\n",
    "        print(sqlite3.version)\n",
    "    except Error as e:\n",
    "        print(e)\n",
    "    finally:\n",
    "        conn.close()\n",
    "        \n",
    "# If connection succeeds\n",
    "\n",
    "if __name__ == '__main__':\n",
    "    create_connection(\"game_stats2.sqlite\")"
   ]
  },
  {
   "cell_type": "code",
   "execution_count": 3,
   "metadata": {
    "tags": [
     "done"
    ]
   },
   "outputs": [],
   "source": [
    "#Bring in data from internet as object then convert ot Json and count number of games\n",
    "\n",
    "# REQUEST\n",
    "\n",
    "schedule_response_obj=requests.get(\"http://data.nba.net/prod/v1/2018/schedule.json\")\n",
    "schedule_response=schedule_response_obj.json()\n",
    "\n",
    "# Count the number of Games for the season inschedule\n",
    "games_response_count=schedule_response[\"league\"][\"standard\"]\n",
    "seasongame_number=len(games_response_count)\n",
    "# seasongame_number"
   ]
  },
  {
   "cell_type": "code",
   "execution_count": 4,
   "metadata": {
    "tags": [
     "Start_loop_start_season"
    ]
   },
   "outputs": [],
   "source": [
    "###   Collect Elements for URL, append List, create DataFrame, DF_exclude games not played  ###\n",
    "\n",
    "# Bring in Game Id and GameData (\"startDataEastern\") elements from NBA Schedule later used to create box_score URL\n",
    "\n",
    "# Get elements\n",
    "NBA_Schedule=[]\n",
    "for item in schedule_response[\"league\"][\"standard\"]:\n",
    "    item_dict={}\n",
    "    item_dict[\"gameId\"]=item[\"gameId\"]\n",
    "    item_dict[\"startDateEastern\"]=item[\"startDateEastern\"]\n",
    "    item_dict[\"statusNum\"]=item[\"statusNum\"]\n",
    "\n",
    "# Append List\n",
    "    NBA_Schedule.append({\"gameid\":item_dict[\"gameId\"],\n",
    "                         \"startdateeastern\":item_dict[\"startDateEastern\"],\n",
    "                          \"statusnum\":item_dict[\"statusNum\"]})\n",
    "\n",
    "\n",
    "# Convert NBA_Schedule=[] list to DataFrame and modify Datatypes\n",
    "NBA_Schedule_DF_initial=pd.DataFrame(NBA_Schedule)\n",
    "NBA_Schedule_DF_initial[\"gameid\"]=NBA_Schedule_DF_initial[\"gameid\"].astype(int)\n",
    "NBA_Schedule_DF_initial[\"startdateeastern\"]=NBA_Schedule_DF_initial[\"startdateeastern\"].astype(int)\n",
    "NBA_Schedule_DF_initial[\"statusnum\"]=NBA_Schedule_DF_initial[\"statusnum\"].astype(int)\n",
    "\n",
    "# Exclude Games not Yet Played\n",
    "# OPEN: Exclude Pre-season Games\n",
    "NBA_Schedule_PlayedGM_DF=NBA_Schedule_DF_initial.loc[NBA_Schedule_DF_initial[\"statusnum\"]==3,:]"
   ]
  },
  {
   "cell_type": "code",
   "execution_count": 5,
   "metadata": {
    "tags": [
     "loop_start_reg_season"
    ]
   },
   "outputs": [
    {
     "name": "stderr",
     "output_type": "stream",
     "text": [
      "C:\\Users\\Craig\\Anaconda3\\lib\\site-packages\\ipykernel_launcher.py:21: SettingWithCopyWarning: \n",
      "A value is trying to be set on a copy of a slice from a DataFrame.\n",
      "Try using .loc[row_indexer,col_indexer] = value instead\n",
      "\n",
      "See the caveats in the documentation: http://pandas.pydata.org/pandas-docs/stable/indexing.html#indexing-view-versus-copy\n",
      "C:\\Users\\Craig\\Anaconda3\\lib\\site-packages\\ipykernel_launcher.py:22: SettingWithCopyWarning: \n",
      "A value is trying to be set on a copy of a slice from a DataFrame.\n",
      "Try using .loc[row_indexer,col_indexer] = value instead\n",
      "\n",
      "See the caveats in the documentation: http://pandas.pydata.org/pandas-docs/stable/indexing.html#indexing-view-versus-copy\n"
     ]
    },
    {
     "data": {
      "text/html": [
       "<div>\n",
       "<style scoped>\n",
       "    .dataframe tbody tr th:only-of-type {\n",
       "        vertical-align: middle;\n",
       "    }\n",
       "\n",
       "    .dataframe tbody tr th {\n",
       "        vertical-align: top;\n",
       "    }\n",
       "\n",
       "    .dataframe thead th {\n",
       "        text-align: right;\n",
       "    }\n",
       "</style>\n",
       "<table border=\"1\" class=\"dataframe\">\n",
       "  <thead>\n",
       "    <tr style=\"text-align: right;\">\n",
       "      <th></th>\n",
       "      <th>gameid</th>\n",
       "      <th>startdateeastern</th>\n",
       "      <th>statusnum</th>\n",
       "      <th>boxScoreURL</th>\n",
       "    </tr>\n",
       "  </thead>\n",
       "  <tbody>\n",
       "    <tr>\n",
       "      <th>0</th>\n",
       "      <td>11800001</td>\n",
       "      <td>20180928</td>\n",
       "      <td>3</td>\n",
       "      <td>{'boxScoreURL': 'http://data.nba.net/prod/v1/2...</td>\n",
       "    </tr>\n",
       "    <tr>\n",
       "      <th>1</th>\n",
       "      <td>11800002</td>\n",
       "      <td>20180928</td>\n",
       "      <td>3</td>\n",
       "      <td>{'boxScoreURL': 'http://data.nba.net/prod/v1/2...</td>\n",
       "    </tr>\n",
       "    <tr>\n",
       "      <th>2</th>\n",
       "      <td>11800003</td>\n",
       "      <td>20180929</td>\n",
       "      <td>3</td>\n",
       "      <td>{'boxScoreURL': 'http://data.nba.net/prod/v1/2...</td>\n",
       "    </tr>\n",
       "    <tr>\n",
       "      <th>3</th>\n",
       "      <td>11800004</td>\n",
       "      <td>20180929</td>\n",
       "      <td>3</td>\n",
       "      <td>{'boxScoreURL': 'http://data.nba.net/prod/v1/2...</td>\n",
       "    </tr>\n",
       "    <tr>\n",
       "      <th>4</th>\n",
       "      <td>11800005</td>\n",
       "      <td>20180929</td>\n",
       "      <td>3</td>\n",
       "      <td>{'boxScoreURL': 'http://data.nba.net/prod/v1/2...</td>\n",
       "    </tr>\n",
       "  </tbody>\n",
       "</table>\n",
       "</div>"
      ],
      "text/plain": [
       "     gameid  startdateeastern  statusnum  \\\n",
       "0  11800001          20180928          3   \n",
       "1  11800002          20180928          3   \n",
       "2  11800003          20180929          3   \n",
       "3  11800004          20180929          3   \n",
       "4  11800005          20180929          3   \n",
       "\n",
       "                                         boxScoreURL  \n",
       "0  {'boxScoreURL': 'http://data.nba.net/prod/v1/2...  \n",
       "1  {'boxScoreURL': 'http://data.nba.net/prod/v1/2...  \n",
       "2  {'boxScoreURL': 'http://data.nba.net/prod/v1/2...  \n",
       "3  {'boxScoreURL': 'http://data.nba.net/prod/v1/2...  \n",
       "4  {'boxScoreURL': 'http://data.nba.net/prod/v1/2...  "
      ]
     },
     "execution_count": 5,
     "metadata": {},
     "output_type": "execute_result"
    }
   ],
   "source": [
    "## Count Games Played, Generate URL for each Game Played, and add to DF: NBA_Schedule_PlayedGM_DF\n",
    "\n",
    "# count the number of gamesId records collected (note: some are pre-season and some haven't been played)\n",
    "\n",
    "playedgame_count=len(NBA_Schedule_PlayedGM_DF[\"gameid\"])\n",
    "\n",
    "# Generate Box_Score_URL and append to List Box_Score_URL_List\n",
    "\n",
    "Box_score_URL_List=[]\n",
    "\n",
    "# # Loop to generate Box Score URL using Gameid and GameData (\"startDataEastern\")\n",
    "\n",
    "for game_box in range (0,playedgame_count):\n",
    "    Box_score_URL_dict={}\n",
    "    Box_score_URL=F\"http://data.nba.net/prod/v1/{NBA_Schedule_PlayedGM_DF['startdateeastern'][game_box]}/00{NBA_Schedule_PlayedGM_DF['gameid'][game_box]}_boxscore.json\"\n",
    "    Box_score_URL_dict[\"boxscoreurl\"]=Box_score_URL\n",
    "\n",
    "#     Append list\n",
    "    Box_score_URL_List.append({\"boxScoreURL\":Box_score_URL_dict[\"boxscoreurl\"]})\n",
    "    \n",
    "NBA_Schedule_PlayedGM_DF[\"boxScoreURL\"]=Box_score_URL_List\n",
    "NBA_Schedule_PlayedGM_DF[\"boxScoreURL\"]=NBA_Schedule_PlayedGM_DF[\"boxScoreURL\"].astype(str)\n",
    "\n",
    "NBA_Schedule_PlayedGM_DF.head()\n",
    "\n"
   ]
  },
  {
   "cell_type": "code",
   "execution_count": null,
   "metadata": {},
   "outputs": [],
   "source": []
  },
  {
   "cell_type": "code",
   "execution_count": 6,
   "metadata": {},
   "outputs": [
    {
     "ename": "NameError",
     "evalue": "name 'dfasdfsd' is not defined",
     "output_type": "error",
     "traceback": [
      "\u001b[1;31m---------------------------------------------------------------------------\u001b[0m",
      "\u001b[1;31mNameError\u001b[0m                                 Traceback (most recent call last)",
      "\u001b[1;32m<ipython-input-6-614c4a0c42a0>\u001b[0m in \u001b[0;36m<module>\u001b[1;34m()\u001b[0m\n\u001b[1;32m----> 1\u001b[1;33m \u001b[0mdfasdfsd\u001b[0m\u001b[1;33m\u001b[0m\u001b[0m\n\u001b[0m",
      "\u001b[1;31mNameError\u001b[0m: name 'dfasdfsd' is not defined"
     ]
    }
   ],
   "source": [
    "dfasdfsd"
   ]
  },
  {
   "cell_type": "code",
   "execution_count": null,
   "metadata": {
    "tags": [
     "loop_start_reg_season"
    ]
   },
   "outputs": [],
   "source": [
    "NBA_Schedule_PlayedGM_DF[\"boxScoreURL\"]=Box_score_URLBox_score_URL_List\n",
    "NBA_Schedule_PlayedGM_DF[\"boxScoreURL\"]=NBA_Schedule_PlayedGM_DF[\"boxScoreURL\"].astype(str)\n",
    "\n",
    "NBA_Schedule_PlayedGM_DF.head()"
   ]
  },
  {
   "cell_type": "code",
   "execution_count": null,
   "metadata": {
    "tags": [
     "Done"
    ]
   },
   "outputs": [],
   "source": [
    "# Box Score Request and request Object \n",
    "# for i in range (0,game_count):\n",
    "\n",
    "test=NBA_Schedule_DF_initial.boxScoreURL[0]\n",
    "test"
   ]
  },
  {
   "cell_type": "code",
   "execution_count": null,
   "metadata": {
    "tags": [
     "Done"
    ]
   },
   "outputs": [],
   "source": [
    "box_score_obj=requests.get(NBA_Schedule_DF_initial[\"boxScoreURL\"][1])\n",
    "box_score_response=box_score_obj.json()\n",
    "box_score_response"
   ]
  },
  {
   "cell_type": "code",
   "execution_count": null,
   "metadata": {
    "tags": [
     "URL_loop_needed"
    ]
   },
   "outputs": [],
   "source": [
    "# Loop through ALL Box ScoreS: Extract vteam and hteam basic box score data EXCLUDING: INDIVIDUAL PLAYER STATS \n",
    "Team_boxscores_list=[]\n",
    "\n",
    "# Box Score Request and request Object \n",
    "For i in range (0,game_count):\n",
    "    box_score_obj=requests.get(NBA_Schedule_DF_initial[\"boxScoreURL\"][0])\n",
    "    box_score_response=box_score_obj.json()\n",
    "        # Loop test\n",
    "        for single_box_score in NBA_Schedule_DF_initial[\"boxScoreURL\"]:\n",
    "            # Vteam\n",
    "            vteam_dict={}\n",
    "            vteam_dict[\"gameId\"]=box_score_response[\"basicGameData\"][\"gameId\"]\n",
    "            vteam_dict[\"teamId\"]=box_score_response[\"basicGameData\"][\"vTeam\"][\"teamId\"]\n",
    "            vteam_dict[\"fastBreakPoints\"]=box_score_response[\"stats\"][\"vTeam\"][\"fastBreakPoints\"]\n",
    "            vteam_dict[\"pointsInPaint\"]=box_score_response[\"stats\"][\"vTeam\"][\"pointsInPaint\"]\n",
    "            vteam_dict[\"secondChancePoints\"]=box_score_response[\"stats\"][\"vTeam\"][\"secondChancePoints\"]\n",
    "            vteam_dict[\"pointsOffTurnovers\"]=box_score_response[\"stats\"][\"vTeam\"][\"pointsOffTurnovers\"]\n",
    "            vteam_dict[\"points\"]=box_score_response[\"stats\"][\"vTeam\"][\"totals\"][\"points\"]\n",
    "            vteam_dict[\"fgm\"]=box_score_response[\"stats\"][\"vTeam\"][\"totals\"][\"fgm\"]\n",
    "            vteam_dict[\"fga\"]=box_score_response[\"stats\"][\"vTeam\"][\"totals\"][\"fga\"]\n",
    "            vteam_dict[\"fgp\"]=box_score_response[\"stats\"][\"vTeam\"][\"totals\"][\"fgp\"]\n",
    "            vteam_dict[\"ftm\"]=box_score_response[\"stats\"][\"vTeam\"][\"totals\"][\"ftm\"]\n",
    "            vteam_dict[\"fta\"]=box_score_response[\"stats\"][\"vTeam\"][\"totals\"][\"fta\"]\n",
    "            vteam_dict[\"ftp\"]=box_score_response[\"stats\"][\"vTeam\"][\"totals\"][\"ftp\"]\n",
    "            vteam_dict[\"tpm\"]=box_score_response[\"stats\"][\"vTeam\"][\"totals\"][\"tpm\"]\n",
    "            vteam_dict[\"tpa\"]=box_score_response[\"stats\"][\"vTeam\"][\"totals\"][\"tpa\"]\n",
    "            vteam_dict[\"tpp\"]=box_score_response[\"stats\"][\"vTeam\"][\"totals\"][\"tpp\"]\n",
    "            vteam_dict[\"offReb\"]=box_score_response[\"stats\"][\"vTeam\"][\"totals\"][\"offReb\"]\n",
    "            vteam_dict[\"defReb\"]=box_score_response[\"stats\"][\"vTeam\"][\"totals\"][\"defReb\"]\n",
    "            vteam_dict[\"totReb\"]=box_score_response[\"stats\"][\"vTeam\"][\"totals\"][\"totReb\"]\n",
    "            vteam_dict[\"assists\"]=box_score_response[\"stats\"][\"vTeam\"][\"totals\"][\"assists\"]\n",
    "            vteam_dict[\"pFouls\"]=box_score_response[\"stats\"][\"vTeam\"][\"totals\"][\"pFouls\"]\n",
    "            vteam_dict[\"steals\"]=box_score_response[\"stats\"][\"vTeam\"][\"totals\"][\"steals\"]\n",
    "            vteam_dict[\"turnovers\"]=box_score_response[\"stats\"][\"vTeam\"][\"totals\"][\"turnovers\"]\n",
    "            vteam_dict[\"blocks\"]=box_score_response[\"stats\"][\"vTeam\"][\"totals\"][\"blocks\"]\n",
    "            vteam_dict[\"plusMinus\"]=box_score_response[\"stats\"][\"vTeam\"][\"totals\"][\"plusMinus\"]\n",
    "            vteam_dict[\"min\"]=box_score_response[\"stats\"][\"vTeam\"][\"totals\"][\"min\"]\n",
    "\n",
    "            Team_boxscores_list.append({\"gameid\":vteam_dict[\"gameId\"],\n",
    "                                        \"teamid\":vteam_dict[\"teamId\"],\n",
    "                                        \"fastbreakpoints\":vteam_dict[\"fastBreakPoints\"],\n",
    "                                        \"pointsinpaint\":vteam_dict[\"pointsInPaint\"],\n",
    "                                        \"secondchancepoints\":vteam_dict[\"secondChancePoints\"],\n",
    "                                        \"pointsoffturnovers\":vteam_dict[\"pointsOffTurnovers\"],\n",
    "                                        \"points\":vteam_dict[\"points\"],\n",
    "                                        \"fgm\":vteam_dict[\"fgm\"],\n",
    "                                        \"fga\":vteam_dict[\"fga\"],\n",
    "                                        \"fgp\":vteam_dict[\"fgp\"],\n",
    "                                        \"ftm\":vteam_dict[\"ftm\"],\n",
    "                                        \"fta\":vteam_dict[\"fta\"],\n",
    "                                        \"ftp\":vteam_dict[\"ftp\"],\n",
    "                                        \"tpm\":vteam_dict[\"tpm\"],\n",
    "                                        \"tpa\":vteam_dict[\"tpa\"],\n",
    "                                        \"tpp\":vteam_dict[\"tpp\"],\n",
    "                                        \"offreb\":vteam_dict[\"offReb\"],\n",
    "                                        \"defreb\":vteam_dict[\"defReb\"],\n",
    "                                        \"totreb\":vteam_dict[\"totReb\"],\n",
    "                                        \"assists\":vteam_dict[\"assists\"],\n",
    "                                        \"pfouls\":vteam_dict[\"pFouls\"],\n",
    "                                        \"steals\":vteam_dict[\"steals\"],\n",
    "                                        \"turnovers\":vteam_dict[\"turnovers\"],\n",
    "                                        \"blocks\":vteam_dict[\"blocks\"],\n",
    "                                        \"plusminus\":vteam_dict[\"plusMinus\"],\n",
    "                                        \"min\":vteam_dict[\"min\"]})\n",
    "\n",
    "            # Hteam\n",
    "            hteam_dict={}\n",
    "            hteam_dict[\"gameId\"]=box_score_response[\"basicGameData\"][\"gameId\"]\n",
    "            hteam_dict[\"teamId\"]=box_score_response[\"basicGameData\"][\"hTeam\"][\"teamId\"]\n",
    "            hteam_dict[\"fastBreakPoints\"]=box_score_response[\"stats\"][\"hTeam\"][\"fastBreakPoints\"]\n",
    "            hteam_dict[\"pointsInPaint\"]=box_score_response[\"stats\"][\"hTeam\"][\"pointsInPaint\"]\n",
    "            hteam_dict[\"secondChancePoints\"]=box_score_response[\"stats\"][\"hTeam\"][\"secondChancePoints\"]\n",
    "            hteam_dict[\"pointsOffTurnovers\"]=box_score_response[\"stats\"][\"hTeam\"][\"pointsOffTurnovers\"]\n",
    "            hteam_dict[\"points\"]=box_score_response[\"stats\"][\"hTeam\"][\"totals\"][\"points\"]\n",
    "            hteam_dict[\"fgm\"]=box_score_response[\"stats\"][\"hTeam\"][\"totals\"][\"fgm\"]\n",
    "            hteam_dict[\"fga\"]=box_score_response[\"stats\"][\"hTeam\"][\"totals\"][\"fga\"]\n",
    "            hteam_dict[\"fgp\"]=box_score_response[\"stats\"][\"hTeam\"][\"totals\"][\"fgp\"]\n",
    "            hteam_dict[\"ftm\"]=box_score_response[\"stats\"][\"hTeam\"][\"totals\"][\"ftm\"]\n",
    "            hteam_dict[\"fta\"]=box_score_response[\"stats\"][\"hTeam\"][\"totals\"][\"fta\"]\n",
    "            hteam_dict[\"ftp\"]=box_score_response[\"stats\"][\"hTeam\"][\"totals\"][\"ftp\"]\n",
    "            hteam_dict[\"tpm\"]=box_score_response[\"stats\"][\"hTeam\"][\"totals\"][\"tpm\"]\n",
    "            hteam_dict[\"tpa\"]=box_score_response[\"stats\"][\"hTeam\"][\"totals\"][\"tpa\"]\n",
    "            hteam_dict[\"tpp\"]=box_score_response[\"stats\"][\"hTeam\"][\"totals\"][\"tpp\"]\n",
    "            hteam_dict[\"offReb\"]=box_score_response[\"stats\"][\"hTeam\"][\"totals\"][\"offReb\"]\n",
    "            hteam_dict[\"defReb\"]=box_score_response[\"stats\"][\"hTeam\"][\"totals\"][\"defReb\"]\n",
    "            hteam_dict[\"totReb\"]=box_score_response[\"stats\"][\"hTeam\"][\"totals\"][\"totReb\"]\n",
    "            hteam_dict[\"assists\"]=box_score_response[\"stats\"][\"hTeam\"][\"totals\"][\"assists\"]\n",
    "            hteam_dict[\"pFouls\"]=box_score_response[\"stats\"][\"hTeam\"][\"totals\"][\"pFouls\"]\n",
    "            hteam_dict[\"steals\"]=box_score_response[\"stats\"][\"hTeam\"][\"totals\"][\"steals\"]\n",
    "            hteam_dict[\"turnovers\"]=box_score_response[\"stats\"][\"hTeam\"][\"totals\"][\"turnovers\"]\n",
    "            hteam_dict[\"blocks\"]=box_score_response[\"stats\"][\"hTeam\"][\"totals\"][\"blocks\"]\n",
    "            hteam_dict[\"plusMinus\"]=box_score_response[\"stats\"][\"hTeam\"][\"totals\"][\"plusMinus\"]\n",
    "            hteam_dict[\"min\"]=box_score_response[\"stats\"][\"hTeam\"][\"totals\"][\"min\"]\n",
    "\n",
    "            Team_boxscores_list.append({\"gameid\":hteam_dict[\"gameId\"],\n",
    "                                        \"teamid\":hteam_dict[\"teamId\"],\n",
    "                                        \"fastpreakpoints\":hteam_dict[\"fastBreakPoints\"],\n",
    "                                        \"pointsinpaint\":hteam_dict[\"pointsInPaint\"],\n",
    "                                        \"secondchancepoints\":hteam_dict[\"secondChancePoints\"],\n",
    "                                        \"pointsoffturnovers\":hteam_dict[\"pointsOffTurnovers\"],\n",
    "                                        \"points\":hteam_dict[\"points\"],\n",
    "                                        \"fgm\":hteam_dict[\"fgm\"],\n",
    "                                        \"fga\":hteam_dict[\"fga\"],\n",
    "                                        \"fgp\":hteam_dict[\"fgp\"],\n",
    "                                        \"ftm\":hteam_dict[\"ftm\"],\n",
    "                                        \"fta\":hteam_dict[\"fta\"],\n",
    "                                        \"ftp\":hteam_dict[\"ftp\"],\n",
    "                                        \"tpm\":hteam_dict[\"tpm\"],\n",
    "                                        \"tpa\":hteam_dict[\"tpa\"],\n",
    "                                        \"tpp\":hteam_dict[\"tpp\"],\n",
    "                                        \"offreb\":hteam_dict[\"offReb\"],\n",
    "                                        \"defreb\":hteam_dict[\"defReb\"],\n",
    "                                        \"totreb\":hteam_dict[\"totReb\"],\n",
    "                                        \"assists\":hteam_dict[\"assists\"],\n",
    "                                        \"pfouls\":hteam_dict[\"pFouls\"],\n",
    "                                        \"steals\":hteam_dict[\"steals\"],\n",
    "                                        \"turnovers\":hteam_dict[\"turnovers\"],\n",
    "                                        \"blocks\":hteam_dict[\"blocks\"],\n",
    "                                        \"plusminus\":hteam_dict[\"plusMinus\"],\n",
    "                                        \"min\":hteam_dict[\"min\"]})"
   ]
  },
  {
   "cell_type": "code",
   "execution_count": null,
   "metadata": {
    "tags": [
     "End_Team_Stats"
    ]
   },
   "outputs": [],
   "source": [
    "#  Boxscore team stats in DataFrame and modify type\n",
    "\n",
    "Team_boxscores_df=pd.DataFrame(Team_boxscores_list)\n",
    "Team_boxscores_df.head()"
   ]
  },
  {
   "cell_type": "code",
   "execution_count": null,
   "metadata": {},
   "outputs": [],
   "source": [
    "fddsfsad stop running"
   ]
  },
  {
   "cell_type": "code",
   "execution_count": null,
   "metadata": {},
   "outputs": [],
   "source": [
    "# Extract ONLY player stats from box score\n",
    "boxscore_player_list=[]\n",
    "\n",
    "for single_box_score in NBA_Schedule_DF_initial[\"boxScoreURL\"]:\n",
    "    for boxscore_playerstats in box_score_response[\"stats\"][\"activePlayers\"]:\n",
    "        boxscore_player_dict={}\n",
    "        boxscore_player_dict[\"personId\"]=boxscore_playerstats[\"personId\"]\n",
    "        boxscore_player_dict[\"teamId\"]=boxscore_playerstats[\"teamId\"]\n",
    "        boxscore_player_dict[\"points\"]=boxscore_playerstats[\"points\"]\n",
    "        boxscore_player_dict[\"pos\"]=boxscore_playerstats[\"pos\"]\n",
    "        boxscore_player_dict[\"min\"]=boxscore_playerstats[\"min\"]\n",
    "        boxscore_player_dict[\"points\"]=boxscore_playerstats[\"points\"]\n",
    "        boxscore_player_dict[\"fgm\"]=boxscore_playerstats[\"fgm\"]\n",
    "        boxscore_player_dict[\"min\"]=boxscore_playerstats[\"min\"]\n",
    "        boxscore_player_dict[\"points\"]=boxscore_playerstats[\"points\"]\n",
    "        boxscore_player_dict[\"fgm\"]=boxscore_playerstats[\"fgm\"]\n",
    "        boxscore_player_dict[\"fga\"]=boxscore_playerstats[\"fga\"]\n",
    "        boxscore_player_dict[\"fgp\"]=boxscore_playerstats[\"fgp\"]\n",
    "        boxscore_player_dict[\"ftm\"]=boxscore_playerstats[\"ftm\"]\n",
    "        boxscore_player_dict[\"fta\"]=boxscore_playerstats[\"fta\"]\n",
    "        boxscore_player_dict[\"ftp\"]=boxscore_playerstats[\"ftp\"]\n",
    "        boxscore_player_dict[\"tpm\"]=boxscore_playerstats[\"tpm\"]\n",
    "        boxscore_player_dict[\"tpa\"]=boxscore_playerstats[\"tpa\"]\n",
    "        boxscore_player_dict[\"tpp\"]=boxscore_playerstats[\"tpp\"]\n",
    "        boxscore_player_dict[\"offReb\"]=boxscore_playerstats[\"offReb\"]\n",
    "        boxscore_player_dict[\"defReb\"]=boxscore_playerstats[\"defReb\"]\n",
    "        boxscore_player_dict[\"totReb\"]=boxscore_playerstats[\"totReb\"]\n",
    "        boxscore_player_dict[\"assists\"]=boxscore_playerstats[\"assists\"]\n",
    "        boxscore_player_dict[\"pFouls\"]=boxscore_playerstats[\"pFouls\"]\n",
    "        boxscore_player_dict[\"steals\"]=boxscore_playerstats[\"steals\"]\n",
    "        boxscore_player_dict[\"turnovers\"]=boxscore_playerstats[\"totReb\"]\n",
    "        boxscore_player_dict[\"blocks\"]=boxscore_playerstats[\"blocks\"]\n",
    "        boxscore_player_dict[\"plusMinus\"]=boxscore_playerstats[\"plusMinus\"]\n",
    "        boxscore_player_dict[\"dnp\"]=boxscore_playerstats[\"dnp\"]\n",
    "\n",
    "        boxscore_player_list.append({\"persondd\":boxscore_playerstats[\"personId\"],\n",
    "                                    \"teamid\":boxscore_playerstats[\"teamId\"],\n",
    "                                    \"points\":boxscore_playerstats[\"points\"],\n",
    "                                    \"pos\":boxscore_playerstats[\"pos\"],\n",
    "                                    \"min\":boxscore_playerstats[\"min\"],\n",
    "                                    \"points\":boxscore_playerstats[\"points\"],\n",
    "                                    \"fgm\":boxscore_playerstats[\"fgm\"],\n",
    "                                    \"min\":boxscore_playerstats[\"min\"],\n",
    "                                    \"points\":boxscore_playerstats[\"points\"],\n",
    "                                    \"fgm\":boxscore_playerstats[\"fgm\"],\n",
    "                                    \"fga\":boxscore_playerstats[\"fga\"],\n",
    "                                    \"fgp\":boxscore_playerstats[\"fgp\"],\n",
    "                                    \"ftm\":boxscore_playerstats[\"ftm\"],\n",
    "                                    \"fta\":boxscore_playerstats[\"fta\"],\n",
    "                                    \"ftp\":boxscore_playerstats[\"ftp\"],\n",
    "                                    \"tpm\":boxscore_playerstats[\"tpm\"],\n",
    "                                    \"tpa\":boxscore_playerstats[\"tpa\"],\n",
    "                                    \"tpp\":boxscore_playerstats[\"tpp\"],\n",
    "                                    \"offreb\":boxscore_playerstats[\"offReb\"],\n",
    "                                    \"defreb\":boxscore_playerstats[\"defReb\"],\n",
    "                                    \"totreb\":boxscore_playerstats[\"totReb\"],\n",
    "                                    \"assists\":boxscore_playerstats[\"assists\"],\n",
    "                                    \"pfouls\":boxscore_playerstats[\"pFouls\"],\n",
    "                                    \"steals\":boxscore_playerstats[\"steals\"],\n",
    "                                    \"turnovers\":boxscore_playerstats[\"totReb\"],\n",
    "                                    \"blocks\":boxscore_playerstats[\"blocks\"],\n",
    "                                    \"plusminus\":boxscore_playerstats[\"plusMinus\"],\n",
    "                                    \"dnp\":boxscore_playerstats[\"dnp\"]})"
   ]
  },
  {
   "cell_type": "code",
   "execution_count": null,
   "metadata": {},
   "outputs": [],
   "source": [
    "#  Boxscore Player stats in DataFrame and modify type\n",
    "\n",
    "boxscore_player_df=pd.DataFrame(boxscore_player_list)\n",
    "boxscore_player_df.head()"
   ]
  },
  {
   "cell_type": "code",
   "execution_count": null,
   "metadata": {},
   "outputs": [],
   "source": [
    "# change Dtype\n",
    "boxscore_teams_df=pd.DataFrame(Team_boxscores_list[\"gameId\"])\n",
    "boxscore_teams_df"
   ]
  },
  {
   "cell_type": "code",
   "execution_count": null,
   "metadata": {},
   "outputs": [],
   "source": [
    "boxscore_player_df=pd.DataFrame(boxscore_player_list)\n",
    "boxscore_player_df.dtypes"
   ]
  },
  {
   "cell_type": "code",
   "execution_count": null,
   "metadata": {},
   "outputs": [],
   "source": []
  },
  {
   "cell_type": "code",
   "execution_count": null,
   "metadata": {
    "scrolled": true
   },
   "outputs": [],
   "source": [
    "#Load NBA_TEAMS table\n",
    "# NBA_Schedule_DF_GameId.to_sql('NBA_SCHEDULE_GAME_DATE',conn, if_exists='replace', index=False)"
   ]
  }
 ],
 "metadata": {
  "celltoolbar": "Tags",
  "kernelspec": {
   "display_name": "Python 3",
   "language": "python",
   "name": "python3"
  },
  "language_info": {
   "codemirror_mode": {
    "name": "ipython",
    "version": 3
   },
   "file_extension": ".py",
   "mimetype": "text/x-python",
   "name": "python",
   "nbconvert_exporter": "python",
   "pygments_lexer": "ipython3",
   "version": "3.6.5"
  }
 },
 "nbformat": 4,
 "nbformat_minor": 2
}
