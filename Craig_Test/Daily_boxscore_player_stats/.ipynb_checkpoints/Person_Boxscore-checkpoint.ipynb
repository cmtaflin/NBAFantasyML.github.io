{
 "cells": [
  {
   "cell_type": "code",
   "execution_count": 1,
   "metadata": {
    "tags": [
     "Done"
    ]
   },
   "outputs": [],
   "source": [
    "# Dependencies and Setup\n",
    "\n",
    "import json\n",
    "import pandas as pd\n",
    "import requests\n",
    "import numpy as py\n",
    "from sqlalchemy.ext.declarative import declarative_base\n",
    "Base = declarative_base()\n",
    "from sqlalchemy import Column, Integer, String, Float, Date\n",
    "import pymysql\n",
    "pymysql.install_as_MySQLdb()\n",
    "from sqlalchemy import create_engine, inspect, func, distinct\n",
    "from sqlalchemy.ext.automap import automap_base\n",
    "from sqlalchemy.orm import Session\n",
    "import sqlite3\n",
    "from sqlite3 import Error"
   ]
  },
  {
   "cell_type": "code",
   "execution_count": 2,
   "metadata": {
    "tags": [
     "change_path_when_done"
    ]
   },
   "outputs": [
    {
     "name": "stdout",
     "output_type": "stream",
     "text": [
      "2.6.0\n"
     ]
    }
   ],
   "source": [
    "# ####      Create engine, connection and function to connect to SQLite db\n",
    "\n",
    "# Create engine and engine connection to SQLite Database\n",
    "\n",
    "engine = create_engine(\"sqlite:///game_stats3.sqlite\")\n",
    "conn = engine.connect()\n",
    "\n",
    "# Create function to try and connect to a sqlite database.  if it doesn't work, create one...\n",
    "\n",
    "def create_connection(db_file):\n",
    "    try:\n",
    "        conn = sqlite3.connect(db_file)\n",
    "        print(sqlite3.version)\n",
    "    except Error as e:\n",
    "        print(e)\n",
    "    finally:\n",
    "        conn.close()\n",
    "        \n",
    "# If connection succeeds\n",
    "\n",
    "if __name__ == '__main__':\n",
    "    create_connection(\"game_stats3.sqlite\")"
   ]
  },
  {
   "cell_type": "code",
   "execution_count": 3,
   "metadata": {
    "tags": [
     "done"
    ]
   },
   "outputs": [],
   "source": [
    "#Bring in data from internet as object then convert ot Json and count number of games\n",
    "\n",
    "# REQUEST\n",
    "\n",
    "schedule_response_obj=requests.get(\"http://data.nba.net/prod/v1/2018/schedule.json\")\n",
    "schedule_response=schedule_response_obj.json()\n",
    "\n",
    "# Count the number of Games for the season inschedule\n",
    "games_response_count=schedule_response[\"league\"][\"standard\"]\n",
    "seasongame_number=len(games_response_count)\n",
    "# seasongame_number"
   ]
  },
  {
   "cell_type": "code",
   "execution_count": 4,
   "metadata": {
    "tags": [
     "Start_loop_start_season"
    ]
   },
   "outputs": [],
   "source": [
    "###   Collect Elements for URL, append List, create DataFrame, DF_exclude games not played  ###\n",
    "\n",
    "# Bring in Game Id and GameData (\"startDataEastern\") elements from NBA Schedule later used to create box_score URL\n",
    "\n",
    "# Get elements\n",
    "NBA_Schedule=[]\n",
    "for item in schedule_response[\"league\"][\"standard\"]:\n",
    "    item_dict={}\n",
    "    item_dict[\"gameId\"]=item[\"gameId\"]\n",
    "    item_dict[\"startDateEastern\"]=item[\"startDateEastern\"]\n",
    "    item_dict[\"statusNum\"]=item[\"statusNum\"]\n",
    "\n",
    "# Append List\n",
    "    NBA_Schedule.append({\"gameid\":item_dict[\"gameId\"],\n",
    "                         \"startdateeastern\":item_dict[\"startDateEastern\"],\n",
    "                          \"statusnum\":item_dict[\"statusNum\"]})\n",
    "\n",
    "\n",
    "# Convert NBA_Schedule=[] list to DataFrame and modify Datatypes\n",
    "NBA_Schedule_DF_initial=pd.DataFrame(NBA_Schedule)\n",
    "NBA_Schedule_DF_initial[\"gameid\"]=NBA_Schedule_DF_initial[\"gameid\"].astype(int)\n",
    "NBA_Schedule_DF_initial[\"startdateeastern\"]=NBA_Schedule_DF_initial[\"startdateeastern\"].astype(int)\n",
    "NBA_Schedule_DF_initial[\"statusnum\"]=NBA_Schedule_DF_initial[\"statusnum\"].astype(int)\n",
    "\n",
    "# Exclude Games not Yet Played\n",
    "# OPEN: Exclude Pre-season Games\n",
    "NBA_Schedule_PlayedGM_DF=NBA_Schedule_DF_initial.loc[NBA_Schedule_DF_initial[\"statusnum\"]==3,:]"
   ]
  },
  {
   "cell_type": "code",
   "execution_count": 5,
   "metadata": {
    "tags": [
     "loop_start_reg_season"
    ]
   },
   "outputs": [],
   "source": [
    "## Count Games Played, Generate URL for each Game Played, and add to DF: NBA_Schedule_PlayedGM_DF\n",
    "\n",
    "# count the number of gamesId records collected (note: some are pre-season and some haven't been played)\n",
    "\n",
    "playedgame_count=len(NBA_Schedule_PlayedGM_DF[\"gameid\"])"
   ]
  },
  {
   "cell_type": "code",
   "execution_count": 6,
   "metadata": {
    "tags": [
     "loop_start_reg_season"
    ]
   },
   "outputs": [
    {
     "name": "stderr",
     "output_type": "stream",
     "text": [
      "C:\\Users\\Craig\\Anaconda3\\lib\\site-packages\\ipykernel_launcher.py:13: SettingWithCopyWarning: \n",
      "A value is trying to be set on a copy of a slice from a DataFrame.\n",
      "Try using .loc[row_indexer,col_indexer] = value instead\n",
      "\n",
      "See the caveats in the documentation: http://pandas.pydata.org/pandas-docs/stable/indexing.html#indexing-view-versus-copy\n",
      "  del sys.path[0]\n"
     ]
    },
    {
     "data": {
      "text/plain": [
       "gameid               int32\n",
       "startdateeastern     int32\n",
       "statusnum            int32\n",
       "boxscoreURL         object\n",
       "dtype: object"
      ]
     },
     "execution_count": 6,
     "metadata": {},
     "output_type": "execute_result"
    }
   ],
   "source": [
    "# Generate Box_Score_URL and append to List Box_Score_URL_List\n",
    "\n",
    "Box_score_URL_List=[]\n",
    "\n",
    "# # Loop to generate Box Score URL using Gameid and GameData (\"startDataEastern\")\n",
    "\n",
    "for game_box in range (0,playedgame_count):\n",
    "    Box_score_URL=F\"http://data.nba.net/prod/v1/{NBA_Schedule_PlayedGM_DF['startdateeastern'][game_box]}/00{NBA_Schedule_PlayedGM_DF['gameid'][game_box]}_boxscore.json\"\n",
    "\n",
    "#     Append list\n",
    "    Box_score_URL_List.append(Box_score_URL)\n",
    "    \n",
    "NBA_Schedule_PlayedGM_DF[\"boxscoreURL\"]=Box_score_URL_List\n",
    "# NBA_Schedule_PlayedGM_DF[\"boxscoreURL\"]=NBA_Schedule_PlayedGM_DF[\"boxscoreURL\"].astype(str)\n",
    "\n",
    "NBA_Schedule_PlayedGM_DF.dtypes"
   ]
  },
  {
   "cell_type": "code",
   "execution_count": 7,
   "metadata": {},
   "outputs": [
    {
     "ename": "NameError",
     "evalue": "name 'boxscore_playerstats' is not defined",
     "output_type": "error",
     "traceback": [
      "\u001b[1;31m---------------------------------------------------------------------------\u001b[0m",
      "\u001b[1;31mNameError\u001b[0m                                 Traceback (most recent call last)",
      "\u001b[1;32m<ipython-input-7-dfa2eb6ee88f>\u001b[0m in \u001b[0;36m<module>\u001b[1;34m()\u001b[0m\n\u001b[0;32m      6\u001b[0m     \u001b[0mbox_score_response\u001b[0m\u001b[1;33m=\u001b[0m\u001b[0mbox_score_obj\u001b[0m\u001b[1;33m.\u001b[0m\u001b[0mjson\u001b[0m\u001b[1;33m(\u001b[0m\u001b[1;33m)\u001b[0m\u001b[1;33m\u001b[0m\u001b[0m\n\u001b[0;32m      7\u001b[0m     \u001b[0mboxscore_player_dict\u001b[0m\u001b[1;33m=\u001b[0m\u001b[1;33m{\u001b[0m\u001b[1;33m}\u001b[0m\u001b[1;33m\u001b[0m\u001b[0m\n\u001b[1;32m----> 8\u001b[1;33m     \u001b[0mboxscore_player_dict\u001b[0m\u001b[1;33m[\u001b[0m\u001b[1;34m\"personId\"\u001b[0m\u001b[1;33m]\u001b[0m\u001b[1;33m=\u001b[0m\u001b[0mboxscore_playerstats\u001b[0m\u001b[1;33m[\u001b[0m\u001b[1;34m\"personId\"\u001b[0m\u001b[1;33m]\u001b[0m\u001b[1;33m\u001b[0m\u001b[0m\n\u001b[0m\u001b[0;32m      9\u001b[0m     \u001b[0mboxscore_player_dict\u001b[0m\u001b[1;33m[\u001b[0m\u001b[1;34m\"teamId\"\u001b[0m\u001b[1;33m]\u001b[0m\u001b[1;33m=\u001b[0m\u001b[0mboxscore_playerstats\u001b[0m\u001b[1;33m[\u001b[0m\u001b[1;34m\"teamId\"\u001b[0m\u001b[1;33m]\u001b[0m\u001b[1;33m\u001b[0m\u001b[0m\n\u001b[0;32m     10\u001b[0m     \u001b[0mboxscore_player_dict\u001b[0m\u001b[1;33m[\u001b[0m\u001b[1;34m\"points\"\u001b[0m\u001b[1;33m]\u001b[0m\u001b[1;33m=\u001b[0m\u001b[0mboxscore_playerstats\u001b[0m\u001b[1;33m[\u001b[0m\u001b[1;34m\"points\"\u001b[0m\u001b[1;33m]\u001b[0m\u001b[1;33m\u001b[0m\u001b[0m\n",
      "\u001b[1;31mNameError\u001b[0m: name 'boxscore_playerstats' is not defined"
     ]
    }
   ],
   "source": [
    "# Extract ONLY player stats from box score\n",
    "Player_boxscores_list=[]\n",
    "\n",
    "for i in range (0,playedgame_count):\n",
    "    box_score_obj=requests.get(NBA_Schedule_PlayedGM_DF[\"boxscoreURL\"][i])\n",
    "    box_score_response=box_score_obj.json()\n",
    "    boxscore_player_dict={}\n",
    "    boxscore_player_dict[\"personId\"]=box_score_response[\"personId\"]\n",
    "    boxscore_player_dict[\"teamId\"]=box_score_response[\"teamId\"]\n",
    "    boxscore_player_dict[\"points\"]=box_score_response[\"points\"]\n",
    "    boxscore_player_dict[\"pos\"]=box_score_response[\"pos\"]\n",
    "    boxscore_player_dict[\"min\"]=box_score_response[\"min\"]\n",
    "    boxscore_player_dict[\"points\"]=box_score_response[\"points\"]\n",
    "    boxscore_player_dict[\"fgm\"]=box_score_response[\"fgm\"]\n",
    "    boxscore_player_dict[\"min\"]=box_score_response[\"min\"]\n",
    "    boxscore_player_dict[\"points\"]=box_score_response[\"points\"]\n",
    "    boxscore_player_dict[\"fgm\"]=box_score_response[\"fgm\"]\n",
    "    boxscore_player_dict[\"fga\"]=box_score_response[\"fga\"]\n",
    "    boxscore_player_dict[\"fgp\"]=box_score_response[\"fgp\"]\n",
    "    boxscore_player_dict[\"ftm\"]=box_score_response[\"ftm\"]\n",
    "    boxscore_player_dict[\"fta\"]=box_score_response[\"fta\"]\n",
    "    boxscore_player_dict[\"ftp\"]=box_score_response[\"ftp\"]\n",
    "    boxscore_player_dict[\"tpm\"]=box_score_response[\"tpm\"]\n",
    "    boxscore_player_dict[\"tpa\"]=box_score_response[\"tpa\"]\n",
    "    boxscore_player_dict[\"tpp\"]=box_score_response[\"tpp\"]\n",
    "    boxscore_player_dict[\"offReb\"]=box_score_response[\"offReb\"]\n",
    "    boxscore_player_dict[\"defReb\"]=box_score_response[\"defReb\"]\n",
    "    boxscore_player_dict[\"totReb\"]=box_score_response[\"totReb\"]\n",
    "    boxscore_player_dict[\"assists\"]=box_score_response[\"assists\"]\n",
    "    boxscore_player_dict[\"pFouls\"]=box_score_response[\"pFouls\"]\n",
    "    boxscore_player_dict[\"steals\"]=box_score_response[\"steals\"]\n",
    "    boxscore_player_dict[\"turnovers\"]=box_score_response[\"totReb\"]\n",
    "    boxscore_player_dict[\"blocks\"]=box_score_response[\"blocks\"]\n",
    "    boxscore_player_dict[\"plusMinus\"]=box_score_response[\"plusMinus\"]\n",
    "    boxscore_player_dict[\"dnp\"]=box_score_response[\"dnp\"]\n",
    "\n",
    "    Player_boxscores_list.append({\"persondd\":boxscore_player_dict[\"personId\"],\n",
    "                                \"teamid\":boxscore_player_dict[\"teamId\"],\n",
    "                                \"points\":boxscore_player_dict[\"points\"],\n",
    "                                \"pos\":boxscore_player_dict[\"pos\"],\n",
    "                                \"min\":boxscore_player_dict[\"min\"],\n",
    "                                \"points\":boxscore_player_dict[\"points\"],\n",
    "                                \"fgm\":boxscore_player_dict[\"fgm\"],\n",
    "                                \"min\":boxscore_player_dict[\"min\"],\n",
    "                                \"points\":boxscore_player_dict[\"points\"],\n",
    "                                \"fgm\":boxscore_player_dict[\"fgm\"],\n",
    "                                \"fga\":boxscore_player_dict[\"fga\"],\n",
    "                                \"fgp\":boxscore_player_dict[\"fgp\"],\n",
    "                                \"ftm\":boxscore_player_dict[\"ftm\"],\n",
    "                                \"fta\":boxscore_player_dict[\"fta\"],\n",
    "                                \"ftp\":boxscore_player_dict[\"ftp\"],\n",
    "                                \"tpm\":boxscore_player_dict[\"tpm\"],\n",
    "                                \"tpa\":boxscore_player_dict[\"tpa\"],\n",
    "                                \"tpp\":boxscore_player_dict[\"tpp\"],\n",
    "                                \"offreb\":boxscore_player_dict[\"offReb\"],\n",
    "                                \"defreb\":boxscore_player_dict[\"defReb\"],\n",
    "                                \"totreb\":boxscore_player_dict[\"totReb\"],\n",
    "                                \"assists\":boxscore_player_dict[\"assists\"],\n",
    "                                \"pfouls\":boxscore_player_dict[\"pFouls\"],\n",
    "                                \"steals\":boxscore_player_dict[\"steals\"],\n",
    "                                \"turnovers\":boxscore_player_dict[\"totReb\"],\n",
    "                                \"blocks\":boxscore_player_dict[\"blocks\"],\n",
    "                                \"plusminus\":boxscore_player_dict[\"plusMinus\"],\n",
    "                                \"dnp\":boxscore_player_dict[\"dnp\"]})"
   ]
  },
  {
   "cell_type": "code",
   "execution_count": null,
   "metadata": {},
   "outputs": [],
   "source": [
    "Player_boxscores_df=pd.DataFrame(Player_boxscores_list)\n",
    "Player_boxscores_df[\"gameid\"]=Player_boxscores_df[\"gameid\"].astype(int)\n",
    "Player_boxscores_df[\"teamid\"]=Player_boxscores_df[\"teamid\"].astype(int)\n",
    "Player_boxscores_df[\"fastbreakpoints\"]=Player_boxscores_df[\"fastbreakpoints\"].astype(float)\n",
    "Player_boxscores_df[\"pointsinpaint\"]=Player_boxscores_df[\"pointsinpaint\"].astype(float)\n",
    "Player_boxscores_df[\"secondchancepoints\"]=Player_boxscores_df[\"secondchancepoints\"].astype(float)\n",
    "Player_boxscores_df[\"pointsoffturnovers\"]=Player_boxscores_df[\"pointsoffturnovers\"].astype(float)\n",
    "Player_boxscores_df[\"points\"]=Player_boxscores_df[\"points\"].astype(float)\n",
    "Player_boxscores_df[\"fgm\"]=Player_boxscores_df[\"fgm\"].astype(float)\n",
    "Player_boxscores_df[\"fga\"]=Player_boxscores_df[\"fga\"].astype(float)\n",
    "Player_boxscores_df[\"fgp\"]=Player_boxscores_df[\"fgp\"].astype(float)\n",
    "Player_boxscores_df[\"ftm\"]=Player_boxscores_df[\"ftm\"].astype(float)\n",
    "Player_boxscores_df[\"fta\"]=Player_boxscores_df[\"fta\"].astype(float)\n",
    "Player_boxscores_df[\"ftp\"]=Player_boxscores_df[\"ftp\"].astype(float)\n",
    "Player_boxscores_df[\"tpm\"]=Player_boxscores_df[\"tpm\"].astype(float)\n",
    "Player_boxscores_df[\"tpa\"]=Player_boxscores_df[\"tpa\"].astype(float)\n",
    "Player_boxscores_df[\"tpp\"]=Player_boxscores_df[\"tpp\"].astype(float)\n",
    "Player_boxscores_df[\"offreb\"]=Player_boxscores_df[\"offreb\"].astype(float)\n",
    "Player_boxscores_df[\"defreb\"]=Player_boxscores_df[\"defreb\"].astype(float)\n",
    "Player_boxscores_df[\"totreb\"]=Player_boxscores_df[\"totreb\"].astype(float)\n",
    "Player_boxscores_df[\"assists\"]=Player_boxscores_df[\"assists\"].astype(float)\n",
    "Player_boxscores_df[\"pfouls\"]=Player_boxscores_df[\"pfouls\"].astype(float)\n",
    "Player_boxscores_df[\"steals\"]=Player_boxscores_df[\"steals\"].astype(float)\n",
    "Player_boxscores_df[\"turnovers\"]=Player_boxscores_df[\"turnovers\"].astype(float)\n",
    "Player_boxscores_df[\"blocks\"]=Player_boxscores_df[\"blocks\"].astype(float)\n",
    "Player_boxscores_df[\"plusminus\"]=Player_boxscores_df[\"plusminus\"].astype(float)\n",
    "Player_boxscores_df.dtypes        "
   ]
  },
  {
   "cell_type": "code",
   "execution_count": null,
   "metadata": {},
   "outputs": [],
   "source": [
    "#Load NBA_TEAMS table\n",
    "Team_boxscores_df.to_sql('playerstats_boxscore',conn, if_exists='replace', index=False)"
   ]
  }
 ],
 "metadata": {
  "celltoolbar": "Tags",
  "kernelspec": {
   "display_name": "Python 3",
   "language": "python",
   "name": "python3"
  },
  "language_info": {
   "codemirror_mode": {
    "name": "ipython",
    "version": 3
   },
   "file_extension": ".py",
   "mimetype": "text/x-python",
   "name": "python",
   "nbconvert_exporter": "python",
   "pygments_lexer": "ipython3",
   "version": "3.6.5"
  }
 },
 "nbformat": 4,
 "nbformat_minor": 2
}
