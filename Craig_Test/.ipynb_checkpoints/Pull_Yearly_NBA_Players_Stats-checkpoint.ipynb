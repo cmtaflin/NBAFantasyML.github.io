{
 "cells": [
  {
   "cell_type": "code",
   "execution_count": 1,
   "metadata": {},
   "outputs": [],
   "source": [
    "# Dependencies and Setup\n",
    "import json\n",
    "import pandas as pd\n",
    "import requests"
   ]
  },
  {
   "cell_type": "code",
   "execution_count": 2,
   "metadata": {},
   "outputs": [],
   "source": [
    "# Bring in data as object jasonified\n",
    "player_name_personID_obj=requests.get(\"http://data.nba.net/prod/v1/2018/players.json\")\n",
    "player_name_personID_request=player_name_personID_obj.json()\n",
    "number_chosen=0"
   ]
  },
  {
   "cell_type": "code",
   "execution_count": 12,
   "metadata": {
    "scrolled": true
   },
   "outputs": [],
   "source": [
    "# Loop through data and pull out data\n",
    "\n",
    "NBA_player_list=[]\n",
    "for players in player_name_personID_request[\"league\"][\"standard\"]:\n",
    "    player_list_dict={}\n",
    "    player_list_dict[\"personId\"]=players[\"personId\"]\n",
    "    player_list_dict[\"lastName\"]=players[\"lastName\"]\n",
    "    player_list_dict[\"firstName\"]=players[\"firstName\"]\n",
    "    \n",
    "# Append NBA_player_list= personID \n",
    "    NBA_player_list.append(player_list_dict[\"personId\"])\n",
    "\n",
    "# Create and Append NBA_player_list= personID with First and Last name    \n",
    "# NBA_player_list_Name=[]    \n",
    "#     NBA_player_list_Name.append({\"personId\":player_list_dict[\"personId\"],\n",
    "#                                 \"lastName\":player_list_dict[\"lastName\"],\n",
    "#                                 \"fistName\":player_list_dict[\"firstName\"]})  "
   ]
  },
  {
   "cell_type": "code",
   "execution_count": 4,
   "metadata": {},
   "outputs": [
    {
     "data": {
      "text/html": [
       "<div>\n",
       "<style scoped>\n",
       "    .dataframe tbody tr th:only-of-type {\n",
       "        vertical-align: middle;\n",
       "    }\n",
       "\n",
       "    .dataframe tbody tr th {\n",
       "        vertical-align: top;\n",
       "    }\n",
       "\n",
       "    .dataframe thead th {\n",
       "        text-align: right;\n",
       "    }\n",
       "</style>\n",
       "<table border=\"1\" class=\"dataframe\">\n",
       "  <thead>\n",
       "    <tr style=\"text-align: right;\">\n",
       "      <th></th>\n",
       "      <th>0</th>\n",
       "    </tr>\n",
       "  </thead>\n",
       "  <tbody>\n",
       "    <tr>\n",
       "      <th>0</th>\n",
       "      <td>203518</td>\n",
       "    </tr>\n",
       "    <tr>\n",
       "      <th>1</th>\n",
       "      <td>203112</td>\n",
       "    </tr>\n",
       "    <tr>\n",
       "      <th>2</th>\n",
       "      <td>1629121</td>\n",
       "    </tr>\n",
       "    <tr>\n",
       "      <th>3</th>\n",
       "      <td>203500</td>\n",
       "    </tr>\n",
       "    <tr>\n",
       "      <th>4</th>\n",
       "      <td>1628389</td>\n",
       "    </tr>\n",
       "  </tbody>\n",
       "</table>\n",
       "</div>"
      ],
      "text/plain": [
       "         0\n",
       "0   203518\n",
       "1   203112\n",
       "2  1629121\n",
       "3   203500\n",
       "4  1628389"
      ]
     },
     "execution_count": 4,
     "metadata": {},
     "output_type": "execute_result"
    }
   ],
   "source": [
    "Player_personId_Name_df=pd.DataFrame(data=NBA_player_list)\n",
    "Player_personId_Name_df.head()"
   ]
  },
  {
   "cell_type": "code",
   "execution_count": 16,
   "metadata": {},
   "outputs": [
    {
     "name": "stdout",
     "output_type": "stream",
     "text": [
      "['http://data.nba.net/prod/v1/2018/players/203518_profile.json', 'http://data.nba.net/prod/v1/2018/players/203518_profile.json', 'http://data.nba.net/prod/v1/2018/players/203518_profile.json', 'http://data.nba.net/prod/v1/2018/players/203518_profile.json', 'http://data.nba.net/prod/v1/2018/players/203518_profile.json', 'http://data.nba.net/prod/v1/2018/players/203518_profile.json', 'http://data.nba.net/prod/v1/2018/players/203518_profile.json', 'http://data.nba.net/prod/v1/2018/players/203518_profile.json', 'http://data.nba.net/prod/v1/2018/players/203518_profile.json', 'http://data.nba.net/prod/v1/2018/players/203518_profile.json', 'http://data.nba.net/prod/v1/2018/players/203518_profile.json', 'http://data.nba.net/prod/v1/2018/players/203518_profile.json', 'http://data.nba.net/prod/v1/2018/players/203518_profile.json', 'http://data.nba.net/prod/v1/2018/players/203518_profile.json', 'http://data.nba.net/prod/v1/2018/players/203518_profile.json', 'http://data.nba.net/prod/v1/2018/players/203518_profile.json', 'http://data.nba.net/prod/v1/2018/players/203518_profile.json', 'http://data.nba.net/prod/v1/2018/players/203518_profile.json', 'http://data.nba.net/prod/v1/2018/players/203518_profile.json', 'http://data.nba.net/prod/v1/2018/players/203518_profile.json', 'http://data.nba.net/prod/v1/2018/players/203518_profile.json', 'http://data.nba.net/prod/v1/2018/players/203518_profile.json', 'http://data.nba.net/prod/v1/2018/players/203518_profile.json', 'http://data.nba.net/prod/v1/2018/players/203518_profile.json', 'http://data.nba.net/prod/v1/2018/players/203518_profile.json', 'http://data.nba.net/prod/v1/2018/players/203518_profile.json', 'http://data.nba.net/prod/v1/2018/players/203518_profile.json', 'http://data.nba.net/prod/v1/2018/players/203518_profile.json', 'http://data.nba.net/prod/v1/2018/players/203518_profile.json', 'http://data.nba.net/prod/v1/2018/players/203518_profile.json', 'http://data.nba.net/prod/v1/2018/players/203518_profile.json', 'http://data.nba.net/prod/v1/2018/players/203518_profile.json', 'http://data.nba.net/prod/v1/2018/players/203518_profile.json', 'http://data.nba.net/prod/v1/2018/players/203518_profile.json', 'http://data.nba.net/prod/v1/2018/players/203518_profile.json', 'http://data.nba.net/prod/v1/2018/players/203518_profile.json', 'http://data.nba.net/prod/v1/2018/players/203518_profile.json', 'http://data.nba.net/prod/v1/2018/players/203518_profile.json', 'http://data.nba.net/prod/v1/2018/players/203518_profile.json', 'http://data.nba.net/prod/v1/2018/players/203518_profile.json', 'http://data.nba.net/prod/v1/2018/players/203518_profile.json', 'http://data.nba.net/prod/v1/2018/players/203518_profile.json', 'http://data.nba.net/prod/v1/2018/players/203518_profile.json', 'http://data.nba.net/prod/v1/2018/players/203518_profile.json', 'http://data.nba.net/prod/v1/2018/players/203518_profile.json', 'http://data.nba.net/prod/v1/2018/players/203518_profile.json', 'http://data.nba.net/prod/v1/2018/players/203518_profile.json', 'http://data.nba.net/prod/v1/2018/players/203518_profile.json', 'http://data.nba.net/prod/v1/2018/players/203518_profile.json', 'http://data.nba.net/prod/v1/2018/players/203518_profile.json', 'http://data.nba.net/prod/v1/2018/players/203518_profile.json', 'http://data.nba.net/prod/v1/2018/players/203518_profile.json', 'http://data.nba.net/prod/v1/2018/players/203518_profile.json', 'http://data.nba.net/prod/v1/2018/players/203518_profile.json', 'http://data.nba.net/prod/v1/2018/players/203518_profile.json', 'http://data.nba.net/prod/v1/2018/players/203518_profile.json', 'http://data.nba.net/prod/v1/2018/players/203518_profile.json', 'http://data.nba.net/prod/v1/2018/players/203518_profile.json', 'http://data.nba.net/prod/v1/2018/players/203518_profile.json', 'http://data.nba.net/prod/v1/2018/players/203518_profile.json', 'http://data.nba.net/prod/v1/2018/players/203518_profile.json', 'http://data.nba.net/prod/v1/2018/players/203518_profile.json', 'http://data.nba.net/prod/v1/2018/players/203518_profile.json', 'http://data.nba.net/prod/v1/2018/players/203518_profile.json', 'http://data.nba.net/prod/v1/2018/players/203518_profile.json', 'http://data.nba.net/prod/v1/2018/players/203518_profile.json', 'http://data.nba.net/prod/v1/2018/players/203518_profile.json', 'http://data.nba.net/prod/v1/2018/players/203518_profile.json', 'http://data.nba.net/prod/v1/2018/players/203518_profile.json', 'http://data.nba.net/prod/v1/2018/players/203518_profile.json', 'http://data.nba.net/prod/v1/2018/players/203518_profile.json', 'http://data.nba.net/prod/v1/2018/players/203518_profile.json', 'http://data.nba.net/prod/v1/2018/players/203518_profile.json', 'http://data.nba.net/prod/v1/2018/players/203518_profile.json', 'http://data.nba.net/prod/v1/2018/players/203518_profile.json', 'http://data.nba.net/prod/v1/2018/players/203518_profile.json', 'http://data.nba.net/prod/v1/2018/players/203518_profile.json', 'http://data.nba.net/prod/v1/2018/players/203518_profile.json', 'http://data.nba.net/prod/v1/2018/players/203518_profile.json', 'http://data.nba.net/prod/v1/2018/players/203518_profile.json', 'http://data.nba.net/prod/v1/2018/players/203518_profile.json', 'http://data.nba.net/prod/v1/2018/players/203518_profile.json', 'http://data.nba.net/prod/v1/2018/players/203518_profile.json', 'http://data.nba.net/prod/v1/2018/players/203518_profile.json', 'http://data.nba.net/prod/v1/2018/players/203518_profile.json', 'http://data.nba.net/prod/v1/2018/players/203518_profile.json', 'http://data.nba.net/prod/v1/2018/players/203518_profile.json', 'http://data.nba.net/prod/v1/2018/players/203518_profile.json', 'http://data.nba.net/prod/v1/2018/players/203518_profile.json', 'http://data.nba.net/prod/v1/2018/players/203518_profile.json', 'http://data.nba.net/prod/v1/2018/players/203518_profile.json', 'http://data.nba.net/prod/v1/2018/players/203518_profile.json', 'http://data.nba.net/prod/v1/2018/players/203518_profile.json', 'http://data.nba.net/prod/v1/2018/players/203518_profile.json', 'http://data.nba.net/prod/v1/2018/players/203518_profile.json', 'http://data.nba.net/prod/v1/2018/players/203518_profile.json', 'http://data.nba.net/prod/v1/2018/players/203518_profile.json', 'http://data.nba.net/prod/v1/2018/players/203518_profile.json', 'http://data.nba.net/prod/v1/2018/players/203518_profile.json', 'http://data.nba.net/prod/v1/2018/players/203518_profile.json', 'http://data.nba.net/prod/v1/2018/players/203518_profile.json', 'http://data.nba.net/prod/v1/2018/players/203518_profile.json', 'http://data.nba.net/prod/v1/2018/players/203518_profile.json', 'http://data.nba.net/prod/v1/2018/players/203518_profile.json', 'http://data.nba.net/prod/v1/2018/players/203518_profile.json', 'http://data.nba.net/prod/v1/2018/players/203518_profile.json', 'http://data.nba.net/prod/v1/2018/players/203518_profile.json', 'http://data.nba.net/prod/v1/2018/players/203518_profile.json', 'http://data.nba.net/prod/v1/2018/players/203518_profile.json', 'http://data.nba.net/prod/v1/2018/players/203518_profile.json', 'http://data.nba.net/prod/v1/2018/players/203518_profile.json', 'http://data.nba.net/prod/v1/2018/players/203518_profile.json', 'http://data.nba.net/prod/v1/2018/players/203518_profile.json', 'http://data.nba.net/prod/v1/2018/players/203518_profile.json', 'http://data.nba.net/prod/v1/2018/players/203518_profile.json', 'http://data.nba.net/prod/v1/2018/players/203518_profile.json', 'http://data.nba.net/prod/v1/2018/players/203518_profile.json', 'http://data.nba.net/prod/v1/2018/players/203518_profile.json', 'http://data.nba.net/prod/v1/2018/players/203518_profile.json', 'http://data.nba.net/prod/v1/2018/players/203518_profile.json', 'http://data.nba.net/prod/v1/2018/players/203518_profile.json', 'http://data.nba.net/prod/v1/2018/players/203518_profile.json', 'http://data.nba.net/prod/v1/2018/players/203518_profile.json', 'http://data.nba.net/prod/v1/2018/players/203518_profile.json', 'http://data.nba.net/prod/v1/2018/players/203518_profile.json', 'http://data.nba.net/prod/v1/2018/players/203518_profile.json', 'http://data.nba.net/prod/v1/2018/players/203518_profile.json', 'http://data.nba.net/prod/v1/2018/players/203518_profile.json', 'http://data.nba.net/prod/v1/2018/players/203518_profile.json', 'http://data.nba.net/prod/v1/2018/players/203518_profile.json', 'http://data.nba.net/prod/v1/2018/players/203518_profile.json', 'http://data.nba.net/prod/v1/2018/players/203518_profile.json', 'http://data.nba.net/prod/v1/2018/players/203518_profile.json', 'http://data.nba.net/prod/v1/2018/players/203518_profile.json', 'http://data.nba.net/prod/v1/2018/players/203518_profile.json', 'http://data.nba.net/prod/v1/2018/players/203518_profile.json', 'http://data.nba.net/prod/v1/2018/players/203518_profile.json', 'http://data.nba.net/prod/v1/2018/players/203518_profile.json', 'http://data.nba.net/prod/v1/2018/players/203518_profile.json', 'http://data.nba.net/prod/v1/2018/players/203518_profile.json', 'http://data.nba.net/prod/v1/2018/players/203518_profile.json', 'http://data.nba.net/prod/v1/2018/players/203518_profile.json', 'http://data.nba.net/prod/v1/2018/players/203518_profile.json', 'http://data.nba.net/prod/v1/2018/players/203518_profile.json', 'http://data.nba.net/prod/v1/2018/players/203518_profile.json', 'http://data.nba.net/prod/v1/2018/players/203518_profile.json', 'http://data.nba.net/prod/v1/2018/players/203518_profile.json', 'http://data.nba.net/prod/v1/2018/players/203518_profile.json', 'http://data.nba.net/prod/v1/2018/players/203518_profile.json', 'http://data.nba.net/prod/v1/2018/players/203518_profile.json', 'http://data.nba.net/prod/v1/2018/players/203518_profile.json', 'http://data.nba.net/prod/v1/2018/players/203518_profile.json', 'http://data.nba.net/prod/v1/2018/players/203518_profile.json', 'http://data.nba.net/prod/v1/2018/players/203518_profile.json', 'http://data.nba.net/prod/v1/2018/players/203518_profile.json', 'http://data.nba.net/prod/v1/2018/players/203518_profile.json', 'http://data.nba.net/prod/v1/2018/players/203518_profile.json', 'http://data.nba.net/prod/v1/2018/players/203518_profile.json', 'http://data.nba.net/prod/v1/2018/players/203518_profile.json', 'http://data.nba.net/prod/v1/2018/players/203518_profile.json', 'http://data.nba.net/prod/v1/2018/players/203518_profile.json', 'http://data.nba.net/prod/v1/2018/players/203518_profile.json', 'http://data.nba.net/prod/v1/2018/players/203518_profile.json', 'http://data.nba.net/prod/v1/2018/players/203518_profile.json', 'http://data.nba.net/prod/v1/2018/players/203518_profile.json', 'http://data.nba.net/prod/v1/2018/players/203518_profile.json', 'http://data.nba.net/prod/v1/2018/players/203518_profile.json', 'http://data.nba.net/prod/v1/2018/players/203518_profile.json', 'http://data.nba.net/prod/v1/2018/players/203518_profile.json', 'http://data.nba.net/prod/v1/2018/players/203518_profile.json', 'http://data.nba.net/prod/v1/2018/players/203518_profile.json', 'http://data.nba.net/prod/v1/2018/players/203518_profile.json', 'http://data.nba.net/prod/v1/2018/players/203518_profile.json', 'http://data.nba.net/prod/v1/2018/players/203518_profile.json', 'http://data.nba.net/prod/v1/2018/players/203518_profile.json', 'http://data.nba.net/prod/v1/2018/players/203518_profile.json', 'http://data.nba.net/prod/v1/2018/players/203518_profile.json', 'http://data.nba.net/prod/v1/2018/players/203518_profile.json', 'http://data.nba.net/prod/v1/2018/players/203518_profile.json', 'http://data.nba.net/prod/v1/2018/players/203518_profile.json', 'http://data.nba.net/prod/v1/2018/players/203518_profile.json', 'http://data.nba.net/prod/v1/2018/players/203518_profile.json', 'http://data.nba.net/prod/v1/2018/players/203518_profile.json', 'http://data.nba.net/prod/v1/2018/players/203518_profile.json', 'http://data.nba.net/prod/v1/2018/players/203518_profile.json', 'http://data.nba.net/prod/v1/2018/players/203518_profile.json', 'http://data.nba.net/prod/v1/2018/players/203518_profile.json', 'http://data.nba.net/prod/v1/2018/players/203518_profile.json', 'http://data.nba.net/prod/v1/2018/players/203518_profile.json', 'http://data.nba.net/prod/v1/2018/players/203518_profile.json', 'http://data.nba.net/prod/v1/2018/players/203518_profile.json', 'http://data.nba.net/prod/v1/2018/players/203518_profile.json', 'http://data.nba.net/prod/v1/2018/players/203518_profile.json', 'http://data.nba.net/prod/v1/2018/players/203518_profile.json', 'http://data.nba.net/prod/v1/2018/players/203518_profile.json', 'http://data.nba.net/prod/v1/2018/players/203518_profile.json', 'http://data.nba.net/prod/v1/2018/players/203518_profile.json', 'http://data.nba.net/prod/v1/2018/players/203518_profile.json', 'http://data.nba.net/prod/v1/2018/players/203518_profile.json', 'http://data.nba.net/prod/v1/2018/players/203518_profile.json', 'http://data.nba.net/prod/v1/2018/players/203518_profile.json', 'http://data.nba.net/prod/v1/2018/players/203518_profile.json', 'http://data.nba.net/prod/v1/2018/players/203518_profile.json', 'http://data.nba.net/prod/v1/2018/players/203518_profile.json', 'http://data.nba.net/prod/v1/2018/players/203518_profile.json', 'http://data.nba.net/prod/v1/2018/players/203518_profile.json', 'http://data.nba.net/prod/v1/2018/players/203518_profile.json', 'http://data.nba.net/prod/v1/2018/players/203518_profile.json', 'http://data.nba.net/prod/v1/2018/players/203518_profile.json', 'http://data.nba.net/prod/v1/2018/players/203518_profile.json', 'http://data.nba.net/prod/v1/2018/players/203518_profile.json', 'http://data.nba.net/prod/v1/2018/players/203518_profile.json', 'http://data.nba.net/prod/v1/2018/players/203518_profile.json', 'http://data.nba.net/prod/v1/2018/players/203518_profile.json', 'http://data.nba.net/prod/v1/2018/players/203518_profile.json', 'http://data.nba.net/prod/v1/2018/players/203518_profile.json', 'http://data.nba.net/prod/v1/2018/players/203518_profile.json', 'http://data.nba.net/prod/v1/2018/players/203518_profile.json', 'http://data.nba.net/prod/v1/2018/players/203518_profile.json', 'http://data.nba.net/prod/v1/2018/players/203518_profile.json', 'http://data.nba.net/prod/v1/2018/players/203518_profile.json', 'http://data.nba.net/prod/v1/2018/players/203518_profile.json', 'http://data.nba.net/prod/v1/2018/players/203518_profile.json', 'http://data.nba.net/prod/v1/2018/players/203518_profile.json', 'http://data.nba.net/prod/v1/2018/players/203518_profile.json', 'http://data.nba.net/prod/v1/2018/players/203518_profile.json', 'http://data.nba.net/prod/v1/2018/players/203518_profile.json', 'http://data.nba.net/prod/v1/2018/players/203518_profile.json', 'http://data.nba.net/prod/v1/2018/players/203518_profile.json', 'http://data.nba.net/prod/v1/2018/players/203518_profile.json', 'http://data.nba.net/prod/v1/2018/players/203518_profile.json', 'http://data.nba.net/prod/v1/2018/players/203518_profile.json', 'http://data.nba.net/prod/v1/2018/players/203518_profile.json', 'http://data.nba.net/prod/v1/2018/players/203518_profile.json', 'http://data.nba.net/prod/v1/2018/players/203518_profile.json', 'http://data.nba.net/prod/v1/2018/players/203518_profile.json', 'http://data.nba.net/prod/v1/2018/players/203518_profile.json', 'http://data.nba.net/prod/v1/2018/players/203518_profile.json', 'http://data.nba.net/prod/v1/2018/players/203518_profile.json', 'http://data.nba.net/prod/v1/2018/players/203518_profile.json', 'http://data.nba.net/prod/v1/2018/players/203518_profile.json', 'http://data.nba.net/prod/v1/2018/players/203518_profile.json', 'http://data.nba.net/prod/v1/2018/players/203518_profile.json', 'http://data.nba.net/prod/v1/2018/players/203518_profile.json', 'http://data.nba.net/prod/v1/2018/players/203518_profile.json', 'http://data.nba.net/prod/v1/2018/players/203518_profile.json', 'http://data.nba.net/prod/v1/2018/players/203518_profile.json', 'http://data.nba.net/prod/v1/2018/players/203518_profile.json', 'http://data.nba.net/prod/v1/2018/players/203518_profile.json', 'http://data.nba.net/prod/v1/2018/players/203518_profile.json', 'http://data.nba.net/prod/v1/2018/players/203518_profile.json', 'http://data.nba.net/prod/v1/2018/players/203518_profile.json', 'http://data.nba.net/prod/v1/2018/players/203518_profile.json', 'http://data.nba.net/prod/v1/2018/players/203518_profile.json', 'http://data.nba.net/prod/v1/2018/players/203518_profile.json', 'http://data.nba.net/prod/v1/2018/players/203518_profile.json', 'http://data.nba.net/prod/v1/2018/players/203518_profile.json', 'http://data.nba.net/prod/v1/2018/players/203518_profile.json', 'http://data.nba.net/prod/v1/2018/players/203518_profile.json', 'http://data.nba.net/prod/v1/2018/players/203518_profile.json', 'http://data.nba.net/prod/v1/2018/players/203518_profile.json', 'http://data.nba.net/prod/v1/2018/players/203518_profile.json', 'http://data.nba.net/prod/v1/2018/players/203518_profile.json', 'http://data.nba.net/prod/v1/2018/players/203518_profile.json', 'http://data.nba.net/prod/v1/2018/players/203518_profile.json', 'http://data.nba.net/prod/v1/2018/players/203518_profile.json', 'http://data.nba.net/prod/v1/2018/players/203518_profile.json', 'http://data.nba.net/prod/v1/2018/players/203518_profile.json', 'http://data.nba.net/prod/v1/2018/players/203518_profile.json', 'http://data.nba.net/prod/v1/2018/players/203518_profile.json', 'http://data.nba.net/prod/v1/2018/players/203518_profile.json', 'http://data.nba.net/prod/v1/2018/players/203518_profile.json', 'http://data.nba.net/prod/v1/2018/players/203518_profile.json', 'http://data.nba.net/prod/v1/2018/players/203518_profile.json', 'http://data.nba.net/prod/v1/2018/players/203518_profile.json', 'http://data.nba.net/prod/v1/2018/players/203518_profile.json', 'http://data.nba.net/prod/v1/2018/players/203518_profile.json', 'http://data.nba.net/prod/v1/2018/players/203518_profile.json', 'http://data.nba.net/prod/v1/2018/players/203518_profile.json', 'http://data.nba.net/prod/v1/2018/players/203518_profile.json', 'http://data.nba.net/prod/v1/2018/players/203518_profile.json', 'http://data.nba.net/prod/v1/2018/players/203518_profile.json', 'http://data.nba.net/prod/v1/2018/players/203518_profile.json', 'http://data.nba.net/prod/v1/2018/players/203518_profile.json', 'http://data.nba.net/prod/v1/2018/players/203518_profile.json', 'http://data.nba.net/prod/v1/2018/players/203518_profile.json', 'http://data.nba.net/prod/v1/2018/players/203518_profile.json', 'http://data.nba.net/prod/v1/2018/players/203518_profile.json', 'http://data.nba.net/prod/v1/2018/players/203518_profile.json', 'http://data.nba.net/prod/v1/2018/players/203518_profile.json', 'http://data.nba.net/prod/v1/2018/players/203518_profile.json', 'http://data.nba.net/prod/v1/2018/players/203518_profile.json', 'http://data.nba.net/prod/v1/2018/players/203518_profile.json', 'http://data.nba.net/prod/v1/2018/players/203518_profile.json', 'http://data.nba.net/prod/v1/2018/players/203518_profile.json', 'http://data.nba.net/prod/v1/2018/players/203518_profile.json', 'http://data.nba.net/prod/v1/2018/players/203518_profile.json', 'http://data.nba.net/prod/v1/2018/players/203518_profile.json', 'http://data.nba.net/prod/v1/2018/players/203518_profile.json', 'http://data.nba.net/prod/v1/2018/players/203518_profile.json', 'http://data.nba.net/prod/v1/2018/players/203518_profile.json', 'http://data.nba.net/prod/v1/2018/players/203518_profile.json', 'http://data.nba.net/prod/v1/2018/players/203518_profile.json', 'http://data.nba.net/prod/v1/2018/players/203518_profile.json', 'http://data.nba.net/prod/v1/2018/players/203518_profile.json', 'http://data.nba.net/prod/v1/2018/players/203518_profile.json', 'http://data.nba.net/prod/v1/2018/players/203518_profile.json', 'http://data.nba.net/prod/v1/2018/players/203518_profile.json', 'http://data.nba.net/prod/v1/2018/players/203518_profile.json', 'http://data.nba.net/prod/v1/2018/players/203518_profile.json', 'http://data.nba.net/prod/v1/2018/players/203518_profile.json', 'http://data.nba.net/prod/v1/2018/players/203518_profile.json', 'http://data.nba.net/prod/v1/2018/players/203518_profile.json', 'http://data.nba.net/prod/v1/2018/players/203518_profile.json', 'http://data.nba.net/prod/v1/2018/players/203518_profile.json', 'http://data.nba.net/prod/v1/2018/players/203518_profile.json', 'http://data.nba.net/prod/v1/2018/players/203518_profile.json', 'http://data.nba.net/prod/v1/2018/players/203518_profile.json', 'http://data.nba.net/prod/v1/2018/players/203518_profile.json', 'http://data.nba.net/prod/v1/2018/players/203518_profile.json', 'http://data.nba.net/prod/v1/2018/players/203518_profile.json', 'http://data.nba.net/prod/v1/2018/players/203518_profile.json', 'http://data.nba.net/prod/v1/2018/players/203518_profile.json', 'http://data.nba.net/prod/v1/2018/players/203518_profile.json', 'http://data.nba.net/prod/v1/2018/players/203518_profile.json', 'http://data.nba.net/prod/v1/2018/players/203518_profile.json', 'http://data.nba.net/prod/v1/2018/players/203518_profile.json', 'http://data.nba.net/prod/v1/2018/players/203518_profile.json', 'http://data.nba.net/prod/v1/2018/players/203518_profile.json', 'http://data.nba.net/prod/v1/2018/players/203518_profile.json', 'http://data.nba.net/prod/v1/2018/players/203518_profile.json', 'http://data.nba.net/prod/v1/2018/players/203518_profile.json', 'http://data.nba.net/prod/v1/2018/players/203518_profile.json', 'http://data.nba.net/prod/v1/2018/players/203518_profile.json', 'http://data.nba.net/prod/v1/2018/players/203518_profile.json', 'http://data.nba.net/prod/v1/2018/players/203518_profile.json', 'http://data.nba.net/prod/v1/2018/players/203518_profile.json', 'http://data.nba.net/prod/v1/2018/players/203518_profile.json', 'http://data.nba.net/prod/v1/2018/players/203518_profile.json', 'http://data.nba.net/prod/v1/2018/players/203518_profile.json', 'http://data.nba.net/prod/v1/2018/players/203518_profile.json', 'http://data.nba.net/prod/v1/2018/players/203518_profile.json', 'http://data.nba.net/prod/v1/2018/players/203518_profile.json', 'http://data.nba.net/prod/v1/2018/players/203518_profile.json', 'http://data.nba.net/prod/v1/2018/players/203518_profile.json', 'http://data.nba.net/prod/v1/2018/players/203518_profile.json', 'http://data.nba.net/prod/v1/2018/players/203518_profile.json', 'http://data.nba.net/prod/v1/2018/players/203518_profile.json', 'http://data.nba.net/prod/v1/2018/players/203518_profile.json', 'http://data.nba.net/prod/v1/2018/players/203518_profile.json', 'http://data.nba.net/prod/v1/2018/players/203518_profile.json', 'http://data.nba.net/prod/v1/2018/players/203518_profile.json', 'http://data.nba.net/prod/v1/2018/players/203518_profile.json', 'http://data.nba.net/prod/v1/2018/players/203518_profile.json', 'http://data.nba.net/prod/v1/2018/players/203518_profile.json', 'http://data.nba.net/prod/v1/2018/players/203518_profile.json', 'http://data.nba.net/prod/v1/2018/players/203518_profile.json', 'http://data.nba.net/prod/v1/2018/players/203518_profile.json', 'http://data.nba.net/prod/v1/2018/players/203518_profile.json', 'http://data.nba.net/prod/v1/2018/players/203518_profile.json', 'http://data.nba.net/prod/v1/2018/players/203518_profile.json', 'http://data.nba.net/prod/v1/2018/players/203518_profile.json', 'http://data.nba.net/prod/v1/2018/players/203518_profile.json', 'http://data.nba.net/prod/v1/2018/players/203518_profile.json', 'http://data.nba.net/prod/v1/2018/players/203518_profile.json', 'http://data.nba.net/prod/v1/2018/players/203518_profile.json', 'http://data.nba.net/prod/v1/2018/players/203518_profile.json', 'http://data.nba.net/prod/v1/2018/players/203518_profile.json', 'http://data.nba.net/prod/v1/2018/players/203518_profile.json', 'http://data.nba.net/prod/v1/2018/players/203518_profile.json', 'http://data.nba.net/prod/v1/2018/players/203518_profile.json', 'http://data.nba.net/prod/v1/2018/players/203518_profile.json', 'http://data.nba.net/prod/v1/2018/players/203518_profile.json', 'http://data.nba.net/prod/v1/2018/players/203518_profile.json', 'http://data.nba.net/prod/v1/2018/players/203518_profile.json', 'http://data.nba.net/prod/v1/2018/players/203518_profile.json', 'http://data.nba.net/prod/v1/2018/players/203518_profile.json', 'http://data.nba.net/prod/v1/2018/players/203518_profile.json', 'http://data.nba.net/prod/v1/2018/players/203518_profile.json', 'http://data.nba.net/prod/v1/2018/players/203518_profile.json', 'http://data.nba.net/prod/v1/2018/players/203518_profile.json', 'http://data.nba.net/prod/v1/2018/players/203518_profile.json', 'http://data.nba.net/prod/v1/2018/players/203518_profile.json', 'http://data.nba.net/prod/v1/2018/players/203518_profile.json', 'http://data.nba.net/prod/v1/2018/players/203518_profile.json', 'http://data.nba.net/prod/v1/2018/players/203518_profile.json', 'http://data.nba.net/prod/v1/2018/players/203518_profile.json', 'http://data.nba.net/prod/v1/2018/players/203518_profile.json', 'http://data.nba.net/prod/v1/2018/players/203518_profile.json', 'http://data.nba.net/prod/v1/2018/players/203518_profile.json', 'http://data.nba.net/prod/v1/2018/players/203518_profile.json', 'http://data.nba.net/prod/v1/2018/players/203518_profile.json', 'http://data.nba.net/prod/v1/2018/players/203518_profile.json', 'http://data.nba.net/prod/v1/2018/players/203518_profile.json', 'http://data.nba.net/prod/v1/2018/players/203518_profile.json', 'http://data.nba.net/prod/v1/2018/players/203518_profile.json', 'http://data.nba.net/prod/v1/2018/players/203518_profile.json', 'http://data.nba.net/prod/v1/2018/players/203518_profile.json', 'http://data.nba.net/prod/v1/2018/players/203518_profile.json', 'http://data.nba.net/prod/v1/2018/players/203518_profile.json', 'http://data.nba.net/prod/v1/2018/players/203518_profile.json', 'http://data.nba.net/prod/v1/2018/players/203518_profile.json', 'http://data.nba.net/prod/v1/2018/players/203518_profile.json', 'http://data.nba.net/prod/v1/2018/players/203518_profile.json', 'http://data.nba.net/prod/v1/2018/players/203518_profile.json', 'http://data.nba.net/prod/v1/2018/players/203518_profile.json', 'http://data.nba.net/prod/v1/2018/players/203518_profile.json', 'http://data.nba.net/prod/v1/2018/players/203518_profile.json', 'http://data.nba.net/prod/v1/2018/players/203518_profile.json', 'http://data.nba.net/prod/v1/2018/players/203518_profile.json', 'http://data.nba.net/prod/v1/2018/players/203518_profile.json', 'http://data.nba.net/prod/v1/2018/players/203518_profile.json', 'http://data.nba.net/prod/v1/2018/players/203518_profile.json', 'http://data.nba.net/prod/v1/2018/players/203518_profile.json', 'http://data.nba.net/prod/v1/2018/players/203518_profile.json', 'http://data.nba.net/prod/v1/2018/players/203518_profile.json', 'http://data.nba.net/prod/v1/2018/players/203518_profile.json', 'http://data.nba.net/prod/v1/2018/players/203518_profile.json', 'http://data.nba.net/prod/v1/2018/players/203518_profile.json', 'http://data.nba.net/prod/v1/2018/players/203518_profile.json', 'http://data.nba.net/prod/v1/2018/players/203518_profile.json', 'http://data.nba.net/prod/v1/2018/players/203518_profile.json', 'http://data.nba.net/prod/v1/2018/players/203518_profile.json', 'http://data.nba.net/prod/v1/2018/players/203518_profile.json', 'http://data.nba.net/prod/v1/2018/players/203518_profile.json', 'http://data.nba.net/prod/v1/2018/players/203518_profile.json', 'http://data.nba.net/prod/v1/2018/players/203518_profile.json', 'http://data.nba.net/prod/v1/2018/players/203518_profile.json', 'http://data.nba.net/prod/v1/2018/players/203518_profile.json', 'http://data.nba.net/prod/v1/2018/players/203518_profile.json', 'http://data.nba.net/prod/v1/2018/players/203518_profile.json', 'http://data.nba.net/prod/v1/2018/players/203518_profile.json', 'http://data.nba.net/prod/v1/2018/players/203518_profile.json', 'http://data.nba.net/prod/v1/2018/players/203518_profile.json', 'http://data.nba.net/prod/v1/2018/players/203518_profile.json', 'http://data.nba.net/prod/v1/2018/players/203518_profile.json', 'http://data.nba.net/prod/v1/2018/players/203518_profile.json', 'http://data.nba.net/prod/v1/2018/players/203518_profile.json', 'http://data.nba.net/prod/v1/2018/players/203518_profile.json', 'http://data.nba.net/prod/v1/2018/players/203518_profile.json', 'http://data.nba.net/prod/v1/2018/players/203518_profile.json', 'http://data.nba.net/prod/v1/2018/players/203518_profile.json', 'http://data.nba.net/prod/v1/2018/players/203518_profile.json', 'http://data.nba.net/prod/v1/2018/players/203518_profile.json', 'http://data.nba.net/prod/v1/2018/players/203518_profile.json', 'http://data.nba.net/prod/v1/2018/players/203518_profile.json', 'http://data.nba.net/prod/v1/2018/players/203518_profile.json', 'http://data.nba.net/prod/v1/2018/players/203518_profile.json', 'http://data.nba.net/prod/v1/2018/players/203518_profile.json', 'http://data.nba.net/prod/v1/2018/players/203518_profile.json', 'http://data.nba.net/prod/v1/2018/players/203518_profile.json', 'http://data.nba.net/prod/v1/2018/players/203518_profile.json', 'http://data.nba.net/prod/v1/2018/players/203518_profile.json', 'http://data.nba.net/prod/v1/2018/players/203518_profile.json', 'http://data.nba.net/prod/v1/2018/players/203518_profile.json', 'http://data.nba.net/prod/v1/2018/players/203518_profile.json', 'http://data.nba.net/prod/v1/2018/players/203518_profile.json', 'http://data.nba.net/prod/v1/2018/players/203518_profile.json', 'http://data.nba.net/prod/v1/2018/players/203518_profile.json', 'http://data.nba.net/prod/v1/2018/players/203518_profile.json', 'http://data.nba.net/prod/v1/2018/players/203518_profile.json', 'http://data.nba.net/prod/v1/2018/players/203518_profile.json', 'http://data.nba.net/prod/v1/2018/players/203518_profile.json', 'http://data.nba.net/prod/v1/2018/players/203518_profile.json', 'http://data.nba.net/prod/v1/2018/players/203518_profile.json', 'http://data.nba.net/prod/v1/2018/players/203518_profile.json', 'http://data.nba.net/prod/v1/2018/players/203518_profile.json', 'http://data.nba.net/prod/v1/2018/players/203518_profile.json', 'http://data.nba.net/prod/v1/2018/players/203518_profile.json', 'http://data.nba.net/prod/v1/2018/players/203518_profile.json', 'http://data.nba.net/prod/v1/2018/players/203518_profile.json', 'http://data.nba.net/prod/v1/2018/players/203518_profile.json', 'http://data.nba.net/prod/v1/2018/players/203518_profile.json', 'http://data.nba.net/prod/v1/2018/players/203518_profile.json', 'http://data.nba.net/prod/v1/2018/players/203518_profile.json', 'http://data.nba.net/prod/v1/2018/players/203518_profile.json', 'http://data.nba.net/prod/v1/2018/players/203518_profile.json', 'http://data.nba.net/prod/v1/2018/players/203518_profile.json', 'http://data.nba.net/prod/v1/2018/players/203518_profile.json', 'http://data.nba.net/prod/v1/2018/players/203518_profile.json', 'http://data.nba.net/prod/v1/2018/players/203518_profile.json', 'http://data.nba.net/prod/v1/2018/players/203518_profile.json', 'http://data.nba.net/prod/v1/2018/players/203518_profile.json', 'http://data.nba.net/prod/v1/2018/players/203518_profile.json', 'http://data.nba.net/prod/v1/2018/players/203518_profile.json', 'http://data.nba.net/prod/v1/2018/players/203518_profile.json', 'http://data.nba.net/prod/v1/2018/players/203518_profile.json', 'http://data.nba.net/prod/v1/2018/players/203518_profile.json', 'http://data.nba.net/prod/v1/2018/players/203518_profile.json', 'http://data.nba.net/prod/v1/2018/players/203518_profile.json', 'http://data.nba.net/prod/v1/2018/players/203518_profile.json', 'http://data.nba.net/prod/v1/2018/players/203518_profile.json', 'http://data.nba.net/prod/v1/2018/players/203518_profile.json', 'http://data.nba.net/prod/v1/2018/players/203518_profile.json', 'http://data.nba.net/prod/v1/2018/players/203518_profile.json', 'http://data.nba.net/prod/v1/2018/players/203518_profile.json', 'http://data.nba.net/prod/v1/2018/players/203518_profile.json', 'http://data.nba.net/prod/v1/2018/players/203518_profile.json']\n"
     ]
    }
   ],
   "source": [
    "player_URL=[]\n",
    "for player_unique_id in NBA_player_list:\n",
    "    URL1=\"http://data.nba.net/prod/v1/2018/players/\"\n",
    "    URL2=NBA_player_list[number_chosen]\n",
    "    URL3=\"_profile.json\"\n",
    "    URL_pull=URL1+URL2+URL3\n",
    "    player_URL.append(URL_pull)\n",
    "\n",
    "print(player_URL)"
   ]
  },
  {
   "cell_type": "code",
   "execution_count": null,
   "metadata": {},
   "outputs": [],
   "source": [
    "player_URL_Chosen=player_URL[number_chosen]\n",
    "player_URL_Chosen"
   ]
  },
  {
   "cell_type": "code",
   "execution_count": null,
   "metadata": {},
   "outputs": [],
   "source": [
    "player_response_obj=requests.get(player_URL_Chosen)\n",
    "player_response=player_response_obj.json()\n",
    "player_response"
   ]
  },
  {
   "cell_type": "code",
   "execution_count": null,
   "metadata": {
    "scrolled": true
   },
   "outputs": [],
   "source": [
    "# Count # of Players\n",
    "# player_response_count=player_response[\"league\"][\"standard\"][\"stats\"][\"regularSeason\"][\"season\"]\n",
    "# player_response_count\n",
    "Player_stats_yr=[]\n",
    "Seasons_needed=[2015,2016,2017]\n",
    "for season_test in player_response[\"league\"][\"standard\"][\"stats\"][\"regularSeason\"][\"season\"]:\n",
    "    season_dict = {}\n",
    "    season_dict[\"seasonYear\"] = season_test[\"seasonYear\"]\n",
    "    season_dict[\"ppg\"]= season_test[\"total\"][\"ppg\"]\n",
    "    season_dict[\"rpg\"]= season_test[\"total\"][\"rpg\"]\n",
    "    season_dict[\"apg\"]= season_test[\"total\"][\"apg\"]\n",
    "    season_dict[\"mpg\"]= season_test[\"total\"][\"mpg\"]\n",
    "    season_dict[\"topg\"]= season_test[\"total\"][\"topg\"]\n",
    "    season_dict[\"spg\"]= season_test[\"total\"][\"spg\"]\n",
    "    season_dict[\"bpg\"]= season_test[\"total\"][\"bpg\"]\n",
    "    season_dict[\"tpp\"]= season_test[\"total\"][\"tpp\"]\n",
    "    season_dict[\"ftp\"]= season_test[\"total\"][\"ftp\"]\n",
    "    season_dict[\"fgp\"]= season_test[\"total\"][\"fgp\"]\n",
    "    season_dict[\"assists\"]= season_test[\"total\"][\"assists\"]\n",
    "    season_dict[\"blocks\"]= season_test[\"total\"][\"blocks\"]\n",
    "    season_dict[\"steals\"]= season_test[\"total\"][\"steals\"]\n",
    "    season_dict[\"turnovers\"]= season_test[\"total\"][\"turnovers\"]\n",
    "    season_dict[\"offReb\"]= season_test[\"total\"][\"offReb\"]\n",
    "    season_dict[\"defReb\"]= season_test[\"total\"][\"defReb\"]\n",
    "    season_dict[\"totReb\"]= season_test[\"total\"][\"totReb\"]\n",
    "    season_dict[\"fgm\"]= season_test[\"total\"][\"fgm\"]\n",
    "    season_dict[\"fga\"]= season_test[\"total\"][\"fga\"]\n",
    "    season_dict[\"tpm\"]= season_test[\"total\"][\"tpm\"]\n",
    "    season_dict[\"tpa\"]= season_test[\"total\"][\"tpa\"]\n",
    "    season_dict[\"ftm\"]= season_test[\"total\"][\"ftm\"]\n",
    "    season_dict[\"fta\"]= season_test[\"total\"][\"fta\"]\n",
    "    season_dict[\"pFouls\"]= season_test[\"total\"][\"pFouls\"]\n",
    "    season_dict[\"points\"]= season_test[\"total\"][\"points\"]\n",
    "    season_dict[\"gamesPlayed\"]= season_test[\"total\"][\"gamesPlayed\"]\n",
    "    season_dict[\"gamesStarted\"]= season_test[\"total\"][\"gamesStarted\"]\n",
    "    season_dict[\"plusMinus\"]= season_test[\"total\"][\"plusMinus\"]\n",
    "    season_dict[\"min\"]= season_test[\"total\"][\"min\"]\n",
    "    season_dict[\"dd2\"]= season_test[\"total\"][\"dd2\"]\n",
    "    season_dict[\"td3\"]= season_test[\"total\"][\"td3\"]\n",
    "    \n",
    "#     Append Player_stats_year\n",
    "    Player_stats_yr.append({\"personId\":URL2,\n",
    "                            \"seasonYear\": season_dict[\"seasonYear\"],\n",
    "                            \"ppg\": season_dict[\"ppg\"],\n",
    "                            \"rpg\": season_dict[\"rpg\"],\n",
    "                            \"apg\": season_dict[\"apg\"],\n",
    "                            \"mpg\": season_dict[\"mpg\"],\n",
    "                            \"topg\": season_dict[\"topg\"],\n",
    "                            \"spg\": season_dict[\"spg\"],\n",
    "                            \"bpg\": season_dict[\"bpg\"],\n",
    "                            \"tpp\": season_dict[\"tpp\"],\n",
    "                            \"ftp\": season_dict[\"ftp\"],\n",
    "                            \"fgp\": season_dict[\"fgp\"],\n",
    "                            \"assists\": season_dict[\"assists\"],\n",
    "                            \"blocks\": season_dict[\"blocks\"],\n",
    "                            \"steals\": season_dict[\"steals\"],\n",
    "                            \"turnovers\": season_dict[\"turnovers\"],\n",
    "                            \"offReb\": season_dict[\"offReb\"],\n",
    "                            \"defReb\": season_dict[\"defReb\"],\n",
    "                            \"totReb\": season_dict[\"totReb\"],\n",
    "                            \"fgm\": season_dict[\"fgm\"],\n",
    "                            \"fga\": season_dict[\"fga\"],\n",
    "                            \"tpm\": season_dict[\"tpm\"],\n",
    "                            \"tpa\": season_dict[\"tpa\"],\n",
    "                            \"ftm\": season_dict[\"ftm\"],\n",
    "                            \"fta\": season_dict[\"fta\"],\n",
    "                            \"pFouls\": season_dict[\"pFouls\"],\n",
    "                            \"points\": season_dict[\"points\"],\n",
    "                            \"gamesPlayed\": season_dict[\"gamesPlayed\"],\n",
    "                            \"gamesStarted\": season_dict[\"gamesStarted\"],\n",
    "                            \"plusMinus\": season_dict[\"plusMinus\"],\n",
    "                            \"min\": season_dict[\"min\"],\n",
    "                            \"dd2\": season_dict[\"dd2\"],\n",
    "                            \"td3\": season_dict[\"td3\"]})"
   ]
  },
  {
   "cell_type": "code",
   "execution_count": null,
   "metadata": {},
   "outputs": [],
   "source": [
    "pretty_view=pd.DataFrame(Player_stats_yr)\n",
    "pretty_view_test=pretty_view[[\"seasonYear\",\"personId\",\"ppg\"]]\n",
    "pretty_view_test"
   ]
  },
  {
   "cell_type": "code",
   "execution_count": null,
   "metadata": {},
   "outputs": [],
   "source": []
  }
 ],
 "metadata": {
  "kernelspec": {
   "display_name": "Python 3",
   "language": "python",
   "name": "python3"
  },
  "language_info": {
   "codemirror_mode": {
    "name": "ipython",
    "version": 3
   },
   "file_extension": ".py",
   "mimetype": "text/x-python",
   "name": "python",
   "nbconvert_exporter": "python",
   "pygments_lexer": "ipython3",
   "version": "3.6.5"
  }
 },
 "nbformat": 4,
 "nbformat_minor": 2
}
