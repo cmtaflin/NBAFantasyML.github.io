{
 "cells": [
  {
   "cell_type": "code",
   "execution_count": 1,
   "metadata": {},
   "outputs": [],
   "source": [
    "# Dependencies and Setup\n",
    "import json\n",
    "import pandas as pd\n",
    "import requests"
   ]
  },
  {
   "cell_type": "code",
   "execution_count": 2,
   "metadata": {},
   "outputs": [],
   "source": [
    "#Bring in CSV into pandas Dataframe\n",
    "NBA_playersObject=\"NBAplayers.csv\"\n",
    "NBA_players_df=pd.read_csv(NBA_playersObject)"
   ]
  },
  {
   "cell_type": "code",
   "execution_count": 3,
   "metadata": {},
   "outputs": [],
   "source": [
    "#Bring in data from internet as object then convert ot Json\n",
    "player_response_obj=requests.get(\"http://data.nba.net/prod/v1/2018/players.json\")\n",
    "player_response=player_response_obj.json()"
   ]
  },
  {
   "cell_type": "code",
   "execution_count": 4,
   "metadata": {},
   "outputs": [
    {
     "data": {
      "text/plain": [
       "498"
      ]
     },
     "execution_count": 4,
     "metadata": {},
     "output_type": "execute_result"
    }
   ],
   "source": [
    "# Count # of Players\n",
    "player_response_count=player_response[\"league\"][\"standard\"]\n",
    "player_count=len(player_response_count)\n",
    "player_count"
   ]
  },
  {
   "cell_type": "code",
   "execution_count": 5,
   "metadata": {},
   "outputs": [],
   "source": [
    "test_count=3"
   ]
  },
  {
   "cell_type": "code",
   "execution_count": 11,
   "metadata": {},
   "outputs": [
    {
     "data": {
      "text/plain": [
       "[{'FirstName': 'Kadeem',\n",
       "  'LastName': 'Allen',\n",
       "  'PersonID': '1628443',\n",
       "  'TeamID': '1610612752',\n",
       "  'HeightFeet': '6',\n",
       "  'HeightInches': '3',\n",
       "  'WeightPounds': '200',\n",
       "  'DateOfBirthUTC': '1993-01-15',\n",
       "  'CollegeName': 'Arizona'}]"
      ]
     },
     "execution_count": 11,
     "metadata": {},
     "output_type": "execute_result"
    }
   ],
   "source": [
    "#Bring in elements for NBA_Player Table\n",
    "player_response_list=player_response[\"league\"][\"standard\"][10]\n",
    "\n",
    "firstName=player_response_list[\"firstName\"]\n",
    "lastName=player_response_list[\"lastName\"]\n",
    "personId=player_response_list[\"personId\"]\n",
    "teamId=player_response_list[\"teamId\"]\n",
    "heightFeet=player_response_list[\"heightFeet\"]\n",
    "heightInches=player_response_list[\"heightInches\"]\n",
    "weightPounds=player_response_list[\"weightPounds\"]\n",
    "dateOfBirthUTC=player_response_list[\"dateOfBirthUTC\"]\n",
    "collegeName=player_response_list[\"collegeName\"]\n",
    "\n",
    "# Create an object list to store NBA Player data as an object\n",
    "NBA_Players=[]\n",
    "NBA_Players.append({\"FirstName\":firstName,\n",
    "                   \"LastName\":lastName,\n",
    "                   \"PersonID\":personId,\n",
    "                   \"TeamID\":teamId,\n",
    "                   \"HeightFeet\":heightFeet,\n",
    "                   \"HeightInches\":heightInches,\n",
    "                   \"WeightPounds\":weightPounds,\n",
    "                   \"DateOfBirthUTC\":dateOfBirthUTC,\n",
    "                   \"CollegeName\":collegeName})\n",
    "\n",
    "#Test Object list\n",
    "NBA_Players"
   ]
  },
  {
   "cell_type": "code",
   "execution_count": null,
   "metadata": {},
   "outputs": [],
   "source": []
  }
 ],
 "metadata": {
  "kernelspec": {
   "display_name": "Python 3",
   "language": "python",
   "name": "python3"
  },
  "language_info": {
   "codemirror_mode": {
    "name": "ipython",
    "version": 3
   },
   "file_extension": ".py",
   "mimetype": "text/x-python",
   "name": "python",
   "nbconvert_exporter": "python",
   "pygments_lexer": "ipython3",
   "version": "3.6.5"
  }
 },
 "nbformat": 4,
 "nbformat_minor": 2
}
