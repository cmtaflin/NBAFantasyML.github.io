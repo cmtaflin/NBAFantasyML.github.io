{
 "cells": [
  {
   "cell_type": "code",
   "execution_count": 3,
   "metadata": {},
   "outputs": [],
   "source": [
    "# dependencies\n",
    "import pandas as pd\n",
    "from sklearn.model_selection import train_test_split\n",
    "from sklearn.linear_model import LogisticRegression\n",
    "from sqlalchemy import create_engine, inspect, func, distinct\n",
    "import sqlite3\n",
    "from sqlite3 import Error"
   ]
  },
  {
   "cell_type": "code",
   "execution_count": 4,
   "metadata": {},
   "outputs": [
    {
     "data": {
      "text/plain": [
       "['All_Teams',\n",
       " 'NBA_Fantasy_Draft',\n",
       " 'Players_Info',\n",
       " 'Team_Locations',\n",
       " 'Team_Schedule',\n",
       " 'Team_Stats',\n",
       " 'adv_team_stats_2018_2019',\n",
       " 'fantasy_league',\n",
       " 'playerstats_boxscore',\n",
       " 'season_2016_2017',\n",
       " 'season_2017_2018',\n",
       " 'season_2018_2019']"
      ]
     },
     "execution_count": 4,
     "metadata": {},
     "output_type": "execute_result"
    }
   ],
   "source": [
    "engine = create_engine(\"sqlite:///db/NBA_Data.sqlite\")\n",
    "conn = engine.connect()\n",
    "\n",
    "engine.table_names()"
   ]
  },
  {
   "cell_type": "code",
   "execution_count": 8,
   "metadata": {},
   "outputs": [],
   "source": [
    "# this function calculates the z-scores for 9-Categories and ranks players based on average z-score\n",
    "# the input df has a column TOP if top players have been predicted by the logistic model\n",
    "# otherwise, the top players will be ranked by VORP\n",
    "def zscore(df, sample_size=130, min_games=10):\n",
    "    \n",
    "    if \"TOP\" in df.columns:\n",
    "        print(\"top\")\n",
    "        sample_size = df[\"TOP\"].sum()\n",
    "        top_players = df[df[\"TOP\"]==1]\n",
    "    else:\n",
    "        top_players = df.sort_values(\"VORP\", ascending = False).head(sample_size)\n",
    "        top_players[\"TOP\"] = 1\n",
    "        df = pd.merge(top_players[[\"Player\", \"TOP\"]], df, on=\"Player\", how=\"outer\").fillna(0)\n",
    "\n",
    "    # calculate adjusted percentages\n",
    "    top_players['adj_FG'] = (10*(top_players['fgm'].sum() / sample_size) + top_players[\"fgm\"]) / (10*(top_players['fga'].sum() / sample_size) + top_players[\"fga\"])\n",
    "    top_players['adj_FT'] = (10*(top_players['ftm'].sum() / sample_size) + top_players[\"ftm\"]) / (10*(top_players['fta'].sum() / sample_size) + top_players[\"fta\"])\n",
    "    df['adj_FG'] = (10*(top_players['fgm'].sum() / sample_size) + df[\"fgm\"]) / (10*(top_players['fga'].sum() / sample_size) + df[\"fga\"])\n",
    "    df['adj_FT'] = (10*(top_players['ftm'].sum() / sample_size) + df[\"ftm\"]) / (10*(top_players['fta'].sum() / sample_size) + df[\"fta\"])\n",
    "\n",
    "    # calculate z-scores and average z-score\n",
    "    df[\"zFG\"] = (df[\"adj_FG\"] - top_players[\"adj_FG\"].mean()) / top_players[\"adj_FG\"].std()\n",
    "    df[\"zFT\"] = (df[\"adj_FT\"] - top_players[\"adj_FT\"].mean()) / top_players[\"adj_FT\"].std()\n",
    "    df[\"z3P\"] = (df[\"tpm\"] - top_players[\"tpm\"].mean()) / top_players[\"tpm\"].std()\n",
    "    df[\"zPTS\"] = (df[\"points\"] - top_players[\"points\"].mean()) / top_players[\"points\"].std()\n",
    "    df[\"zREB\"] = (df[\"totReb\"] - top_players[\"totReb\"].mean()) / top_players[\"totReb\"].std()\n",
    "    df[\"zAST\"] = (df[\"assists\"] - top_players[\"assists\"].mean()) / top_players[\"assists\"].std()\n",
    "    df[\"zSTL\"] = (df[\"steals\"] - top_players[\"steals\"].mean()) / top_players[\"steals\"].std()\n",
    "    df[\"zBLK\"] = (df[\"blocks\"] - top_players[\"blocks\"].mean()) / top_players[\"blocks\"].std()\n",
    "    df[\"zTOV\"] = (top_players[\"turnovers\"].mean() - df[\"turnovers\"]) / top_players[\"turnovers\"].std()\n",
    "    df[\"zAVG\"] = (df[\"zFG\"] + df[\"zFT\"] + df[\"z3P\"] + df[\"zPTS\"] + df[\"zREB\"] + df[\"zAST\"] + df[\"zSTL\"] + df[\"zBLK\"] + df[\"zTOV\"]) / 9\n",
    "\n",
    "    # rank by avg z-score\n",
    "    df = df.sort_values(\"zAVG\", ascending = False).reset_index(drop=True)\n",
    "    df.index += 1\n",
    "    \n",
    "    # exclude players with less than a set amount of games (default 10)\n",
    "    df = df[df.G >= min_games]\n",
    "    \n",
    "    return df;"
   ]
  },
  {
   "cell_type": "code",
   "execution_count": 11,
   "metadata": {},
   "outputs": [],
   "source": [
    "# season (int): the first season is used to train the model to predict top players for the next year\n",
    "# roster_size (int): number of players per team in the league\n",
    "# num_teams (int): number of teams in the fantasy league\n",
    "# min_games (int): minimum number of games to include player on chart\n",
    "def log_regression(season, roster_size = 13, num_teams = 10, min_games = 10):\n",
    "    \n",
    "    \n",
    "    df = pd.read_sql(f'select * from season_{season}_{season+1}', conn)\n",
    "    \n",
    "    #file_to_load = f\"Resources/{season}_{season+1}.csv\"\n",
    "    #df = pd.read_csv(file_to_load)\n",
    "    \n",
    "    sample_size = roster_size*num_teams\n",
    "\n",
    "    df = zscore(df, sample_size)\n",
    "    \n",
    "    # Assign X (data) and y (target)\n",
    "    X = df[['fgm', 'fga', 'fgp', 'tpm', 'tpa', 'tpp', 'ftm', 'fta', 'ftp', 'offReb', \\\n",
    "            'defReb', 'totReb', 'assists', 'steals', 'blocks', 'turnovers', 'points']]\n",
    "    y = df[\"TOP\"]\n",
    "    \n",
    "    X_train, X_test, y_train, y_test = train_test_split(X, y, random_state=1, stratify=y)\n",
    "    \n",
    "    classifier = LogisticRegression()\n",
    "    \n",
    "    classifier.fit(X_train, y_train)\n",
    "    \n",
    "    print(f\"Training Data Score: {classifier.score(X_train, y_train)}\")\n",
    "    print(f\"Testing Data Score: {classifier.score(X_test, y_test)}\")\n",
    "    \n",
    "    predictions = classifier.predict(X_test)\n",
    "    print(f\"First 10 Predictions:   {predictions[:10]}\")\n",
    "    print(f\"First 10 Actual labels: {y_test[:10].tolist()}\")\n",
    "    \n",
    "    #next_season = f\"{season+1}_{season+2}\"\n",
    "\n",
    "    #file_to_load = f\"Resources/{next_season}.csv\"\n",
    "    #next_df = pd.read_csv(file_to_load)\n",
    "    \n",
    "    next_df = pd.read_sql(f'select * from season_{season+1}_{season+2}', conn)\n",
    "    \n",
    "    #next_df = zscore(next_df, sample_size)\n",
    "    X = next_df[['fgm', 'fga', 'fgp', 'tpm', 'tpa', 'tpp', 'ftm', 'fta', 'ftp', 'offReb', \\\n",
    "            'defReb', 'totReb', 'assists', 'steals', 'blocks', 'turnovers', 'points']]\n",
    "    predictions = classifier.predict(X)\n",
    "    \n",
    "    next_df[\"TOP\"] = predictions\n",
    "    print(f\"z-score calculated with {next_df['TOP'].sum()} top players\")\n",
    "    next_df = zscore(next_df, sample_size)\n",
    "    next_df.index.name = \"Rank\"\n",
    "    next_df.to_csv(f\"Resources/log_rank_{season+2}_{season+3}.csv\", index=True)\n",
    "    \n",
    "    return next_df;"
   ]
  },
  {
   "cell_type": "code",
   "execution_count": 12,
   "metadata": {
    "scrolled": true
   },
   "outputs": [
    {
     "name": "stdout",
     "output_type": "stream",
     "text": [
      "Training Data Score: 0.8883928571428571\n",
      "Testing Data Score: 0.9066666666666666\n",
      "First 10 Predictions:   [0. 1. 1. 0. 1. 0. 1. 0. 1. 0.]\n",
      "First 10 Actual labels: [0.0, 1.0, 0.0, 0.0, 1.0, 0.0, 1.0, 0.0, 1.0, 0.0]\n",
      "z-score calculated with 152.0 top players\n",
      "top\n"
     ]
    },
    {
     "name": "stderr",
     "output_type": "stream",
     "text": [
      "C:\\Users\\Allen\\Anaconda3\\envs\\PythonData\\lib\\site-packages\\sklearn\\linear_model\\logistic.py:433: FutureWarning: Default solver will be changed to 'lbfgs' in 0.22. Specify a solver to silence this warning.\n",
      "  FutureWarning)\n",
      "C:\\Users\\Allen\\Anaconda3\\envs\\PythonData\\lib\\site-packages\\ipykernel_launcher.py:16: SettingWithCopyWarning: \n",
      "A value is trying to be set on a copy of a slice from a DataFrame.\n",
      "Try using .loc[row_indexer,col_indexer] = value instead\n",
      "\n",
      "See the caveats in the documentation: http://pandas.pydata.org/pandas-docs/stable/indexing.html#indexing-view-versus-copy\n",
      "  app.launch_new_instance()\n",
      "C:\\Users\\Allen\\Anaconda3\\envs\\PythonData\\lib\\site-packages\\ipykernel_launcher.py:17: SettingWithCopyWarning: \n",
      "A value is trying to be set on a copy of a slice from a DataFrame.\n",
      "Try using .loc[row_indexer,col_indexer] = value instead\n",
      "\n",
      "See the caveats in the documentation: http://pandas.pydata.org/pandas-docs/stable/indexing.html#indexing-view-versus-copy\n"
     ]
    }
   ],
   "source": [
    "df = log_regression(2016)"
   ]
  },
  {
   "cell_type": "code",
   "execution_count": 13,
   "metadata": {},
   "outputs": [
    {
     "data": {
      "text/plain": [
       "Player        object\n",
       "personId       int64\n",
       "Rookie       float64\n",
       "pos           object\n",
       "G              int64\n",
       "min          float64\n",
       "fgm          float64\n",
       "fga          float64\n",
       "fgp          float64\n",
       "tpm          float64\n",
       "tpa          float64\n",
       "tpp          float64\n",
       "ftm          float64\n",
       "fta          float64\n",
       "ftp          float64\n",
       "offReb       float64\n",
       "defReb       float64\n",
       "totReb       float64\n",
       "assists      float64\n",
       "steals       float64\n",
       "blocks       float64\n",
       "turnovers    float64\n",
       "pFouls       float64\n",
       "points       float64\n",
       "TOP          float64\n",
       "adj_FG       float64\n",
       "adj_FT       float64\n",
       "zFG          float64\n",
       "zFT          float64\n",
       "z3P          float64\n",
       "zPTS         float64\n",
       "zREB         float64\n",
       "zAST         float64\n",
       "zSTL         float64\n",
       "zBLK         float64\n",
       "zTOV         float64\n",
       "zAVG         float64\n",
       "dtype: object"
      ]
     },
     "execution_count": 13,
     "metadata": {},
     "output_type": "execute_result"
    }
   ],
   "source": [
    "df.dtypes"
   ]
  },
  {
   "cell_type": "code",
   "execution_count": 14,
   "metadata": {},
   "outputs": [],
   "source": [
    "# load final df into sqlite database\n",
    "df.to_sql('NBA_Fantasy_Draft', conn, if_exists='replace', index=True)"
   ]
  },
  {
   "cell_type": "code",
   "execution_count": null,
   "metadata": {},
   "outputs": [],
   "source": []
  }
 ],
 "metadata": {
  "kernelspec": {
   "display_name": "Python 3",
   "language": "python",
   "name": "python3"
  },
  "language_info": {
   "codemirror_mode": {
    "name": "ipython",
    "version": 3
   },
   "file_extension": ".py",
   "mimetype": "text/x-python",
   "name": "python",
   "nbconvert_exporter": "python",
   "pygments_lexer": "ipython3",
   "version": "3.6.6"
  }
 },
 "nbformat": 4,
 "nbformat_minor": 2
}
