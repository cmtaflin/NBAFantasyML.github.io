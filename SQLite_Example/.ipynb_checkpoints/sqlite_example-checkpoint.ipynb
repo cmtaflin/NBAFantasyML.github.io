{
 "cells": [
  {
   "cell_type": "code",
   "execution_count": 1,
   "metadata": {},
   "outputs": [],
   "source": [
    "# dependencies\n",
    "import sqlite3"
   ]
  },
  {
   "cell_type": "code",
   "execution_count": 5,
   "metadata": {},
   "outputs": [],
   "source": [
    "sqlite_file = 'yearly_stats.sqlite'    # name of the sqlite database file\n",
    "table_name1 = 'ranked_2016_2017'  # name of the table to be created\n",
    "#table_name2 = 'ranked_2017_2018'  # name of the table to be created\n",
    "new_field = 'rank' # name of the column\n",
    "field_type = 'INTEGER'  # column data type\n",
    "\n",
    "# Connecting to the database file\n",
    "conn = sqlite3.connect(sqlite_file)\n",
    "c = conn.cursor()"
   ]
  },
  {
   "cell_type": "code",
   "execution_count": 6,
   "metadata": {},
   "outputs": [
    {
     "data": {
      "text/plain": [
       "<sqlite3.Cursor at 0x17587207ab0>"
      ]
     },
     "execution_count": 6,
     "metadata": {},
     "output_type": "execute_result"
    }
   ],
   "source": [
    "# Creating a new SQLite table with 1 column\n",
    "c.execute('CREATE TABLE {tn} ({nf} {ft} PRIMARY KEY)'.format(tn=table_name1, nf=new_field, ft=field_type))"
   ]
  },
  {
   "cell_type": "code",
   "execution_count": 7,
   "metadata": {},
   "outputs": [],
   "source": [
    "# Adding new columns\n",
    "columns = [\"Player\",\"TOP\",\"FG\",\"FGA\",\"FGP\"\n",
    "           ,\"3P\",\"FT\",\"FTA\",\"FTP\",\"TRB\"\n",
    "           ,\"AST\",\"STL\",\"BLK\",\"TOV\",\"PTS\"\n",
    "           ,\"VORP\",\"adj_FG\",\"adj_FT\",\"zFG\",\"zFT\"\n",
    "           ,\"z3P\",\"zPTS\",\"zREB\",\"zAST\",\"zSTL\"\n",
    "           ,\"zBLK\",\"zTOV\",\"zAVG\"]\n",
    "types = [\"TEXT\",\"INTEGER\",\"REAL\",\"REAL\",\"REAL\",\"REAL\",\"REAL\",\"REAL\",\"REAL\",\"REAL\",\"REAL\",\"REAL\",\"REAL\",\"REAL\",\"REAL\",\"REAL\",\"REAL\",\"REAL\",\"REAL\",\"REAL\",\"REAL\",\"REAL\",\"REAL\",\"REAL\",\"REAL\",\"REAL\",\"REAL\",\"REAL\"]\n",
    "\n",
    "for x in range(0, len(columns)):\n",
    "    c.execute(\"ALTER TABLE {tn} ADD COLUMN '{cn}' {ct}\".format(tn=table_name1, cn=columns[x], ct=types[x]))"
   ]
  },
  {
   "cell_type": "code",
   "execution_count": 8,
   "metadata": {},
   "outputs": [],
   "source": [
    "# Committing changes and closing the connection to the database file\n",
    "conn.commit()\n",
    "conn.close()"
   ]
  },
  {
   "cell_type": "code",
   "execution_count": 11,
   "metadata": {},
   "outputs": [],
   "source": [
    "# Import Dependencies\n",
    "import sqlalchemy\n",
    "from sqlalchemy.ext.automap import automap_base\n",
    "from sqlalchemy.orm import Session\n",
    "from sqlalchemy import create_engine\n",
    "from sqlalchemy import func"
   ]
  },
  {
   "cell_type": "code",
   "execution_count": 12,
   "metadata": {},
   "outputs": [
    {
     "data": {
      "text/plain": [
       "['ranked_2016_2017']"
      ]
     },
     "execution_count": 12,
     "metadata": {},
     "output_type": "execute_result"
    }
   ],
   "source": [
    "# Create an engine for the NBAfantasyML.sqlite database\n",
    "engine = create_engine(\"sqlite:///yearly_stats.sqlite\", echo=False)\n",
    "conn = engine.connect()\n",
    "engine.table_names()"
   ]
  }
 ],
 "metadata": {
  "kernelspec": {
   "display_name": "Python 3",
   "language": "python",
   "name": "python3"
  },
  "language_info": {
   "codemirror_mode": {
    "name": "ipython",
    "version": 3
   },
   "file_extension": ".py",
   "mimetype": "text/x-python",
   "name": "python",
   "nbconvert_exporter": "python",
   "pygments_lexer": "ipython3",
   "version": "3.6.5"
  }
 },
 "nbformat": 4,
 "nbformat_minor": 2
}
