{
 "cells": [
  {
   "cell_type": "code",
   "execution_count": 41,
   "metadata": {},
   "outputs": [],
   "source": [
    "# Dependencies and Setup\n",
    "import json\n",
    "import pandas as pd\n",
    "import requests\n",
    "import numpy as py\n",
    "from sqlalchemy.ext.declarative import declarative_base\n",
    "Base = declarative_base()\n",
    "from sqlalchemy import Column, Integer, String, Float, Date\n",
    "import pymysql\n",
    "pymysql.install_as_MySQLdb()\n",
    "from sqlalchemy import create_engine, inspect, func, distinct\n",
    "from sqlalchemy.ext.automap import automap_base\n",
    "from sqlalchemy.orm import Session\n",
    "import sqlite3\n",
    "from sqlite3 import Error\n",
    "import datetime as DT"
   ]
  },
  {
   "cell_type": "code",
   "execution_count": 3,
   "metadata": {},
   "outputs": [],
   "source": [
    "#Bring in data from internet as object then convert ot Json\n",
    "player_response_obj=requests.get(\"http://data.nba.net/prod/v1/2018/players.json\")\n",
    "player_response=player_response_obj.json()"
   ]
  },
  {
   "cell_type": "code",
   "execution_count": 4,
   "metadata": {},
   "outputs": [
    {
     "data": {
      "text/plain": [
       "499"
      ]
     },
     "execution_count": 4,
     "metadata": {},
     "output_type": "execute_result"
    }
   ],
   "source": [
    "# Count # of Players\n",
    "player_response_count=player_response[\"league\"][\"standard\"]\n",
    "player_count=len(player_response_count)\n",
    "player_count"
   ]
  },
  {
   "cell_type": "code",
   "execution_count": 5,
   "metadata": {},
   "outputs": [],
   "source": [
    "#Bring in elements for NBA_Player Table\n",
    "NBA_Players=[]\n",
    "\n",
    "for i in range (0,player_count-1):\n",
    "    player_response_list=player_response[\"league\"][\"standard\"][i]\n",
    "    firstName=player_response_list[\"firstName\"]\n",
    "    lastName=player_response_list[\"lastName\"]\n",
    "    personId=player_response_list[\"personId\"]\n",
    "    teamId=player_response_list[\"teamId\"]\n",
    "    heightFeet=player_response_list[\"heightFeet\"]\n",
    "    heightInches=player_response_list[\"heightInches\"]\n",
    "    weightPounds=player_response_list[\"weightPounds\"]\n",
    "    dateOfBirthUTC=player_response_list[\"dateOfBirthUTC\"]\n",
    "    collegeName=player_response_list[\"collegeName\"]\n",
    "\n",
    "    # Create an object list to store NBA Player data as an object\n",
    "   \n",
    "    NBA_Players.append({\"firstName\":firstName,\n",
    "                       \"lastName\":lastName,\n",
    "                       \"personId\":personId,\n",
    "                       \"teamId\":teamId,\n",
    "                       \"heightFeet\":heightFeet,\n",
    "                       \"heightInches\":heightInches,\n",
    "                       \"weightPounds\":weightPounds,\n",
    "                       \"dateOfBirth\":dateOfBirthUTC,\n",
    "                       \"collegeName\":collegeName})\n",
    "\n",
    "    #Test Object list\n",
    "    NBA_Players"
   ]
  },
  {
   "cell_type": "code",
   "execution_count": 53,
   "metadata": {},
   "outputs": [
    {
     "data": {
      "text/plain": [
       "personId                 int32\n",
       "lastName                object\n",
       "firstName               object\n",
       "teamId                   int32\n",
       "heightFeet               int32\n",
       "heightInches             int32\n",
       "weightPounds             int32\n",
       "dateOfBirth     datetime64[ns]\n",
       "collegeName             object\n",
       "dtype: object"
      ]
     },
     "execution_count": 53,
     "metadata": {},
     "output_type": "execute_result"
    }
   ],
   "source": [
    "NBA_Player_df_initial=pd.DataFrame(NBA_Players)\n",
    "NBA_Player_df_initial=NBA_Player_df_initial[(NBA_Player_df_initial[\"teamId\"] != '')]\n",
    "                                      \n",
    "NBA_Player_df=NBA_Player_df_initial[[\"personId\",\"lastName\",\"firstName\",\"teamId\",\n",
    "                                    \"heightFeet\",\"heightInches\",\"weightPounds\",\n",
    "                                    \"dateOfBirth\",\"collegeName\"]]\n",
    "\n",
    "NBA_Player_df[\"personId\"]=NBA_Player_df[\"personId\"].astype(int)\n",
    "NBA_Player_df[\"teamId\"]=NBA_Player_df[\"teamId\"].astype(int)                        \n",
    "NBA_Player_df[\"lastName\"]=NBA_Player_df[\"lastName\"].astype(str)\n",
    "NBA_Player_df[\"firstName\"]=NBA_Player_df[\"firstName\"].astype(str)\n",
    "NBA_Player_df[\"heightFeet\"]=NBA_Player_df[\"heightFeet\"].astype(int)\n",
    "NBA_Player_df[\"heightInches\"]=NBA_Player_df[\"heightInches\"].astype(int)\n",
    "NBA_Player_df[\"weightPounds\"]=NBA_Player_df[\"weightPounds\"].astype(int)\n",
    "NBA_Player_df[\"collegeName\"]=NBA_Player_df[\"collegeName\"].astype(str)\n",
    "NBA_Player_df['dateOfBirth'] = pd.to_datetime(NBA_Player_df['dateOfBirth'])\n",
    "\n",
    "NBA_Player_df.dtypes"
   ]
  },
  {
   "cell_type": "code",
   "execution_count": 54,
   "metadata": {},
   "outputs": [],
   "source": [
    "#Add Player Age\n",
    "now = pd.Timestamp(DT.datetime.now())\n",
    "NBA_Player_df['dob'] = pd.to_datetime(NBA_Player_df['dateOfBirth'], format='%m%d%y')    # 1\n",
    "NBA_Player_df['dob'] = NBA_Player_df['dateOfBirth'].where(NBA_Player_df['dateOfBirth'] < now, NBA_Player_df['dateOfBirth'] -  py.timedelta64(100, 'Y'))   # 2\n",
    "NBA_Player_df['age'] = (now - NBA_Player_df['dateOfBirth']).astype('<m8[Y]') "
   ]
  },
  {
   "cell_type": "code",
   "execution_count": 55,
   "metadata": {},
   "outputs": [],
   "source": [
    "NBA_Player_df=NBA_Player_df[[\"personId\",\"lastName\",\"firstName\",\"teamId\",\n",
    "                                    \"heightFeet\",\"heightInches\",\"weightPounds\",\n",
    "                                    \"dateOfBirth\",\"age\",\"collegeName\"]]"
   ]
  },
  {
   "cell_type": "code",
   "execution_count": 57,
   "metadata": {},
   "outputs": [
    {
     "data": {
      "text/plain": [
       "lastName                object\n",
       "firstName               object\n",
       "teamId                   int32\n",
       "heightFeet               int32\n",
       "heightInches             int32\n",
       "weightPounds             int32\n",
       "dateOfBirth     datetime64[ns]\n",
       "age                    float64\n",
       "collegeName             object\n",
       "dtype: object"
      ]
     },
     "execution_count": 57,
     "metadata": {},
     "output_type": "execute_result"
    }
   ],
   "source": [
    "NBA_Player_df.dtypes"
   ]
  },
  {
   "cell_type": "code",
   "execution_count": 56,
   "metadata": {},
   "outputs": [],
   "source": [
    "engine = create_engine(\"sqlite:///db/NBA_Data.sqlite\")\n",
    "conn = engine.connect()\n",
    "\n",
    "engine.table_names()\n",
    "\n",
    "NBA_Player_df.set_index(\"personId\", inplace=True)\n",
    "\n",
    "#Load Players_Info table\n",
    "NBA_Player_df.to_sql('Players_Info',conn, if_exists='replace', index=True)"
   ]
  }
 ],
 "metadata": {
  "kernelspec": {
   "display_name": "Python 3",
   "language": "python",
   "name": "python3"
  },
  "language_info": {
   "codemirror_mode": {
    "name": "ipython",
    "version": 3
   },
   "file_extension": ".py",
   "mimetype": "text/x-python",
   "name": "python",
   "nbconvert_exporter": "python",
   "pygments_lexer": "ipython3",
   "version": "3.6.6"
  }
 },
 "nbformat": 4,
 "nbformat_minor": 2
}
