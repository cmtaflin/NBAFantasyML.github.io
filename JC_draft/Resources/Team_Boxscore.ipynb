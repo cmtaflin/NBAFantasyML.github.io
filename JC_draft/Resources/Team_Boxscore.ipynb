{
 "cells": [
  {
   "cell_type": "code",
   "execution_count": 1,
   "metadata": {
    "tags": [
     "Done"
    ]
   },
   "outputs": [],
   "source": [
    "# Dependencies and Setup\n",
    "\n",
    "import json\n",
    "import pandas as pd\n",
    "import requests\n",
    "import numpy as py\n",
    "from sqlalchemy.ext.declarative import declarative_base\n",
    "Base = declarative_base()\n",
    "from sqlalchemy import Column, Integer, String, Float, Date\n",
    "import pymysql\n",
    "pymysql.install_as_MySQLdb()\n",
    "from sqlalchemy import create_engine, inspect, func, distinct\n",
    "from sqlalchemy.ext.automap import automap_base\n",
    "from sqlalchemy.orm import Session\n",
    "import sqlite3\n",
    "from sqlite3 import Error"
   ]
  },
  {
   "cell_type": "code",
   "execution_count": 2,
   "metadata": {
    "tags": [
     "done"
    ]
   },
   "outputs": [],
   "source": [
    "#Bring in data from internet as object then convert ot Json and count number of games\n",
    "\n",
    "# REQUEST\n",
    "schedule_response_obj=requests.get(\"http://data.nba.net/prod/v1/2018/schedule.json\")\n",
    "schedule_response=schedule_response_obj.json()\n",
    "\n",
    "# Count the number of Games for the season inschedule\n",
    "games_response_count=schedule_response[\"league\"][\"standard\"]\n",
    "seasongame_number=len(games_response_count)\n",
    "# seasongame_number"
   ]
  },
  {
   "cell_type": "code",
   "execution_count": 3,
   "metadata": {
    "tags": [
     "Start_loop_start_season"
    ]
   },
   "outputs": [],
   "source": [
    "###   Collect Elements for URL, append List, create DataFrame, DF_exclude games not played  ###\n",
    "\n",
    "# Bring in Game Id and GameData (\"startDataEastern\") elements from NBA Schedule later used to create box_score URL\n",
    "\n",
    "# Get elements\n",
    "NBA_Schedule=[]\n",
    "for item in schedule_response[\"league\"][\"standard\"]:\n",
    "    item_dict={}\n",
    "    item_dict[\"gameId\"]=item[\"gameId\"]\n",
    "    item_dict[\"startDateEastern\"]=item[\"startDateEastern\"]\n",
    "    item_dict[\"statusNum\"]=item[\"statusNum\"]\n",
    "\n",
    "# Append List\n",
    "    NBA_Schedule.append({\"gameid\":item_dict[\"gameId\"],\n",
    "                         \"startdateeastern\":item_dict[\"startDateEastern\"],\n",
    "                          \"statusnum\":item_dict[\"statusNum\"]})\n",
    "\n",
    "\n",
    "# Convert NBA_Schedule=[] list to DataFrame and modify Datatypes\n",
    "NBA_Schedule_DF_initial=pd.DataFrame(NBA_Schedule)\n",
    "NBA_Schedule_DF_initial[\"gameid\"]=NBA_Schedule_DF_initial[\"gameid\"].astype(int)\n",
    "NBA_Schedule_DF_initial[\"startdateeastern\"]=NBA_Schedule_DF_initial[\"startdateeastern\"].astype(int)\n",
    "NBA_Schedule_DF_initial[\"statusnum\"]=NBA_Schedule_DF_initial[\"statusnum\"].astype(int)\n",
    "\n",
    "# Exclude Games not Yet Played\n",
    "# OPEN: Exclude Pre-season Games\n",
    "NBA_Schedule_PlayedGM_DF=NBA_Schedule_DF_initial.loc[NBA_Schedule_DF_initial[\"statusnum\"]==3,:]"
   ]
  },
  {
   "cell_type": "code",
   "execution_count": 4,
   "metadata": {
    "tags": [
     "loop_start_reg_season"
    ]
   },
   "outputs": [],
   "source": [
    "## Count Games Played, Generate URL for each Game Played, and add to DF: NBA_Schedule_PlayedGM_DF\n",
    "\n",
    "# count the number of gamesId records collected (note: some are pre-season and some haven't been played)\n",
    "playedgame_count=len(NBA_Schedule_PlayedGM_DF[\"gameid\"])"
   ]
  },
  {
   "cell_type": "code",
   "execution_count": 5,
   "metadata": {
    "tags": [
     "loop_start_reg_season"
    ]
   },
   "outputs": [
    {
     "name": "stderr",
     "output_type": "stream",
     "text": [
      "C:\\Users\\JC\\AppData\\Local\\conda\\conda\\envs\\PythonData\\lib\\site-packages\\ipykernel_launcher.py:11: SettingWithCopyWarning: \n",
      "A value is trying to be set on a copy of a slice from a DataFrame.\n",
      "Try using .loc[row_indexer,col_indexer] = value instead\n",
      "\n",
      "See the caveats in the documentation: http://pandas.pydata.org/pandas-docs/stable/indexing.html#indexing-view-versus-copy\n",
      "  # This is added back by InteractiveShellApp.init_path()\n"
     ]
    },
    {
     "data": {
      "text/plain": [
       "gameid               int32\n",
       "startdateeastern     int32\n",
       "statusnum            int32\n",
       "boxscoreURL         object\n",
       "dtype: object"
      ]
     },
     "execution_count": 5,
     "metadata": {},
     "output_type": "execute_result"
    }
   ],
   "source": [
    "# Generate Box_Score_URL and append to List Box_Score_URL_List\n",
    "Box_score_URL_List=[]\n",
    "\n",
    "# # Loop to generate Box Score URL using Gameid and GameData (\"startDataEastern\")\n",
    "\n",
    "for game_box in range (0,playedgame_count):\n",
    "    Box_score_URL=F\"http://data.nba.net/prod/v1/{NBA_Schedule_PlayedGM_DF['startdateeastern'][game_box]}/00{NBA_Schedule_PlayedGM_DF['gameid'][game_box]}_boxscore.json\"\n",
    "#     Append list\n",
    "    Box_score_URL_List.append(Box_score_URL)\n",
    "    \n",
    "NBA_Schedule_PlayedGM_DF[\"boxscoreURL\"]=Box_score_URL_List\n",
    "NBA_Schedule_PlayedGM_DF.dtypes"
   ]
  },
  {
   "cell_type": "code",
   "execution_count": 20,
   "metadata": {
    "scrolled": false,
    "tags": [
     "Done"
    ]
   },
   "outputs": [],
   "source": [
    "# Box Score Request and request Object for i in range (0,playedgame_count) THEN\n",
    "# Loop through ALL Box Scores: Extract vteam and hteam basic box score data EXCLUDING: INDIVIDUAL PLAYER STATS \n",
    "\n",
    "Team_boxscores_list=[]\n",
    "for i in range (0,playedgame_count):\n",
    "    box_score_obj=requests.get(NBA_Schedule_PlayedGM_DF[\"boxscoreURL\"][i])\n",
    "    box_score_response=box_score_obj.json()\n",
    "    vteam_dict={}\n",
    "    vteam_dict[\"gameId\"]=box_score_response[\"basicGameData\"][\"gameId\"]\n",
    "    vteam_dict[\"teamId\"]=box_score_response[\"basicGameData\"][\"vTeam\"][\"teamId\"]\n",
    "    vteam_dict[\"fastBreakPoints\"]=box_score_response[\"stats\"][\"vTeam\"][\"fastBreakPoints\"]\n",
    "    vteam_dict[\"pointsInPaint\"]=box_score_response[\"stats\"][\"vTeam\"][\"pointsInPaint\"]\n",
    "    vteam_dict[\"secondChancePoints\"]=box_score_response[\"stats\"][\"vTeam\"][\"secondChancePoints\"]\n",
    "    vteam_dict[\"pointsOffTurnovers\"]=box_score_response[\"stats\"][\"vTeam\"][\"pointsOffTurnovers\"]\n",
    "    vteam_dict[\"points\"]=box_score_response[\"stats\"][\"vTeam\"][\"totals\"][\"points\"]\n",
    "    vteam_dict[\"fgm\"]=box_score_response[\"stats\"][\"vTeam\"][\"totals\"][\"fgm\"]\n",
    "    vteam_dict[\"fga\"]=box_score_response[\"stats\"][\"vTeam\"][\"totals\"][\"fga\"]\n",
    "    vteam_dict[\"fgp\"]=box_score_response[\"stats\"][\"vTeam\"][\"totals\"][\"fgp\"]\n",
    "    vteam_dict[\"ftm\"]=box_score_response[\"stats\"][\"vTeam\"][\"totals\"][\"ftm\"]\n",
    "    vteam_dict[\"fta\"]=box_score_response[\"stats\"][\"vTeam\"][\"totals\"][\"fta\"]\n",
    "    vteam_dict[\"ftp\"]=box_score_response[\"stats\"][\"vTeam\"][\"totals\"][\"ftp\"]\n",
    "    vteam_dict[\"tpm\"]=box_score_response[\"stats\"][\"vTeam\"][\"totals\"][\"tpm\"]\n",
    "    vteam_dict[\"tpa\"]=box_score_response[\"stats\"][\"vTeam\"][\"totals\"][\"tpa\"]\n",
    "    vteam_dict[\"tpp\"]=box_score_response[\"stats\"][\"vTeam\"][\"totals\"][\"tpp\"]\n",
    "    vteam_dict[\"offReb\"]=box_score_response[\"stats\"][\"vTeam\"][\"totals\"][\"offReb\"]\n",
    "    vteam_dict[\"defReb\"]=box_score_response[\"stats\"][\"vTeam\"][\"totals\"][\"defReb\"]\n",
    "    vteam_dict[\"totReb\"]=box_score_response[\"stats\"][\"vTeam\"][\"totals\"][\"totReb\"]\n",
    "    vteam_dict[\"assists\"]=box_score_response[\"stats\"][\"vTeam\"][\"totals\"][\"assists\"]\n",
    "    vteam_dict[\"pFouls\"]=box_score_response[\"stats\"][\"vTeam\"][\"totals\"][\"pFouls\"]\n",
    "    vteam_dict[\"steals\"]=box_score_response[\"stats\"][\"vTeam\"][\"totals\"][\"steals\"]\n",
    "    vteam_dict[\"turnovers\"]=box_score_response[\"stats\"][\"vTeam\"][\"totals\"][\"turnovers\"]\n",
    "    vteam_dict[\"blocks\"]=box_score_response[\"stats\"][\"vTeam\"][\"totals\"][\"blocks\"]\n",
    "    vteam_dict[\"plusMinus\"]=box_score_response[\"stats\"][\"vTeam\"][\"totals\"][\"plusMinus\"]\n",
    "\n",
    "    Team_boxscores_list.append({\"gameid\":vteam_dict[\"gameId\"],\n",
    "                                \"teamid\":vteam_dict[\"teamId\"],\n",
    "                                \"fastbreakpoints\":vteam_dict[\"fastBreakPoints\"],\n",
    "                                \"pointsinpaint\":vteam_dict[\"pointsInPaint\"],\n",
    "                                \"secondchancepoints\":vteam_dict[\"secondChancePoints\"],\n",
    "                                \"pointsoffturnovers\":vteam_dict[\"pointsOffTurnovers\"],\n",
    "                                \"points\":vteam_dict[\"points\"],\n",
    "                                \"fgm\":vteam_dict[\"fgm\"],\n",
    "                                \"fga\":vteam_dict[\"fga\"],\n",
    "                                \"fgp\":vteam_dict[\"fgp\"],\n",
    "                                \"ftm\":vteam_dict[\"ftm\"],\n",
    "                                \"fta\":vteam_dict[\"fta\"],\n",
    "                                \"ftp\":vteam_dict[\"ftp\"],\n",
    "                                \"tpm\":vteam_dict[\"tpm\"],\n",
    "                                \"tpa\":vteam_dict[\"tpa\"],\n",
    "                                \"tpp\":vteam_dict[\"tpp\"],\n",
    "                                \"offreb\":vteam_dict[\"offReb\"],\n",
    "                                \"defreb\":vteam_dict[\"defReb\"],\n",
    "                                \"totreb\":vteam_dict[\"totReb\"],\n",
    "                                \"assists\":vteam_dict[\"assists\"],\n",
    "                                \"pfouls\":vteam_dict[\"pFouls\"],\n",
    "                                \"steals\":vteam_dict[\"steals\"],\n",
    "                                \"turnovers\":vteam_dict[\"turnovers\"],\n",
    "                                \"blocks\":vteam_dict[\"blocks\"],\n",
    "                                \"plusminus\":vteam_dict[\"plusMinus\"]})\n",
    "\n",
    "    hteam_dict={}\n",
    "    hteam_dict[\"gameId\"]=box_score_response[\"basicGameData\"][\"gameId\"]\n",
    "    hteam_dict[\"teamId\"]=box_score_response[\"basicGameData\"][\"hTeam\"][\"teamId\"]\n",
    "    hteam_dict[\"fastBreakPoints\"]=box_score_response[\"stats\"][\"hTeam\"][\"fastBreakPoints\"]\n",
    "    hteam_dict[\"pointsInPaint\"]=box_score_response[\"stats\"][\"hTeam\"][\"pointsInPaint\"]\n",
    "    hteam_dict[\"secondChancePoints\"]=box_score_response[\"stats\"][\"hTeam\"][\"secondChancePoints\"]\n",
    "    hteam_dict[\"pointsOffTurnovers\"]=box_score_response[\"stats\"][\"hTeam\"][\"pointsOffTurnovers\"]\n",
    "    hteam_dict[\"points\"]=box_score_response[\"stats\"][\"hTeam\"][\"totals\"][\"points\"]\n",
    "    hteam_dict[\"fgm\"]=box_score_response[\"stats\"][\"hTeam\"][\"totals\"][\"fgm\"]\n",
    "    hteam_dict[\"fga\"]=box_score_response[\"stats\"][\"hTeam\"][\"totals\"][\"fga\"]\n",
    "    hteam_dict[\"fgp\"]=box_score_response[\"stats\"][\"hTeam\"][\"totals\"][\"fgp\"]\n",
    "    hteam_dict[\"ftm\"]=box_score_response[\"stats\"][\"hTeam\"][\"totals\"][\"ftm\"]\n",
    "    hteam_dict[\"fta\"]=box_score_response[\"stats\"][\"hTeam\"][\"totals\"][\"fta\"]\n",
    "    hteam_dict[\"ftp\"]=box_score_response[\"stats\"][\"hTeam\"][\"totals\"][\"ftp\"]\n",
    "    hteam_dict[\"tpm\"]=box_score_response[\"stats\"][\"hTeam\"][\"totals\"][\"tpm\"]\n",
    "    hteam_dict[\"tpa\"]=box_score_response[\"stats\"][\"hTeam\"][\"totals\"][\"tpa\"]\n",
    "    hteam_dict[\"tpp\"]=box_score_response[\"stats\"][\"hTeam\"][\"totals\"][\"tpp\"]\n",
    "    hteam_dict[\"offReb\"]=box_score_response[\"stats\"][\"hTeam\"][\"totals\"][\"offReb\"]\n",
    "    hteam_dict[\"defReb\"]=box_score_response[\"stats\"][\"hTeam\"][\"totals\"][\"defReb\"]\n",
    "    hteam_dict[\"totReb\"]=box_score_response[\"stats\"][\"hTeam\"][\"totals\"][\"totReb\"]\n",
    "    hteam_dict[\"assists\"]=box_score_response[\"stats\"][\"hTeam\"][\"totals\"][\"assists\"]\n",
    "    hteam_dict[\"pFouls\"]=box_score_response[\"stats\"][\"hTeam\"][\"totals\"][\"pFouls\"]\n",
    "    hteam_dict[\"steals\"]=box_score_response[\"stats\"][\"hTeam\"][\"totals\"][\"steals\"]\n",
    "    hteam_dict[\"turnovers\"]=box_score_response[\"stats\"][\"hTeam\"][\"totals\"][\"turnovers\"]\n",
    "    hteam_dict[\"blocks\"]=box_score_response[\"stats\"][\"hTeam\"][\"totals\"][\"blocks\"]\n",
    "    hteam_dict[\"plusMinus\"]=box_score_response[\"stats\"][\"hTeam\"][\"totals\"][\"plusMinus\"]\n",
    "\n",
    "    Team_boxscores_list.append({\"gameid\":hteam_dict[\"gameId\"],\n",
    "                                \"teamid\":hteam_dict[\"teamId\"],\n",
    "                                \"fastbreakpoints\":hteam_dict[\"fastBreakPoints\"],\n",
    "                                \"pointsinpaint\":hteam_dict[\"pointsInPaint\"],\n",
    "                                \"secondchancepoints\":hteam_dict[\"secondChancePoints\"],\n",
    "                                \"pointsoffturnovers\":hteam_dict[\"pointsOffTurnovers\"],\n",
    "                                \"points\":hteam_dict[\"points\"],\n",
    "                                \"fgm\":hteam_dict[\"fgm\"],\n",
    "                                \"fga\":hteam_dict[\"fga\"],\n",
    "                                \"fgp\":hteam_dict[\"fgp\"],\n",
    "                                \"ftm\":hteam_dict[\"ftm\"],\n",
    "                                \"fta\":hteam_dict[\"fta\"],\n",
    "                                \"ftp\":hteam_dict[\"ftp\"],\n",
    "                                \"tpm\":hteam_dict[\"tpm\"],\n",
    "                                \"tpa\":hteam_dict[\"tpa\"],\n",
    "                                \"tpp\":hteam_dict[\"tpp\"],\n",
    "                                \"offreb\":hteam_dict[\"offReb\"],\n",
    "                                \"defreb\":hteam_dict[\"defReb\"],\n",
    "                                \"totreb\":hteam_dict[\"totReb\"],\n",
    "                                \"assists\":hteam_dict[\"assists\"],\n",
    "                                \"pfouls\":hteam_dict[\"pFouls\"],\n",
    "                                \"steals\":hteam_dict[\"steals\"],\n",
    "                                \"turnovers\":hteam_dict[\"turnovers\"],\n",
    "                                \"blocks\":hteam_dict[\"blocks\"],\n",
    "                                \"plusminus\":hteam_dict[\"plusMinus\"]})"
   ]
  },
  {
   "cell_type": "code",
   "execution_count": 21,
   "metadata": {},
   "outputs": [
    {
     "data": {
      "text/plain": [
       "assists               float64\n",
       "blocks                float64\n",
       "defreb                float64\n",
       "fastbreakpoints       float64\n",
       "fga                   float64\n",
       "fgm                   float64\n",
       "fgp                   float64\n",
       "fta                   float64\n",
       "ftm                   float64\n",
       "ftp                   float64\n",
       "gameid                  int32\n",
       "offreb                float64\n",
       "pfouls                float64\n",
       "plusminus             float64\n",
       "points                float64\n",
       "pointsinpaint         float64\n",
       "pointsoffturnovers    float64\n",
       "secondchancepoints    float64\n",
       "steals                float64\n",
       "teamid                  int32\n",
       "totreb                float64\n",
       "tpa                   float64\n",
       "tpm                   float64\n",
       "tpp                   float64\n",
       "turnovers             float64\n",
       "dtype: object"
      ]
     },
     "execution_count": 21,
     "metadata": {},
     "output_type": "execute_result"
    }
   ],
   "source": [
    "Team_boxscores_df=pd.DataFrame(Team_boxscores_list)\n",
    "Team_boxscores_df[\"gameid\"]=Team_boxscores_df[\"gameid\"].astype(int)\n",
    "Team_boxscores_df[\"teamid\"]=Team_boxscores_df[\"teamid\"].astype(int)\n",
    "Team_boxscores_df[\"fastbreakpoints\"]=Team_boxscores_df[\"fastbreakpoints\"].astype(float)\n",
    "Team_boxscores_df[\"pointsinpaint\"]=Team_boxscores_df[\"pointsinpaint\"].astype(float)\n",
    "Team_boxscores_df[\"secondchancepoints\"]=Team_boxscores_df[\"secondchancepoints\"].astype(float)\n",
    "Team_boxscores_df[\"pointsoffturnovers\"]=Team_boxscores_df[\"pointsoffturnovers\"].astype(float)\n",
    "Team_boxscores_df[\"points\"]=Team_boxscores_df[\"points\"].astype(float)\n",
    "Team_boxscores_df[\"fgm\"]=Team_boxscores_df[\"fgm\"].astype(float)\n",
    "Team_boxscores_df[\"fga\"]=Team_boxscores_df[\"fga\"].astype(float)\n",
    "Team_boxscores_df[\"fgp\"]=Team_boxscores_df[\"fgp\"].astype(float)\n",
    "Team_boxscores_df[\"ftm\"]=Team_boxscores_df[\"ftm\"].astype(float)\n",
    "Team_boxscores_df[\"fta\"]=Team_boxscores_df[\"fta\"].astype(float)\n",
    "Team_boxscores_df[\"ftp\"]=Team_boxscores_df[\"ftp\"].astype(float)\n",
    "Team_boxscores_df[\"tpm\"]=Team_boxscores_df[\"tpm\"].astype(float)\n",
    "Team_boxscores_df[\"tpa\"]=Team_boxscores_df[\"tpa\"].astype(float)\n",
    "Team_boxscores_df[\"tpp\"]=Team_boxscores_df[\"tpp\"].astype(float)\n",
    "Team_boxscores_df[\"offreb\"]=Team_boxscores_df[\"offreb\"].astype(float)\n",
    "Team_boxscores_df[\"defreb\"]=Team_boxscores_df[\"defreb\"].astype(float)\n",
    "Team_boxscores_df[\"totreb\"]=Team_boxscores_df[\"totreb\"].astype(float)\n",
    "Team_boxscores_df[\"assists\"]=Team_boxscores_df[\"assists\"].astype(float)\n",
    "Team_boxscores_df[\"pfouls\"]=Team_boxscores_df[\"pfouls\"].astype(float)\n",
    "Team_boxscores_df[\"steals\"]=Team_boxscores_df[\"steals\"].astype(float)\n",
    "Team_boxscores_df[\"turnovers\"]=Team_boxscores_df[\"turnovers\"].astype(float)\n",
    "Team_boxscores_df[\"blocks\"]=Team_boxscores_df[\"blocks\"].astype(float)\n",
    "Team_boxscores_df[\"plusminus\"]=Team_boxscores_df[\"plusminus\"].astype(float)\n",
    "Team_boxscores_df.dtypes"
   ]
  },
  {
   "cell_type": "code",
   "execution_count": 14,
   "metadata": {},
   "outputs": [
    {
     "data": {
      "text/plain": [
       "['All_Teams',\n",
       " 'NBA_Fantasy_Draft',\n",
       " 'Team_Locations',\n",
       " 'Team_Schedule',\n",
       " 'Team_Stats',\n",
       " 'season_2016_2017',\n",
       " 'season_2017_2018']"
      ]
     },
     "execution_count": 14,
     "metadata": {},
     "output_type": "execute_result"
    }
   ],
   "source": [
    "engine = create_engine(\"sqlite:///db/NBA_Data.sqlite\")\n",
    "conn = engine.connect()\n",
    "\n",
    "engine.table_names()"
   ]
  },
  {
   "cell_type": "code",
   "execution_count": 23,
   "metadata": {},
   "outputs": [],
   "source": [
    "Team_boxscores_df.set_index(\"teamid\", inplace=True)\n",
    "\n",
    "#Load Team_Stats table\n",
    "Team_boxscores_df.to_sql('Team_Stats',conn, if_exists='replace', index=True)"
   ]
  },
  {
   "cell_type": "code",
   "execution_count": null,
   "metadata": {},
   "outputs": [],
   "source": []
  }
 ],
 "metadata": {
  "celltoolbar": "Tags",
  "kernelspec": {
   "display_name": "Python 3",
   "language": "python",
   "name": "python3"
  },
  "language_info": {
   "codemirror_mode": {
    "name": "ipython",
    "version": 3
   },
   "file_extension": ".py",
   "mimetype": "text/x-python",
   "name": "python",
   "nbconvert_exporter": "python",
   "pygments_lexer": "ipython3",
   "version": "3.6.6"
  }
 },
 "nbformat": 4,
 "nbformat_minor": 2
}
